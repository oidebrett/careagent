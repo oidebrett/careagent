{
 "cells": [
  {
   "cell_type": "markdown",
   "id": "db8736a7-ed94-441c-9556-831fa57b5a10",
   "metadata": {},
   "source": [
    "# The Caring Home / Helpful Home Continued\n",
    "\n",
    "A model that can look for non normal situations in a elderly person home, from smart home IoT sensors.\n",
    "\n",
    "## Enter The Tabular Data Model!\n",
    "\n",
    "And now - we put Tabular Data Models to the test.\n",
    "\n"
   ]
  },
  {
   "cell_type": "code",
   "execution_count": 1,
   "id": "681c717b-4c24-4ac3-a5f3-3c5881d6e70a",
   "metadata": {},
   "outputs": [],
   "source": [
    "# imports\n",
    "\n",
    "import os\n",
    "import re\n",
    "import math\n",
    "import json\n",
    "import random\n",
    "from dotenv import load_dotenv\n",
    "from items import Item\n",
    "import matplotlib.pyplot as plt\n",
    "import numpy as np\n",
    "import pandas as pd\n",
    "import pickle\n",
    "from collections import Counter\n",
    "import joblib\n"
   ]
  },
  {
   "cell_type": "code",
   "execution_count": 2,
   "id": "099574d6-57b5-4908-a010-fb38209c9c15",
   "metadata": {},
   "outputs": [],
   "source": [
    "# Import the machine learning libs\n",
    "from sklearn.model_selection import train_test_split\n",
    "from sklearn.metrics import classification_report, roc_auc_score\n",
    "from tabpfn import TabPFNClassifier\n",
    "\n"
   ]
  },
  {
   "cell_type": "code",
   "execution_count": 3,
   "id": "21a3833e-4093-43b0-8f7b-839c50b911ea",
   "metadata": {},
   "outputs": [],
   "source": [
    "# moved our Tester into a separate package\n",
    "# call it with Tester.test(function_name, test_dataset)\n",
    "\n",
    "from testing import Tester"
   ]
  },
  {
   "cell_type": "code",
   "execution_count": 4,
   "id": "36d05bdc-0155-4c72-a7ee-aa4e614ffd3c",
   "metadata": {},
   "outputs": [
    {
     "data": {
      "text/plain": [
       "True"
      ]
     },
     "execution_count": 4,
     "metadata": {},
     "output_type": "execute_result"
    }
   ],
   "source": [
    "# environment\n",
    "\n",
    "load_dotenv()\n"
   ]
  },
  {
   "cell_type": "code",
   "execution_count": 5,
   "id": "c830ed3e-24ee-4af6-a07b-a1bfdcd39278",
   "metadata": {},
   "outputs": [],
   "source": [
    "%matplotlib inline"
   ]
  },
  {
   "cell_type": "code",
   "execution_count": 6,
   "id": "5c9b05f4-c9eb-462c-8d86-de9140a2d985",
   "metadata": {},
   "outputs": [],
   "source": [
    "# Let's avoid curating all our data again! Load in the pickle files:\n",
    "\n",
    "with open('train.pkl', 'rb') as file:\n",
    "    train = pickle.load(file)\n",
    "\n",
    "with open('test.pkl', 'rb') as file:\n",
    "    test = pickle.load(file)"
   ]
  },
  {
   "cell_type": "markdown",
   "id": "066fef03-8338-4526-9df3-89b649ad4f0a",
   "metadata": {},
   "source": [
    "## First, the TabPFN\n",
    "\n",
    "It's called TabPFN, Its a foundation model for tabular data that outperforms traditional methods while being dramatically faster. This repository contains the core PyTorch implementation with CUDA optimization."
   ]
  },
  {
   "cell_type": "code",
   "execution_count": 7,
   "id": "eecf5f61-5c4b-447f-a162-f2d8cccbcd92",
   "metadata": {},
   "outputs": [
    {
     "data": {
      "text/plain": [
       "'[{\"timestamp\": 1738684800, \"room\": \"kitchen\", \"nodeId\": 2, \"endpointId\": 1, \"attribute\": {\"OnOff\": {\"OnOff\": true}}}, {\"timestamp\": 1738684860, \"room\": \"kitchen\", \"nodeId\": 2, \"endpointId\": 1, \"attribute\": {\"Event\": {\"Event\": \"fridge_opened\"}}}, {\"timestamp\": 1738684920, \"room\": \"kitchen\", \"nodeId\": 2, \"endpointId\": 1, \"attribute\": {\"OnOff\": {\"OnOff\": false}}}, {\"timestamp\": 1738684980, \"room\": \"kitchen\", \"nodeId\": 2, \"endpointId\": 1, \"attribute\": {\"Event\": {\"Event\": \"fridge_opened\"}}}, {\"timestamp\": 1738685040, \"room\": \"kitchen\", \"nodeId\": 2, \"endpointId\": 1, \"attribute\": {\"OnOff\": {\"OnOff\": false}}}]\\n'"
      ]
     },
     "execution_count": 7,
     "metadata": {},
     "output_type": "execute_result"
    }
   ],
   "source": [
    "train[0].details"
   ]
  },
  {
   "cell_type": "code",
   "execution_count": 21,
   "id": "7b04b8bd-dd36-4474-af10-08b4efc325c9",
   "metadata": {},
   "outputs": [],
   "source": [
    "#Here comments some feature engineering to convert the raw sensor data into meaningful features dynamically.\n",
    "def flatten_entry(entry):\n",
    "    \"\"\"Flatten a single JSON-like entry with indexed keys.\"\"\"\n",
    "    flat_dict = {}\n",
    "    logs = json.loads(entry.details.strip())\n",
    "\n",
    "\n",
    "    for i, log in enumerate(logs):\n",
    "        for key, value in log.items():\n",
    "            flat_dict[f\"{i}.{key}\"] = value\n",
    "\n",
    "    flat_dict['result'] = entry.result\n",
    "    return flat_dict\n",
    "\n",
    "def prepare_features(data):\n",
    "    \"\"\"Convert the raw sensor data into meaningful features dynamically.\"\"\"\n",
    "    features = {}\n",
    "    \n",
    "    # Load events from data.details (which could be a JSON string, list of JSON strings, or list of dicts)\n",
    "    if isinstance(data.details, str):\n",
    "        events = json.loads(data.details)\n",
    "    elif isinstance(data.details, list) and all(isinstance(item, str) for item in data.details):\n",
    "        events = [json.loads(event) for event in data.details]\n",
    "    else:  \n",
    "        events = data.details\n",
    "\n",
    "    # Dynamic room counts: count visits for every room seen in the events\n",
    "    room_counts = {}\n",
    "    for event in events:\n",
    "        room = event.get('room')\n",
    "        if room is not None:\n",
    "            room_counts[room] = room_counts.get(room, 0) + 1\n",
    "    # Add dynamic room count features (keys will be like 'room_kitchen_visits', etc.)\n",
    "    for room, count in room_counts.items():\n",
    "        features[f'room_{room}_visits'] = count\n",
    "\n",
    "    # Timestamp based features:\n",
    "    # Calculate average and maximum time between consecutive events\n",
    "    timestamps = [event.get('timestamp') for event in events if 'timestamp' in event]\n",
    "    if len(timestamps) > 1:\n",
    "        diffs = np.diff(timestamps)\n",
    "        features['avg_time_between_events'] = float(np.mean(diffs))\n",
    "        features['max_time_between_events'] = float(np.max(diffs))\n",
    "    else:\n",
    "        features['avg_time_between_events'] = 0.0\n",
    "        features['max_time_between_events'] = 0.0\n",
    "    \n",
    "    # Count rapid transitions (events less than 2 minutes apart)\n",
    "    rapid_transitions = 0\n",
    "    for i in range(len(timestamps) - 1):\n",
    "        if timestamps[i+1] - timestamps[i] < 120:\n",
    "            rapid_transitions += 1\n",
    "    features['rapid_transitions'] = rapid_transitions\n",
    "\n",
    "    # Attribute features:\n",
    "    # For each attribute present, create a feature (e.g., \"TemperatureMeasurement_MeasuredValue\")\n",
    "    # and aggregate by taking the average value for that attribute over the period.\n",
    "    attr_values = {}  # key: feature name, value: list of measurements\n",
    "    for event in events:\n",
    "        attr = event.get('attribute', {})\n",
    "        # Each event's attribute is assumed to be a dict with a single key\n",
    "        for attr_name, inner in attr.items():\n",
    "            # inner is a dict (e.g., {\"MeasuredValue\": 1901} or {\"Occupancy\": 1})\n",
    "            for inner_key, value in inner.items():\n",
    "                feature_key = f\"{attr_name}_{inner_key}\"\n",
    "                try:\n",
    "                    numeric_value = float(value)\n",
    "                except (ValueError, TypeError):\n",
    "                    continue\n",
    "                if feature_key not in attr_values:\n",
    "                    attr_values[feature_key] = []\n",
    "                attr_values[feature_key].append(numeric_value)\n",
    "    \n",
    "    # Compute the average for each attribute feature if available\n",
    "    for key, values in attr_values.items():\n",
    "        features[key] = float(np.mean(values))\n",
    "    \n",
    "    return features\n"
   ]
  },
  {
   "cell_type": "code",
   "execution_count": 22,
   "id": "550d7a8f-599f-44fe-9545-8bc225b7de53",
   "metadata": {},
   "outputs": [
    {
     "data": {
      "text/plain": [
       "{'room_pillbox_visits': 1,\n",
       " 'room_bedroom_visits': 1,\n",
       " 'room_bathroom_visits': 2,\n",
       " 'avg_time_between_events': 200.0,\n",
       " 'max_time_between_events': 300.0,\n",
       " 'rapid_transitions': 1,\n",
       " 'OnOff_OnOff': 0.75}"
      ]
     },
     "execution_count": 22,
     "metadata": {},
     "output_type": "execute_result"
    }
   ],
   "source": [
    "prepare_features(test[2])"
   ]
  },
  {
   "cell_type": "code",
   "execution_count": 23,
   "id": "f316fd18-d085-4b6b-a29b-d76032530b2f",
   "metadata": {},
   "outputs": [],
   "source": [
    "# We are going to flatten the log entries and turn into tabular data\n",
    "\n",
    "def flatten_entry(entry):\n",
    "    \"\"\"Flatten a single JSON-like entry with indexed keys.\"\"\"\n",
    "    flat_dict = {}\n",
    "    logs = json.loads(entry.details.strip())\n",
    "\n",
    "\n",
    "    for i, log in enumerate(logs):\n",
    "        for key, value in log.items():\n",
    "            flat_dict[f\"{i}.{key}\"] = value\n",
    "\n",
    "    flat_dict['result'] = entry.result\n",
    "    return flat_dict\n",
    "\n",
    "\n",
    "def prepare_tabular_data2(data, feature_names=None):\n",
    "    \"\"\"Convert a list of JSON entries into a Pandas DataFrame.\"\"\"\n",
    "    flattened_data = [flatten_entry(entry) for entry in data]\n",
    "    df = pd.DataFrame(flattened_data)\n",
    "    df = df.fillna('missing')  # Handle missing values\n",
    "    \n",
    "    if feature_names:\n",
    "        missing_features = {feature: 'missing' for feature in feature_names if feature not in df.columns}\n",
    "        df = pd.concat([df, pd.DataFrame(missing_features, index=df.index)], axis=1)\n",
    "        df = df[feature_names]\n",
    "    \n",
    "    return df.astype(str)  # Ensure all data is of string type\n",
    "\n",
    "def prepare_tabular_data(data, feature_names=None):\n",
    "    \"\"\"Convert a list of JSON entries into a Pandas DataFrame with engineered features.\"\"\"\n",
    "    flattened_data = []\n",
    "    for entry in data:\n",
    "        features = prepare_features(entry)\n",
    "        features['result'] = entry.result\n",
    "        flattened_data.append(features)\n",
    "    \n",
    "    df = pd.DataFrame(flattened_data)\n",
    "    df = df.fillna('missing')  # Handle missing values\n",
    "    \n",
    "    if feature_names:\n",
    "        missing_features = {feature: 'missing' for feature in feature_names if feature not in df.columns}\n",
    "        df = pd.concat([df, pd.DataFrame(missing_features, index=df.index)], axis=1)\n",
    "        df = df[feature_names]\n",
    "    \n",
    "    return df.astype(str)  # Ensure all data is of string type"
   ]
  },
  {
   "cell_type": "code",
   "execution_count": 24,
   "id": "eda7008d-e7aa-40b9-9c50-957d361fe2e2",
   "metadata": {},
   "outputs": [
    {
     "data": {
      "text/html": [
       "<div>\n",
       "<style scoped>\n",
       "    .dataframe tbody tr th:only-of-type {\n",
       "        vertical-align: middle;\n",
       "    }\n",
       "\n",
       "    .dataframe tbody tr th {\n",
       "        vertical-align: top;\n",
       "    }\n",
       "\n",
       "    .dataframe thead th {\n",
       "        text-align: right;\n",
       "    }\n",
       "</style>\n",
       "<table border=\"1\" class=\"dataframe\">\n",
       "  <thead>\n",
       "    <tr style=\"text-align: right;\">\n",
       "      <th></th>\n",
       "      <th>room_kitchen_visits</th>\n",
       "      <th>avg_time_between_events</th>\n",
       "      <th>max_time_between_events</th>\n",
       "      <th>rapid_transitions</th>\n",
       "      <th>OnOff_OnOff</th>\n",
       "      <th>result</th>\n",
       "      <th>room_bathroom_visits</th>\n",
       "      <th>room_livingroom_visits</th>\n",
       "      <th>room_bedroom_visits</th>\n",
       "      <th>room_pillbox_visits</th>\n",
       "      <th>RelativeHumidityMeasurement_MeasuredValue</th>\n",
       "      <th>OccupancySensing_Occupancy</th>\n",
       "      <th>room_hall_visits</th>\n",
       "      <th>room_porch_visits</th>\n",
       "    </tr>\n",
       "  </thead>\n",
       "  <tbody>\n",
       "    <tr>\n",
       "      <th>0</th>\n",
       "      <td>5.0</td>\n",
       "      <td>60.0</td>\n",
       "      <td>60.0</td>\n",
       "      <td>4</td>\n",
       "      <td>0.3333333333333333</td>\n",
       "      <td>anomalous</td>\n",
       "      <td>missing</td>\n",
       "      <td>missing</td>\n",
       "      <td>missing</td>\n",
       "      <td>missing</td>\n",
       "      <td>missing</td>\n",
       "      <td>missing</td>\n",
       "      <td>missing</td>\n",
       "      <td>missing</td>\n",
       "    </tr>\n",
       "    <tr>\n",
       "      <th>1</th>\n",
       "      <td>missing</td>\n",
       "      <td>300.0</td>\n",
       "      <td>300.0</td>\n",
       "      <td>0</td>\n",
       "      <td>0.5</td>\n",
       "      <td>normal</td>\n",
       "      <td>2.0</td>\n",
       "      <td>missing</td>\n",
       "      <td>missing</td>\n",
       "      <td>missing</td>\n",
       "      <td>missing</td>\n",
       "      <td>missing</td>\n",
       "      <td>missing</td>\n",
       "      <td>missing</td>\n",
       "    </tr>\n",
       "    <tr>\n",
       "      <th>2</th>\n",
       "      <td>missing</td>\n",
       "      <td>60.0</td>\n",
       "      <td>60.0</td>\n",
       "      <td>2</td>\n",
       "      <td>missing</td>\n",
       "      <td>normal</td>\n",
       "      <td>3.0</td>\n",
       "      <td>missing</td>\n",
       "      <td>missing</td>\n",
       "      <td>missing</td>\n",
       "      <td>missing</td>\n",
       "      <td>missing</td>\n",
       "      <td>missing</td>\n",
       "      <td>missing</td>\n",
       "    </tr>\n",
       "    <tr>\n",
       "      <th>3</th>\n",
       "      <td>2.0</td>\n",
       "      <td>60.0</td>\n",
       "      <td>60.0</td>\n",
       "      <td>2</td>\n",
       "      <td>missing</td>\n",
       "      <td>normal</td>\n",
       "      <td>missing</td>\n",
       "      <td>1.0</td>\n",
       "      <td>missing</td>\n",
       "      <td>missing</td>\n",
       "      <td>missing</td>\n",
       "      <td>missing</td>\n",
       "      <td>missing</td>\n",
       "      <td>missing</td>\n",
       "    </tr>\n",
       "    <tr>\n",
       "      <th>4</th>\n",
       "      <td>1.0</td>\n",
       "      <td>1830.0</td>\n",
       "      <td>3600.0</td>\n",
       "      <td>1</td>\n",
       "      <td>missing</td>\n",
       "      <td>anomalous</td>\n",
       "      <td>missing</td>\n",
       "      <td>missing</td>\n",
       "      <td>2.0</td>\n",
       "      <td>missing</td>\n",
       "      <td>missing</td>\n",
       "      <td>missing</td>\n",
       "      <td>missing</td>\n",
       "      <td>missing</td>\n",
       "    </tr>\n",
       "    <tr>\n",
       "      <th>...</th>\n",
       "      <td>...</td>\n",
       "      <td>...</td>\n",
       "      <td>...</td>\n",
       "      <td>...</td>\n",
       "      <td>...</td>\n",
       "      <td>...</td>\n",
       "      <td>...</td>\n",
       "      <td>...</td>\n",
       "      <td>...</td>\n",
       "      <td>...</td>\n",
       "      <td>...</td>\n",
       "      <td>...</td>\n",
       "      <td>...</td>\n",
       "      <td>...</td>\n",
       "    </tr>\n",
       "    <tr>\n",
       "      <th>83</th>\n",
       "      <td>6.0</td>\n",
       "      <td>1780.0</td>\n",
       "      <td>16140.0</td>\n",
       "      <td>8</td>\n",
       "      <td>0.5909090909090909</td>\n",
       "      <td>anomalous</td>\n",
       "      <td>3.0</td>\n",
       "      <td>9.0</td>\n",
       "      <td>5.0</td>\n",
       "      <td>3.0</td>\n",
       "      <td>6500.0</td>\n",
       "      <td>0.875</td>\n",
       "      <td>3.0</td>\n",
       "      <td>2.0</td>\n",
       "    </tr>\n",
       "    <tr>\n",
       "      <th>84</th>\n",
       "      <td>missing</td>\n",
       "      <td>1220.0</td>\n",
       "      <td>3540.0</td>\n",
       "      <td>2</td>\n",
       "      <td>missing</td>\n",
       "      <td>normal</td>\n",
       "      <td>missing</td>\n",
       "      <td>missing</td>\n",
       "      <td>missing</td>\n",
       "      <td>4.0</td>\n",
       "      <td>missing</td>\n",
       "      <td>missing</td>\n",
       "      <td>missing</td>\n",
       "      <td>missing</td>\n",
       "    </tr>\n",
       "    <tr>\n",
       "      <th>85</th>\n",
       "      <td>missing</td>\n",
       "      <td>60.0</td>\n",
       "      <td>60.0</td>\n",
       "      <td>3</td>\n",
       "      <td>missing</td>\n",
       "      <td>anomalous</td>\n",
       "      <td>4.0</td>\n",
       "      <td>missing</td>\n",
       "      <td>missing</td>\n",
       "      <td>missing</td>\n",
       "      <td>7500.0</td>\n",
       "      <td>missing</td>\n",
       "      <td>missing</td>\n",
       "      <td>missing</td>\n",
       "    </tr>\n",
       "    <tr>\n",
       "      <th>86</th>\n",
       "      <td>missing</td>\n",
       "      <td>60.0</td>\n",
       "      <td>60.0</td>\n",
       "      <td>2</td>\n",
       "      <td>missing</td>\n",
       "      <td>anomalous</td>\n",
       "      <td>3.0</td>\n",
       "      <td>missing</td>\n",
       "      <td>missing</td>\n",
       "      <td>missing</td>\n",
       "      <td>7500.0</td>\n",
       "      <td>missing</td>\n",
       "      <td>missing</td>\n",
       "      <td>missing</td>\n",
       "    </tr>\n",
       "    <tr>\n",
       "      <th>87</th>\n",
       "      <td>3.0</td>\n",
       "      <td>2446.153846153846</td>\n",
       "      <td>3600.0</td>\n",
       "      <td>2</td>\n",
       "      <td>0.7142857142857143</td>\n",
       "      <td>anomalous</td>\n",
       "      <td>3.0</td>\n",
       "      <td>missing</td>\n",
       "      <td>20.0</td>\n",
       "      <td>1.0</td>\n",
       "      <td>6500.0</td>\n",
       "      <td>1.0</td>\n",
       "      <td>missing</td>\n",
       "      <td>missing</td>\n",
       "    </tr>\n",
       "  </tbody>\n",
       "</table>\n",
       "<p>88 rows × 14 columns</p>\n",
       "</div>"
      ],
      "text/plain": [
       "   room_kitchen_visits avg_time_between_events max_time_between_events  \\\n",
       "0                  5.0                    60.0                    60.0   \n",
       "1              missing                   300.0                   300.0   \n",
       "2              missing                    60.0                    60.0   \n",
       "3                  2.0                    60.0                    60.0   \n",
       "4                  1.0                  1830.0                  3600.0   \n",
       "..                 ...                     ...                     ...   \n",
       "83                 6.0                  1780.0                 16140.0   \n",
       "84             missing                  1220.0                  3540.0   \n",
       "85             missing                    60.0                    60.0   \n",
       "86             missing                    60.0                    60.0   \n",
       "87                 3.0       2446.153846153846                  3600.0   \n",
       "\n",
       "   rapid_transitions         OnOff_OnOff     result room_bathroom_visits  \\\n",
       "0                  4  0.3333333333333333  anomalous              missing   \n",
       "1                  0                 0.5     normal                  2.0   \n",
       "2                  2             missing     normal                  3.0   \n",
       "3                  2             missing     normal              missing   \n",
       "4                  1             missing  anomalous              missing   \n",
       "..               ...                 ...        ...                  ...   \n",
       "83                 8  0.5909090909090909  anomalous                  3.0   \n",
       "84                 2             missing     normal              missing   \n",
       "85                 3             missing  anomalous                  4.0   \n",
       "86                 2             missing  anomalous                  3.0   \n",
       "87                 2  0.7142857142857143  anomalous                  3.0   \n",
       "\n",
       "   room_livingroom_visits room_bedroom_visits room_pillbox_visits  \\\n",
       "0                 missing             missing             missing   \n",
       "1                 missing             missing             missing   \n",
       "2                 missing             missing             missing   \n",
       "3                     1.0             missing             missing   \n",
       "4                 missing                 2.0             missing   \n",
       "..                    ...                 ...                 ...   \n",
       "83                    9.0                 5.0                 3.0   \n",
       "84                missing             missing                 4.0   \n",
       "85                missing             missing             missing   \n",
       "86                missing             missing             missing   \n",
       "87                missing                20.0                 1.0   \n",
       "\n",
       "   RelativeHumidityMeasurement_MeasuredValue OccupancySensing_Occupancy  \\\n",
       "0                                    missing                    missing   \n",
       "1                                    missing                    missing   \n",
       "2                                    missing                    missing   \n",
       "3                                    missing                    missing   \n",
       "4                                    missing                    missing   \n",
       "..                                       ...                        ...   \n",
       "83                                    6500.0                      0.875   \n",
       "84                                   missing                    missing   \n",
       "85                                    7500.0                    missing   \n",
       "86                                    7500.0                    missing   \n",
       "87                                    6500.0                        1.0   \n",
       "\n",
       "   room_hall_visits room_porch_visits  \n",
       "0           missing           missing  \n",
       "1           missing           missing  \n",
       "2           missing           missing  \n",
       "3           missing           missing  \n",
       "4           missing           missing  \n",
       "..              ...               ...  \n",
       "83              3.0               2.0  \n",
       "84          missing           missing  \n",
       "85          missing           missing  \n",
       "86          missing           missing  \n",
       "87          missing           missing  \n",
       "\n",
       "[88 rows x 14 columns]"
      ]
     },
     "execution_count": 24,
     "metadata": {},
     "output_type": "execute_result"
    }
   ],
   "source": [
    "prepare_tabular_data(train)"
   ]
  },
  {
   "cell_type": "code",
   "execution_count": 25,
   "id": "06d0125b-22a8-4f99-950b-4e9fdc1a258f",
   "metadata": {},
   "outputs": [],
   "source": [
    "# We will train the anomlay detector using the tabPFN model\n",
    "\n",
    "def train_anomaly_detector(json_data):\n",
    "    \"\"\"Train a TabPFN model to detect anomalies.\"\"\"\n",
    "    df = prepare_tabular_data(json_data)\n",
    "    \n",
    "    # Separate features and labels\n",
    "    X = df.drop(columns=['result'], errors='ignore')\n",
    "    y = (df['result'] == 'anomalous').astype(int)  # Binary classification\n",
    "\n",
    "    # Convert all columns to string type to avoid type issues\n",
    "    X = X.astype(str)\n",
    "\n",
    "    # Split the data\n",
    "    X_train, X_test, y_train, y_test = train_test_split(X, y, test_size=0.2, random_state=42)\n",
    "\n",
    "    # Initialize TabPFN classifier\n",
    "    model = TabPFNClassifier()\n",
    "    model.fit(X_train, y_train)\n",
    "\n",
    "    # Predict probabilities\n",
    "    prediction_probabilities = model.predict_proba(X_test)\n",
    "    print(\"ROC AUC:\", roc_auc_score(y_test, prediction_probabilities[:, 1]))\n",
    "\n",
    "    # Predict labels\n",
    "    y_pred = model.predict(X_test)\n",
    "    print(classification_report(y_test, y_pred))\n",
    "\n",
    "    return model, X_train.columns.tolist()\n"
   ]
  },
  {
   "cell_type": "code",
   "execution_count": 26,
   "id": "6b1e9de8-41af-4f6e-a448-4da1d04a7a06",
   "metadata": {},
   "outputs": [
    {
     "name": "stdout",
     "output_type": "stream",
     "text": [
      "ROC AUC: 0.9090909090909091\n",
      "              precision    recall  f1-score   support\n",
      "\n",
      "           0       0.62      0.71      0.67         7\n",
      "           1       0.80      0.73      0.76        11\n",
      "\n",
      "    accuracy                           0.72        18\n",
      "   macro avg       0.71      0.72      0.71        18\n",
      "weighted avg       0.73      0.72      0.72        18\n",
      "\n"
     ]
    }
   ],
   "source": [
    "# Lets create a model\n",
    "model, feature_names = train_anomaly_detector(train)"
   ]
  },
  {
   "cell_type": "code",
   "execution_count": 27,
   "id": "5e66e5c5-b780-4ebb-98f4-f2ed76769d8c",
   "metadata": {},
   "outputs": [],
   "source": [
    "# We make a function to predict an anomaly\n",
    "def predict_anomaly(model, new_data, feature_names):\n",
    "    \"\"\"Predict if a new datapoint is anomalous using TabPFN.\"\"\"\n",
    "    df = prepare_tabular_data([new_data], feature_names)\n",
    "    X = df.drop(columns=['result'], errors='ignore')\n",
    "\n",
    "    # Ensure no NaN values are present\n",
    "    X = X.fillna('missing')\n",
    "\n",
    "    # Ensure the feature order matches the training order\n",
    "    X = X[feature_names]\n",
    "\n",
    "    prediction = model.predict(X)\n",
    "    probability = model.predict_proba(X)\n",
    "\n",
    "    return {\n",
    "        'is_anomalous': bool(prediction[0]),\n",
    "        'confidence': float(max(probability[0])),\n",
    "        'features_used': list(X.columns)\n",
    "    }\n"
   ]
  },
  {
   "cell_type": "code",
   "execution_count": 28,
   "id": "9e4017b1-9e09-45da-9bc2-7639e22cb3db",
   "metadata": {},
   "outputs": [],
   "source": [
    "test[0].details = '[{\"timestamp\":1738152000,\"room\":\"pillbox\",\"nodeId\":1,\"onOff\":true},{\"timestamp\":1738152060,\"room\":\"bedroom\",\"nodeId\":2,\"onOff\":true},{\"timestamp\":1738152300,\"room\":\"bathroom\",\"nodeId\":2,\"onOff\":true},{\"timestamp\":1738152600,\"room\":\"bathroom\",\"nodeId\":3,\"humidity\":6500},{\"timestamp\":1738152900,\"room\":\"bathroom\",\"nodeId\":2,\"onOff\":false},{\"timestamp\":1738153200,\"room\":\"kitchen\",\"nodeId\":2,\"onOff\":true},{\"timestamp\":1738153260,\"room\":\"kitchen\",\"event\":\"fridge_opened\"},{\"timestamp\":1738153800,\"room\":\"kitchen\",\"nodeId\":2,\"onOff\":false},{\"timestamp\":1738154100,\"room\":\"livingroom\",\"nodeId\":2,\"onOff\":true},{\"timestamp\":1738154400,\"room\":\"livingroom\",\"nodeId\":1,\"occupancy\":1},{\"timestamp\":1738155600,\"room\":\"livingroom\",\"nodeId\":2,\"onOff\":false},{\"timestamp\":1738156800,\"room\":\"hall\",\"nodeId\":1,\"occupancy\":1},{\"timestamp\":1738157400,\"room\":\"porch\",\"nodeId\":1,\"occupancy\":1},{\"timestamp\":1738157460,\"room\":\"hall\",\"nodeId\":1,\"occupancy\":0},{\"timestamp\":1738173600,\"room\":\"porch\",\"nodeId\":1,\"occupancy\":0},{\"timestamp\":1738184400,\"room\":\"porch\",\"nodeId\":1,\"occupancy\":0},{\"timestamp\":1738195200,\"room\":\"porch\",\"nodeId\":1,\"occupancy\":0},{\"timestamp\":1738206000,\"room\":\"porch\",\"nodeId\":1,\"occupancy\":0},{\"timestamp\":1738206100,\"room\":\"ballroom\",\"nodeId\":1,\"occupancy\":0},{\"timestamp\":1738206200,\"room\":\"snookerroom\",\"nodeId\":1,\"occupancy\":0}]'"
   ]
  },
  {
   "cell_type": "code",
   "execution_count": 29,
   "id": "14159397-5059-4acf-a2b4-6011a29fa8d4",
   "metadata": {},
   "outputs": [
    {
     "data": {
      "text/plain": [
       "'[{\"timestamp\":1738152000,\"room\":\"pillbox\",\"nodeId\":1,\"onOff\":true},{\"timestamp\":1738152060,\"room\":\"bedroom\",\"nodeId\":2,\"onOff\":true},{\"timestamp\":1738152300,\"room\":\"bathroom\",\"nodeId\":2,\"onOff\":true},{\"timestamp\":1738152600,\"room\":\"bathroom\",\"nodeId\":3,\"humidity\":6500},{\"timestamp\":1738152900,\"room\":\"bathroom\",\"nodeId\":2,\"onOff\":false},{\"timestamp\":1738153200,\"room\":\"kitchen\",\"nodeId\":2,\"onOff\":true},{\"timestamp\":1738153260,\"room\":\"kitchen\",\"event\":\"fridge_opened\"},{\"timestamp\":1738153800,\"room\":\"kitchen\",\"nodeId\":2,\"onOff\":false},{\"timestamp\":1738154100,\"room\":\"livingroom\",\"nodeId\":2,\"onOff\":true},{\"timestamp\":1738154400,\"room\":\"livingroom\",\"nodeId\":1,\"occupancy\":1},{\"timestamp\":1738155600,\"room\":\"livingroom\",\"nodeId\":2,\"onOff\":false},{\"timestamp\":1738156800,\"room\":\"hall\",\"nodeId\":1,\"occupancy\":1},{\"timestamp\":1738157400,\"room\":\"porch\",\"nodeId\":1,\"occupancy\":1},{\"timestamp\":1738157460,\"room\":\"hall\",\"nodeId\":1,\"occupancy\":0},{\"timestamp\":1738173600,\"room\":\"porch\",\"nodeId\":1,\"occupancy\":0},{\"timestamp\":1738184400,\"room\":\"porch\",\"nodeId\":1,\"occupancy\":0},{\"timestamp\":1738195200,\"room\":\"porch\",\"nodeId\":1,\"occupancy\":0},{\"timestamp\":1738206000,\"room\":\"porch\",\"nodeId\":1,\"occupancy\":0},{\"timestamp\":1738206100,\"room\":\"ballroom\",\"nodeId\":1,\"occupancy\":0},{\"timestamp\":1738206200,\"room\":\"snookerroom\",\"nodeId\":1,\"occupancy\":0}]'"
      ]
     },
     "execution_count": 29,
     "metadata": {},
     "output_type": "execute_result"
    }
   ],
   "source": [
    "test[0].details"
   ]
  },
  {
   "cell_type": "code",
   "execution_count": 30,
   "id": "38fa2873-5b99-4b38-a5f6-dd0e855742fc",
   "metadata": {},
   "outputs": [
    {
     "name": "stdout",
     "output_type": "stream",
     "text": [
      "{'is_anomalous': False, 'confidence': 0.6319683790206909, 'features_used': ['room_kitchen_visits', 'avg_time_between_events', 'max_time_between_events', 'rapid_transitions', 'OnOff_OnOff', 'room_bathroom_visits', 'room_livingroom_visits', 'room_bedroom_visits', 'room_pillbox_visits', 'RelativeHumidityMeasurement_MeasuredValue', 'OccupancySensing_Occupancy', 'room_hall_visits', 'room_porch_visits']}\n"
     ]
    }
   ],
   "source": [
    "# Example usage:\n",
    "result = predict_anomaly(model, test[0], feature_names)\n",
    "print(result)"
   ]
  },
  {
   "cell_type": "code",
   "execution_count": 31,
   "id": "0639d991-c476-4538-92ee-d3a2f17b034a",
   "metadata": {},
   "outputs": [],
   "source": [
    "def tabpfn_anomaly_assessor(item):\n",
    "    \"\"\"Wrapper function to assess anomalies using TabPFN.\"\"\"\n",
    "    result = predict_anomaly(model, item, feature_names)\n",
    "    return 'anomalous' if result['is_anomalous'] else 'normal'"
   ]
  },
  {
   "cell_type": "code",
   "execution_count": 32,
   "id": "93344221-f3c6-4206-be23-8543fd9d1b27",
   "metadata": {},
   "outputs": [
    {
     "name": "stdout",
     "output_type": "stream",
     "text": [
      "\u001b[91m1: Guess: normal Truth: anomalous Error: True Item: [{\"timestamp\":1738152000,\"room\":\"pillbox...\u001b[0m\n",
      "\u001b[92m2: Guess: normal Truth: normal Error: False Item: [{\"timestamp\": 1738238400, \"room\": \"pill...\u001b[0m\n",
      "\u001b[92m3: Guess: normal Truth: normal Error: False Item: [{\"timestamp\": 1739170800, \"room\": \"pill...\u001b[0m\n",
      "\u001b[92m4: Guess: anomalous Truth: anomalous Error: False Item: [{\"timestamp\": 1739089200, \"room\": \"bedr...\u001b[0m\n",
      "\u001b[92m5: Guess: anomalous Truth: anomalous Error: False Item: [{\"timestamp\": 1739374800, \"room\": \"bath...\u001b[0m\n",
      "\u001b[91m6: Guess: anomalous Truth: normal Error: True Item: [{\"timestamp\": 1738734000, \"room\": \"pill...\u001b[0m\n",
      "\u001b[92m7: Guess: normal Truth: normal Error: False Item: [{\"timestamp\": 1739277600, \"room\": \"kitc...\u001b[0m\n",
      "\u001b[92m8: Guess: anomalous Truth: anomalous Error: False Item: [{\"timestamp\": 1739336400, \"room\": \"bedr...\u001b[0m\n",
      "\u001b[92m9: Guess: normal Truth: normal Error: False Item: [{\"timestamp\": 1738623600, \"room\": \"kitc...\u001b[0m\n",
      "\u001b[91m10: Guess: normal Truth: anomalous Error: True Item: [{\"timestamp\": 1738623600, \"room\": \"hall...\u001b[0m\n",
      "\u001b[92m11: Guess: anomalous Truth: anomalous Error: False Item: [{\"timestamp\": 1739240400, \"room\": \"bath...\u001b[0m\n",
      "\u001b[92m12: Guess: anomalous Truth: anomalous Error: False Item: [{\"timestamp\": 1739336400, \"room\": \"bedr...\u001b[0m\n",
      "\u001b[92m13: Guess: normal Truth: normal Error: False Item: [{\"timestamp\": 1738808400, \"room\": \"bath...\u001b[0m\n",
      "\u001b[92m14: Guess: anomalous Truth: anomalous Error: False Item: [{\"timestamp\": 1738917600, \"room\": \"bath...\u001b[0m\n",
      "\u001b[92m15: Guess: normal Truth: normal Error: False Item: [{\"timestamp\": 1739181600, \"room\": \"livi...\u001b[0m\n",
      "\u001b[92m16: Guess: normal Truth: normal Error: False Item: [{\"timestamp\": 1739266800, \"room\": \"livi...\u001b[0m\n",
      "\u001b[92m17: Guess: normal Truth: normal Error: False Item: [{\"timestamp\": 1738746000, \"room\": \"livi...\u001b[0m\n",
      "\u001b[91m18: Guess: anomalous Truth: normal Error: True Item: [{\"timestamp\": 1738634400, \"room\": \"porc...\u001b[0m\n",
      "\u001b[92m19: Guess: anomalous Truth: anomalous Error: False Item: [{\"timestamp\": 1739385600, \"room\": \"bedr...\u001b[0m\n",
      "\u001b[92m20: Guess: normal Truth: normal Error: False Item: [{\"timestamp\": 1739277600, \"room\": \"kitc...\u001b[0m\n",
      "\u001b[92m21: Guess: normal Truth: normal Error: False Item: [{\"timestamp\": 1738758000, \"room\": \"kitc...\u001b[0m\n",
      "\u001b[92m22: Guess: anomalous Truth: anomalous Error: False Item: [{\"timestamp\": 1739240400, \"room\": \"bath...\u001b[0m\n"
     ]
    },
    {
     "data": {
      "image/png": "[encoded data removed]",
      "text/plain": [
       "<Figure size 800x600 with 2 Axes>"
      ]
     },
     "metadata": {},
     "output_type": "display_data"
    }
   ],
   "source": [
    "#Now lets run the test\n",
    "Tester.test(tabpfn_anomaly_assessor, test)\n"
   ]
  },
  {
   "cell_type": "markdown",
   "id": "ef622983-2a0c-4ec5-9a29-23dd95a38fa3",
   "metadata": {},
   "source": [
    "# Now we should save our classification model"
   ]
  },
  {
   "cell_type": "code",
   "execution_count": 33,
   "id": "b19fb8b1-76ed-4992-9c06-3f22b64cbe57",
   "metadata": {},
   "outputs": [
    {
     "data": {
      "text/plain": [
       "['tabpfn_model.pkl']"
      ]
     },
     "execution_count": 33,
     "metadata": {},
     "output_type": "execute_result"
    }
   ],
   "source": [
    "# Save the model and scaler to a file\n",
    "\n",
    "joblib.dump((model, feature_names), 'tabpfn_model.pkl')"
   ]
  },
  {
   "cell_type": "code",
   "execution_count": null,
   "id": "7a1c5b94-abab-4600-8abe-224b0110fe64",
   "metadata": {},
   "outputs": [],
   "source": []
  }
 ],
 "metadata": {
  "kernelspec": {
   "display_name": "Python 3 (ipykernel)",
   "language": "python",
   "name": "python3"
  },
  "language_info": {
   "codemirror_mode": {
    "name": "ipython",
    "version": 3
   },
   "file_extension": ".py",
   "mimetype": "text/x-python",
   "name": "python",
   "nbconvert_exporter": "python",
   "pygments_lexer": "ipython3",
   "version": "3.12.3"
  }
 },
 "nbformat": 4,
 "nbformat_minor": 5
}
