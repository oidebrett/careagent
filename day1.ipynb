{
 "cells": [
  {
   "cell_type": "markdown",
   "id": "28a0673e-96b5-43f2-8a8b-bd033bf851b0",
   "metadata": {},
   "source": [
    "# The IoT Project begins!!\n",
    "\n",
    "## The Caring Home / Helpful Home\n",
    "\n",
    "We will develop a model that can estimate if an elderly person is safe in their home.\n",
    "\n",
    "## Data Curation Part 1\n",
    "\n",
    "Today we'll begin our scrubbing and curating our dataset..\n",
    "\n",
    "The dataset is here:  \n",
    "data/memory.json\n",
    "\n"
   ]
  },
  {
   "cell_type": "code",
   "execution_count": 1,
   "id": "67cedf85-8125-4322-998e-9375fe745597",
   "metadata": {},
   "outputs": [],
   "source": [
    "# imports\n",
    "import os\n",
    "from dotenv import load_dotenv\n",
    "from huggingface_hub import login\n",
    "from datasets import load_dataset, Dataset, DatasetDict\n",
    "import matplotlib.pyplot as plt\n",
    "import json\n",
    "import numpy as np\n",
    "import random\n",
    "from collections import Counter, defaultdict\n",
    "import pickle\n"
   ]
  },
  {
   "cell_type": "code",
   "execution_count": 2,
   "id": "7390a6aa-79cb-4dea-b6d7-de7e4b13e472",
   "metadata": {},
   "outputs": [],
   "source": [
    "# environment\n",
    "\n",
    "load_dotenv()\n",
    "os.environ['OPENAI_API_KEY'] = os.getenv('OPENAI_API_KEY', 'your-key-if-not-using-env')\n",
    "os.environ['ANTHROPIC_API_KEY'] = os.getenv('ANTHROPIC_API_KEY', 'your-key-if-not-using-env')\n",
    "os.environ['HF_TOKEN'] = os.getenv('HF_TOKEN', 'your-key-if-not-using-env')"
   ]
  },
  {
   "cell_type": "code",
   "execution_count": 3,
   "id": "0732274a-aa6a-44fc-aee2-40dc8a8e4451",
   "metadata": {},
   "outputs": [
    {
     "name": "stderr",
     "output_type": "stream",
     "text": [
      "Note: Environment variable`HF_TOKEN` is set and is the current active token independently from the token you've just configured.\n"
     ]
    }
   ],
   "source": [
    "# Log in to HuggingFace\n",
    "\n",
    "hf_token = os.environ['HF_TOKEN']\n",
    "login(hf_token, add_to_git_credential=True)"
   ]
  },
  {
   "cell_type": "code",
   "execution_count": 4,
   "id": "b5521526-0da9-42d7-99e3-f950fab71662",
   "metadata": {},
   "outputs": [],
   "source": [
    "# One more import - the Item class\n",
    "# If you get an error that you need to agree to Meta's terms when you run this, then follow the link it provides you and follow their instructions\n",
    "# You should get approved by Meta within minutes\n",
    "# Any problems - message me or email me!\n",
    "\n",
    "from items import Item"
   ]
  },
  {
   "cell_type": "code",
   "execution_count": 5,
   "id": "1adcf323-de9d-4c24-a9c3-d7ae554d06ca",
   "metadata": {},
   "outputs": [],
   "source": [
    "%matplotlib inline"
   ]
  },
  {
   "cell_type": "code",
   "execution_count": 26,
   "id": "049885d4-fdfa-4ff0-a932-4a2ed73928e2",
   "metadata": {},
   "outputs": [
    {
     "name": "stdout",
     "output_type": "stream",
     "text": [
      "[{'situation': {'situation_description': 'The elderly person displayed a concerning pattern of movement where they were in the bathroom for an extended period without any recorded exits. The bathroom was accessed multiple times, with the last entry indicating they entered without subsequent movement recorded. This prolonged occupancy may indicate a potential issue that requires monitoring, as it deviates from typical activity where movement between rooms is more frequent. Such behavior raises alarms about their safety and well-being.', 'result': 'anomalous', 'start_timestamp': 1737986700, 'end_timestamp': 1737987300, 'details': ['{\"timestamp\": 1737986700, \"room\": \"bathroom\", \"nodeId\": 2, \"onOff\": true}', '{\"timestamp\": 1737987000, \"room\": \"bathroom\", \"nodeId\": 3, \"humidity\": 6500}', '{\"timestamp\": 1737987300, \"room\": \"bathroom\", \"nodeId\": 2, \"onOff\": false}']}, 'estimate': 'anomalous'}]\n"
     ]
    }
   ],
   "source": [
    "# Define the path to the JSON file\n",
    "file_path = 'data/memory.json'\n",
    "\n",
    "# Check if the file exists\n",
    "if not os.path.exists(file_path):\n",
    "    # Create a dummy dataset\n",
    "    dummy_data = [{\"situation\": {\"situation_description\": \"The elderly person displayed a concerning pattern of movement where they were in the bathroom for an extended period without any recorded exits. The bathroom was accessed multiple times, with the last entry indicating they entered without subsequent movement recorded. This prolonged occupancy may indicate a potential issue that requires monitoring, as it deviates from typical activity where movement between rooms is more frequent. Such behavior raises alarms about their safety and well-being.\", \"result\": \"anomalous\", \"start_timestamp\": 1737986700, \"end_timestamp\": 1737987300, \"details\": [\"{\\\"timestamp\\\": 1737986700, \\\"room\\\": \\\"bathroom\\\", \\\"nodeId\\\": 2, \\\"onOff\\\": true}\", \"{\\\"timestamp\\\": 1737987000, \\\"room\\\": \\\"bathroom\\\", \\\"nodeId\\\": 3, \\\"humidity\\\": 6500}\", \"{\\\"timestamp\\\": 1737987300, \\\"room\\\": \\\"bathroom\\\", \\\"nodeId\\\": 2, \\\"onOff\\\": false}\"]}, \"estimate\": \"anomalous\"}]\n",
    "    \n",
    "    # Create the directory if it doesn't exist\n",
    "    os.makedirs(os.path.dirname(file_path), exist_ok=True)\n",
    "    \n",
    "    # Write the dummy data to the JSON file\n",
    "    with open(file_path, 'w') as file:\n",
    "        json.dump(dummy_data, file)\n",
    "\n",
    "# Open and read the JSON file\n",
    "with open(file_path, 'r') as file:\n",
    "    dataset = json.load(file)\n",
    "\n",
    "# Print the data\n",
    "print(dataset)"
   ]
  },
  {
   "cell_type": "code",
   "execution_count": 27,
   "id": "cde08860-b393-49b8-a620-06a8c0990a64",
   "metadata": {},
   "outputs": [
    {
     "name": "stdout",
     "output_type": "stream",
     "text": [
      "Number of Investigations: 1\n"
     ]
    }
   ],
   "source": [
    "print(f\"Number of Investigations: {len(dataset):,}\")"
   ]
  },
  {
   "cell_type": "code",
   "execution_count": 29,
   "id": "3e29a5ab-ca61-41cc-9b33-22d374681b85",
   "metadata": {},
   "outputs": [],
   "source": [
    "# Investigate a particular datapoint\n",
    "datapoint = dataset[0]\n"
   ]
  },
  {
   "cell_type": "code",
   "execution_count": 30,
   "id": "40a4e10f-6710-4780-a95e-6c0030c3fb87",
   "metadata": {},
   "outputs": [
    {
     "name": "stdout",
     "output_type": "stream",
     "text": [
      "['{\"timestamp\": 1737986700, \"room\": \"bathroom\", \"nodeId\": 2, \"onOff\": true}', '{\"timestamp\": 1737987000, \"room\": \"bathroom\", \"nodeId\": 3, \"humidity\": 6500}', '{\"timestamp\": 1737987300, \"room\": \"bathroom\", \"nodeId\": 2, \"onOff\": false}']\n",
      "anomalous\n",
      "The elderly person displayed a concerning pattern of movement where they were in the bathroom for an extended period without any recorded exits. The bathroom was accessed multiple times, with the last entry indicating they entered without subsequent movement recorded. This prolonged occupancy may indicate a potential issue that requires monitoring, as it deviates from typical activity where movement between rooms is more frequent. Such behavior raises alarms about their safety and well-being.\n",
      "anomalous\n"
     ]
    }
   ],
   "source": [
    "# Investigate\n",
    "\n",
    "print(datapoint[\"situation\"][\"details\"])\n",
    "print(datapoint[\"situation\"][\"result\"])\n",
    "print(datapoint[\"situation\"][\"situation_description\"])\n",
    "print(datapoint[\"estimate\"])\n"
   ]
  },
  {
   "cell_type": "code",
   "execution_count": 31,
   "id": "89078cb1-9679-4eb0-b295-599b8586bcd1",
   "metadata": {},
   "outputs": [
    {
     "data": {
      "image/png": "[encoded data removed]",
      "text/plain": [
       "<Figure size 800x600 with 1 Axes>"
      ]
     },
     "metadata": {},
     "output_type": "display_data"
    }
   ],
   "source": [
    "# Plot the distribution of results\n",
    "\n",
    "# Count the occurrences of \"normal\" and \"anomalous\" results\n",
    "situation_counts = {\"normal\": 0, \"anomalous\": 0}\n",
    "for entry in dataset:\n",
    "    result = entry.get(\"estimate\", \"unknown\").lower()\n",
    "    if result in situation_counts:\n",
    "        situation_counts[result] += 1\n",
    "\n",
    "# Extract keys and values for the bar chart\n",
    "labels = list(situation_counts.keys())\n",
    "counts = list(situation_counts.values())\n",
    "\n",
    "# Plot the bar chart\n",
    "plt.figure(figsize=(8, 6))\n",
    "plt.bar(labels, counts, color=['green', 'red'], alpha=0.7)\n",
    "\n",
    "# Add labels and title\n",
    "plt.xlabel(\"Situation Type\", fontsize=12)\n",
    "plt.ylabel(\"Count\", fontsize=12)\n",
    "plt.title(\"Number of Normal vs Anomalous Situations\", fontsize=14)\n",
    "\n",
    "# Annotate bars with counts\n",
    "for i, count in enumerate(counts):\n",
    "    plt.text(i, count + 0.2, str(count), ha='center', fontsize=10)\n",
    "\n",
    "# Display the plot\n",
    "plt.tight_layout()\n",
    "plt.show()\n"
   ]
  },
  {
   "cell_type": "code",
   "execution_count": 32,
   "id": "eabc7c61-0cd2-41f4-baa1-b85400bbf87f",
   "metadata": {},
   "outputs": [
    {
     "name": "stdout",
     "output_type": "stream",
     "text": [
      "The elderly person displayed a concerning pattern of movement where they were in the bathroom for an extended period without any recorded exits. The bathroom was accessed multiple times, with the last entry indicating they entered without subsequent movement recorded. This prolonged occupancy may indicate a potential issue that requires monitoring, as it deviates from typical activity where movement between rooms is more frequent. Such behavior raises alarms about their safety and well-being.\n"
     ]
    }
   ],
   "source": [
    "# So what is the first anomalous items??\n",
    "\n",
    "for datapoint in dataset:\n",
    "    try:\n",
    "        estimate = datapoint[\"estimate\"]\n",
    "        if estimate == \"anomalous\":\n",
    "            print(datapoint['situation']['situation_description'])\n",
    "            break\n",
    "    except ValueError as e:\n",
    "        pass"
   ]
  },
  {
   "cell_type": "markdown",
   "id": "a0d02f58-23f6-4f81-a779-7c0555afd13d",
   "metadata": {},
   "source": [
    "## Now it's time to curate our dataset\n",
    "\n",
    "We select all items\n",
    "\n",
    "We will be create Item instances, which truncate the input and reasoning to fit within 180 tokens using the right Tokenizer\n",
    "\n",
    "And will create a prompt to be used during Training.\n",
    "\n",
    "Items will be rejected if they don't have sufficient characters.\n",
    "\n",
    "## But why 1180 tokens??\n",
    "\n",
    "This is an example of a \"hyper-parameter\". In other words, it's basically trial and error! We want a sufficiently large number of tokens so that we have enough useful information to gauge the price. But we also want to keep the number low so that we can train efficiently. \n",
    "\n",
    "I started with a number that seemed reasonable, and experimented with a few variations before settling on 180. If you have time, you should do the same! You might find that you can beat my results by finding a better balance. This kind of trial-and-error might sound a bit unsatisfactory, but it's a crucial part of the data science R&D process.\n",
    "\n",
    "There's another interesting reason why we might favor a lower number of tokens in the training data. When we eventually get to use our model at inference time, we'll want to provide new products and have it estimate a price. And we'll be using short descriptions of products - like 1-2 sentences. For best performance, we should size our training data to be similar to the inputs we will provide at inference time.\n",
    "\n"
   ]
  },
  {
   "cell_type": "code",
   "execution_count": 33,
   "id": "430b432f-b769-41da-9506-a238cb5cf1b6",
   "metadata": {},
   "outputs": [
    {
     "name": "stdout",
     "output_type": "stream",
     "text": [
      "There are 1 items\n"
     ]
    }
   ],
   "source": [
    "# Create an Item object for each with a result\n",
    "\n",
    "items = []\n",
    "for datapoint in dataset:\n",
    "    try:\n",
    "        estimate = datapoint[\"estimate\"]\n",
    "        if estimate == 'normal' or estimate == 'anomalous':\n",
    "            item = Item(datapoint['situation'], estimate)\n",
    "            if item.include:\n",
    "                items.append(item)\n",
    "    except ValueError as e:\n",
    "        pass\n",
    "\n",
    "print(f\"There are {len(items):,} items\")"
   ]
  },
  {
   "cell_type": "code",
   "execution_count": 35,
   "id": "0d570794-6f1d-462e-b567-a46bae3556a1",
   "metadata": {},
   "outputs": [
    {
     "data": {
      "text/plain": [
       "<$anomalous>"
      ]
     },
     "execution_count": 35,
     "metadata": {},
     "output_type": "execute_result"
    }
   ],
   "source": [
    "# Look at the first item\n",
    "\n",
    "items[0]"
   ]
  },
  {
   "cell_type": "code",
   "execution_count": 37,
   "id": "70219e99-22cc-4e08-9121-51f9707caef0",
   "metadata": {},
   "outputs": [
    {
     "name": "stdout",
     "output_type": "stream",
     "text": [
      "How would you classify this sensor data - normal or anomalous?\n",
      "\n",
      "[{\"timestamp\": 1737986700, \"room\": \"bathroom\", \"nodeId\": 2, \"onOff\": true}, {\"timestamp\": 1737987000, \"room\": \"bathroom\", \"nodeId\": 3, \"humidity\": 6500}, {\"timestamp\": 1737987300, \"room\": \"bathroom\", \"nodeId\": 2, \"onOff\": false}]\n",
      "\n",
      "\n",
      "Result is anomalous\n"
     ]
    }
   ],
   "source": [
    "# Investigate the prompt that will be used during training - the model learns to complete this\n",
    "\n",
    "print(items[0].prompt)"
   ]
  },
  {
   "cell_type": "code",
   "execution_count": 39,
   "id": "d9998b8d-d746-4541-9ac2-701108e0e8fb",
   "metadata": {},
   "outputs": [
    {
     "name": "stdout",
     "output_type": "stream",
     "text": [
      "How would you classify this sensor data - normal or anomalous?\n",
      "\n",
      "[{\"timestamp\": 1737986700, \"room\": \"bathroom\", \"nodeId\": 2, \"onOff\": true}, {\"timestamp\": 1737987000, \"room\": \"bathroom\", \"nodeId\": 3, \"humidity\": 6500}, {\"timestamp\": 1737987300, \"room\": \"bathroom\", \"nodeId\": 2, \"onOff\": false}]\n",
      "\n",
      "\n",
      "Result is \n"
     ]
    }
   ],
   "source": [
    "# Investigate the prompt that will be used during testing - the model has to complete this\n",
    "\n",
    "print(items[0].test_prompt())"
   ]
  },
  {
   "cell_type": "code",
   "execution_count": 40,
   "id": "7a116369-335a-412b-b70c-2add6675c2e3",
   "metadata": {},
   "outputs": [
    {
     "data": {
      "image/png": "[encoded data removed]",
      "text/plain": [
       "<Figure size 1500x600 with 1 Axes>"
      ]
     },
     "metadata": {},
     "output_type": "display_data"
    }
   ],
   "source": [
    "# Plot the distribution of token counts\n",
    "\n",
    "tokens = [item.token_count for item in items]\n",
    "plt.figure(figsize=(15, 6))\n",
    "plt.title(f\"Token counts: Avg {sum(tokens)/len(tokens):,.1f} and highest {max(tokens):,}\\n\")\n",
    "plt.xlabel('Length (tokens)')\n",
    "plt.ylabel('Count')\n",
    "plt.hist(tokens, rwidth=0.7, color=\"green\", bins=range(0, 1300, 10))\n",
    "plt.show()"
   ]
  },
  {
   "cell_type": "markdown",
   "id": "2b58dc61-747f-46f7-b9e0-c205db4f3e5e",
   "metadata": {},
   "source": [
    "## Sidenote\n",
    "\n",
    "If you like the variety of colors that matplotlib can use in its charts, you should bookmark this:\n",
    "\n",
    "https://matplotlib.org/stable/gallery/color/named_colors.html\n",
    "\n",
    "## Todos for you:\n",
    "\n",
    "- Review the Item class and check you're comfortable with it\n",
    "- Examine some Item objects, look at the training prompt with `item.prompt` and test prompt with `item.test_prompt()`\n",
    "- Make some more histograms to better understand the data\n",
    "\n"
   ]
  },
  {
   "cell_type": "markdown",
   "id": "45d18625-f9a6-4571-ac62-8ef04b8ec411",
   "metadata": {},
   "source": [
    "# Finally\n",
    "- Its time to break down our data into a training, test and validation dataset.\n",
    "- Its typical to use 5%-10% of your data for testing purposes, but actually we have far more than we need at this point. Well take 400,000 points for training, and we'll reserve 2,000 for testing, although we won't use all of them.\n",
    "\n",
    "\n",
    "Craft a dataset which is more balanced in terms of results. Try to balance out the categories - fewer anomalous items."
   ]
  },
  {
   "cell_type": "code",
   "execution_count": 41,
   "id": "79cc7c1d-b3ae-458b-b576-78421e01209c",
   "metadata": {},
   "outputs": [],
   "source": [
    "# Create a dict with a key of each result from normal to anomalous\n",
    "# And in the result, put a list of items with that result (\n",
    "\n",
    "slots = defaultdict(list)\n",
    "for item in items:\n",
    "    slots[item.result].append(item)"
   ]
  },
  {
   "cell_type": "code",
   "execution_count": 42,
   "id": "4affb0a3-f178-4946-b55d-c673ebde94d0",
   "metadata": {},
   "outputs": [
    {
     "data": {
      "text/plain": [
       "[]"
      ]
     },
     "execution_count": 42,
     "metadata": {},
     "output_type": "execute_result"
    }
   ],
   "source": [
    "slots['normal']"
   ]
  },
  {
   "cell_type": "code",
   "execution_count": 43,
   "id": "69d4ca90-9b62-49f1-8a45-1dc0f5cbd1b4",
   "metadata": {},
   "outputs": [
    {
     "ename": "ValueError",
     "evalue": "probabilities do not sum to 1",
     "output_type": "error",
     "traceback": [
      "\u001b[0;31m---------------------------------------------------------------------------\u001b[0m",
      "\u001b[0;31mValueError\u001b[0m                                Traceback (most recent call last)",
      "Cell \u001b[0;32mIn[43], line 15\u001b[0m\n\u001b[1;32m     13\u001b[0m weights \u001b[38;5;241m=\u001b[39m np\u001b[38;5;241m.\u001b[39marray([\u001b[38;5;241m1\u001b[39m \u001b[38;5;28;01mif\u001b[39;00m item\u001b[38;5;241m.\u001b[39mresult\u001b[38;5;241m==\u001b[39m\u001b[38;5;124m'\u001b[39m\u001b[38;5;124mNormal\u001b[39m\u001b[38;5;124m'\u001b[39m \u001b[38;5;28;01melse\u001b[39;00m \u001b[38;5;241m1\u001b[39m \u001b[38;5;28;01mfor\u001b[39;00m item \u001b[38;5;129;01min\u001b[39;00m slot])\n\u001b[1;32m     14\u001b[0m weights \u001b[38;5;241m=\u001b[39m weights \u001b[38;5;241m/\u001b[39m np\u001b[38;5;241m.\u001b[39msum(weights)\n\u001b[0;32m---> 15\u001b[0m selected_indices \u001b[38;5;241m=\u001b[39m \u001b[43mnp\u001b[49m\u001b[38;5;241;43m.\u001b[39;49m\u001b[43mrandom\u001b[49m\u001b[38;5;241;43m.\u001b[39;49m\u001b[43mchoice\u001b[49m\u001b[43m(\u001b[49m\u001b[38;5;28;43mlen\u001b[39;49m\u001b[43m(\u001b[49m\u001b[43mslot\u001b[49m\u001b[43m)\u001b[49m\u001b[43m,\u001b[49m\u001b[43m \u001b[49m\u001b[43msize\u001b[49m\u001b[38;5;241;43m=\u001b[39;49m\u001b[43msize\u001b[49m\u001b[43m,\u001b[49m\u001b[43m \u001b[49m\u001b[43mreplace\u001b[49m\u001b[38;5;241;43m=\u001b[39;49m\u001b[38;5;28;43;01mTrue\u001b[39;49;00m\u001b[43m,\u001b[49m\u001b[43m \u001b[49m\u001b[43mp\u001b[49m\u001b[38;5;241;43m=\u001b[39;49m\u001b[43mweights\u001b[49m\u001b[43m)\u001b[49m\n\u001b[1;32m     16\u001b[0m selected \u001b[38;5;241m=\u001b[39m [slot[i] \u001b[38;5;28;01mfor\u001b[39;00m i \u001b[38;5;129;01min\u001b[39;00m selected_indices]\n\u001b[1;32m     17\u001b[0m sample\u001b[38;5;241m.\u001b[39mextend(selected)\n",
      "File \u001b[0;32mnumpy/random/mtrand.pyx:994\u001b[0m, in \u001b[0;36mnumpy.random.mtrand.RandomState.choice\u001b[0;34m()\u001b[0m\n",
      "\u001b[0;31mValueError\u001b[0m: probabilities do not sum to 1"
     ]
    }
   ],
   "source": [
    "# Create a dataset called \"sample\" which tries to more evenly take from the range of results\n",
    "# And gives more weight to items from categories other than Anomalous\n",
    "# Set random seed for reproducibility\n",
    "\n",
    "# Note: we are not duplicating data here \n",
    "\n",
    "np.random.seed(42)\n",
    "random.seed(42)\n",
    "size=int(len(items)/2)\n",
    "sample = []\n",
    "for i in ['normal', 'anomalous']:\n",
    "    slot = slots[i]\n",
    "    weights = np.array([1 if item.result=='Normal' else 1 for item in slot])\n",
    "    weights = weights / np.sum(weights)\n",
    "    selected_indices = np.random.choice(len(slot), size=size, replace=True, p=weights)\n",
    "    selected = [slot[i] for i in selected_indices]\n",
    "    sample.extend(selected)\n",
    "\n",
    "print(f\"There are {len(sample):,} items in the sample\")"
   ]
  },
  {
   "cell_type": "code",
   "execution_count": 44,
   "id": "18fbb4cd-3359-4cd9-96d2-09b03c6458f9",
   "metadata": {},
   "outputs": [
    {
     "name": "stdout",
     "output_type": "stream",
     "text": [
      "Divided into a training set of 0 items and test set of 0 items\n"
     ]
    }
   ],
   "source": [
    "train_end = int(len(sample)*0.80) # use 80% of the samples for train and 20% for test\n",
    "\n",
    "random.seed(42)\n",
    "random.shuffle(sample)\n",
    "train = sample[:train_end]\n",
    "test = sample[train_end:len(sample)]\n",
    "print(f\"Divided into a training set of {len(train):,} items and test set of {len(test):,} items\")"
   ]
  },
  {
   "cell_type": "code",
   "execution_count": 45,
   "id": "83eaf1df-e5eb-4ac0-b8db-6f3b3676212a",
   "metadata": {},
   "outputs": [
    {
     "name": "stdout",
     "output_type": "stream",
     "text": [
      "[]\n"
     ]
    }
   ],
   "source": [
    "print(train)"
   ]
  },
  {
   "cell_type": "code",
   "execution_count": 46,
   "id": "a5509145-390c-48c3-95c3-1c6e35277e67",
   "metadata": {},
   "outputs": [],
   "source": [
    "# One more thing!\n",
    "# Let's pickle the training and test dataset so we don't have to execute all this code next time!\n",
    "\n",
    "with open('train.pkl', 'wb') as file:\n",
    "    pickle.dump(train, file)\n",
    "\n",
    "with open('test.pkl', 'wb') as file:\n",
    "    pickle.dump(test, file)"
   ]
  },
  {
   "cell_type": "markdown",
   "id": "deb012d4-c49a-4749-bf83-4fc3a1f5a8da",
   "metadata": {},
   "source": [
    "## Now we have real training and test data that has come from RLHF? - Reinforcement Learning from Human Feedback\n",
    "RLHF is a machine learning (ML) technique that uses human feedback to optimize ML models to self-learn more efficiently"
   ]
  },
  {
   "cell_type": "code",
   "execution_count": null,
   "id": "7631041b-2f37-47ca-92ef-50d59eb57c5c",
   "metadata": {},
   "outputs": [],
   "source": []
  }
 ],
 "metadata": {
  "kernelspec": {
   "display_name": "Python 3 (ipykernel)",
   "language": "python",
   "name": "python3"
  },
  "language_info": {
   "codemirror_mode": {
    "name": "ipython",
    "version": 3
   },
   "file_extension": ".py",
   "mimetype": "text/x-python",
   "name": "python",
   "nbconvert_exporter": "python",
   "pygments_lexer": "ipython3",
   "version": "3.12.3"
  }
 },
 "nbformat": 4,
 "nbformat_minor": 5
}
