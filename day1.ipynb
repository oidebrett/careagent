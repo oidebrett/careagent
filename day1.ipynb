{
 "cells": [
  {
   "cell_type": "markdown",
   "id": "28a0673e-96b5-43f2-8a8b-bd033bf851b0",
   "metadata": {},
   "source": [
    "# The IoT Project begins!!\n",
    "\n",
    "## The Caring Home / Helpful Home\n",
    "\n",
    "We will develop a model that can estimate if an elderly person is safe in their home.\n",
    "\n",
    "## Data Curation Part 1\n",
    "\n",
    "Today we'll begin our scrubbing and curating our dataset..\n",
    "\n",
    "The dataset is here:  \n",
    "data/memory.json\n",
    "\n"
   ]
  },
  {
   "cell_type": "code",
   "execution_count": 1,
   "id": "67cedf85-8125-4322-998e-9375fe745597",
   "metadata": {},
   "outputs": [],
   "source": [
    "# imports\n",
    "\n",
    "import os\n",
    "from dotenv import load_dotenv\n",
    "from huggingface_hub import login\n",
    "from datasets import load_dataset, Dataset, DatasetDict\n",
    "import matplotlib.pyplot as plt\n",
    "import json\n",
    "import numpy as np\n",
    "import random\n",
    "from collections import Counter, defaultdict\n",
    "import pickle"
   ]
  },
  {
   "cell_type": "code",
   "execution_count": 2,
   "id": "7390a6aa-79cb-4dea-b6d7-de7e4b13e472",
   "metadata": {},
   "outputs": [],
   "source": [
    "# environment\n",
    "\n",
    "load_dotenv()\n",
    "os.environ['OPENAI_API_KEY'] = os.getenv('OPENAI_API_KEY', 'your-key-if-not-using-env')\n",
    "os.environ['ANTHROPIC_API_KEY'] = os.getenv('ANTHROPIC_API_KEY', 'your-key-if-not-using-env')\n",
    "os.environ['HF_TOKEN'] = os.getenv('HF_TOKEN', 'your-key-if-not-using-env')"
   ]
  },
  {
   "cell_type": "code",
   "execution_count": 3,
   "id": "0732274a-aa6a-44fc-aee2-40dc8a8e4451",
   "metadata": {},
   "outputs": [
    {
     "name": "stderr",
     "output_type": "stream",
     "text": [
      "Note: Environment variable`HF_TOKEN` is set and is the current active token independently from the token you've just configured.\n"
     ]
    }
   ],
   "source": [
    "# Log in to HuggingFace\n",
    "\n",
    "hf_token = os.environ['HF_TOKEN']\n",
    "login(hf_token, add_to_git_credential=True)"
   ]
  },
  {
   "cell_type": "code",
   "execution_count": 4,
   "id": "b5521526-0da9-42d7-99e3-f950fab71662",
   "metadata": {},
   "outputs": [],
   "source": [
    "# One more import - the Item class\n",
    "# If you get an error that you need to agree to Meta's terms when you run this, then follow the link it provides you and follow their instructions\n",
    "# You should get approved by Meta within minutes\n",
    "# Any problems - message me or email me!\n",
    "\n",
    "from items import Item"
   ]
  },
  {
   "cell_type": "code",
   "execution_count": 5,
   "id": "1adcf323-de9d-4c24-a9c3-d7ae554d06ca",
   "metadata": {},
   "outputs": [],
   "source": [
    "%matplotlib inline"
   ]
  },
  {
   "cell_type": "code",
   "execution_count": 6,
   "id": "049885d4-fdfa-4ff0-a932-4a2ed73928e2",
   "metadata": {},
   "outputs": [
    {
     "name": "stdout",
     "output_type": "stream",
     "text": [
      "[{'situation': {'situation_description': 'During the provided timeframe, the logs indicate that the elderly person spent a concerning amount of time in the bathroom, particularly notable was the humidity reading that suggests prolonged occupancy. This extended stay could indicate potential health issues or an inability to complete the activity quickly, warranting closer observation to prevent safety risks.', 'result': 'anomalous', 'start_timestamp': 1738073100, 'end_timestamp': 1738073700, 'details': ['{\"timestamp\": 1738073100, \"room\": \"bathroom\", \"nodeId\": 2, \"onOff\": true}', '{\"timestamp\": 1738073700, \"room\": \"bathroom\", \"nodeId\": 2, \"onOff\": false}']}, 'estimate': 'normal'}, {'situation': {'situation_description': \"A significant period of inactivity was noted in the living room, where occupancy dropped to zero after being continuously occupied. This included a series of log entries showing the living room light turning off and the subsequent absence of any activity in key areas such as the kitchen and bathroom. The last recorded movement was away from the living room, raising concerns about potential health risks due to prolonged inactivity, which is unusual for the elderly individual. Monitoring may be warranted to ensure the person's safety and well-being.\", 'result': 'anomalous', 'start_timestamp': 1737991860, 'end_timestamp': 1737991800, 'details': ['{\"timestamp\": 1737991200, \"room\": \"hall\", \"nodeId\": 1, \"occupancy\": 1}', '{\"timestamp\": 1737991800, \"room\": \"porch\", \"nodeId\": 1, \"occupancy\": 1}', '{\"timestamp\": 1737991860, \"room\": \"hall\", \"nodeId\": 1, \"occupancy\": 0}']}, 'estimate': 'normal'}, {'situation': {'situation_description': \"During this period, there was a significant amount of time spent in the bathroom without any off event, indicating a prolonged stay. Activity logs show occupancy before and after a long duration in the bathroom, prompting concern regarding the individual's safety and well-being. The entry details suggest no return from the bathroom for an extended duration, which may not be typical behavior. Close monitoring may be warranted to ensure the person's safety.\", 'result': 'anomalous', 'start_timestamp': 1738159500, 'end_timestamp': 1738160100, 'details': ['{\"timestamp\": 1738159500, \"room\": \"bathroom\", \"nodeId\": 2, \"onOff\": true}', '{\"timestamp\": 1738159800, \"room\": \"bathroom\", \"nodeId\": 3, \"humidity\": 6500}', '{\"timestamp\": 1738160100, \"room\": \"bathroom\", \"nodeId\": 2, \"onOff\": false}']}, 'estimate': 'normal'}, {'situation': {'situation_description': 'There was unusual activity detected in the bedroom and bathroom area. The elderly person spent a significant amount of time in the bathroom, which may require monitoring. No log entries indicate a return to the living room or kitchen shortly after entering the bathroom, which may imply hesitance or difficulty in transitioning back to other rooms. This situation suggests a potential concern regarding their mobility and wellbeing.', 'result': 'anomalous', 'start_timestamp': 1738245900, 'end_timestamp': 1738245900, 'details': ['{\"timestamp\": 1738245600, \"room\": \"pillbox\", \"nodeId\": 1, \"onOff\": true}', '{\"timestamp\": 1738245660, \"room\": \"bedroom\", \"nodeId\": 2, \"onOff\": true}', '{\"timestamp\": 1738245900, \"room\": \"bathroom\", \"nodeId\": 2, \"onOff\": true}']}, 'estimate': 'normal'}, {'situation': {'situation_description': 'In the hour leading up to the final log, the elderly person seems to be spending an unusually extended period in the bedroom, with repeated entries indicating on and off activity. Particularly concerning is the fact that the person is recorded present in the living room for long gaps, indicating minimal movement. This pattern of inactivity, especially in the bedroom, may require monitoring for health or safety reasons.', 'result': 'anomalous', 'start_timestamp': 1738212000, 'end_timestamp': 1738212060, 'details': ['{\"timestamp\": 1738212000, \"room\": \"bedroom\", \"nodeId\": 2, \"onOff\": true}', '{\"timestamp\": 1738212060, \"room\": \"pillbox\", \"nodeId\": 1, \"onOff\": true}']}, 'estimate': 'anomalous'}, {'situation': {'situation_description': 'During this period, there was a notable pattern of movement with intermittent occupancy in the living room and bedroom, but concerningly, there was no recorded movement for an extended duration that could indicate inactivity. After several periods of activity including transitioning to the kitchen and usage of the pillbox, there were longer intervals without any documented movement, particularly in the bedroom. This could raise concerns regarding the individual’s well-being, especially if the inactivity persists.', 'result': 'anomalous', 'start_timestamp': 1737952800, 'end_timestamp': 1737953400, 'details': ['{\"timestamp\": 1737952800, \"room\": \"bedroom\", \"nodeId\": 2, \"onOff\": true}', '{\"timestamp\": 1737952860, \"room\": \"pillbox\", \"nodeId\": 1, \"onOff\": true}', '{\"timestamp\": 1737953400, \"room\": \"bedroom\", \"nodeId\": 2, \"onOff\": false}']}, 'estimate': 'anomalous'}, {'situation': {'situation_description': 'The elderly person has shown prolonged immobility, with a notable absence of activity in the bedroom, where they particularly require monitoring. Following a period of movement in the kitchen and living room, there was an extended duration of inactivity in the bedroom. This could indicate potential issues with mobility or health, necessitating further observation to ensure safety.', 'result': 'anomalous', 'start_timestamp': 1738192200, 'end_timestamp': 1738202400, 'details': ['{\"timestamp\": 1738192200, \"room\": \"bedroom\", \"nodeId\": 2, \"onOff\": false}', '{\"timestamp\": 1738202400, \"room\": \"kitchen\", \"nodeId\": 2, \"onOff\": true}']}, 'estimate': 'anomalous'}, {'situation': {'situation_description': \"The elderly person exhibited prolonged inactivity in the living room, remaining continuously recorded as 'occupied' for an extended period. This extended duration of movement inactivity may indicate potential concerns regarding their wellbeing or capability to move freely. The last recorded movement before this inactivity was in the bedroom, suggesting a lack of transitions between rooms that typically occur throughout the day.\", 'result': 'anomalous', 'start_timestamp': 1738039200, 'end_timestamp': 1738039800, 'details': ['{\"timestamp\": 1738039200, \"room\": \"bedroom\", \"nodeId\": 2, \"onOff\": true}', '{\"timestamp\": 1738039260, \"room\": \"pillbox\", \"nodeId\": 1, \"onOff\": true}', '{\"timestamp\": 1738039800, \"room\": \"bedroom\", \"nodeId\": 2, \"onOff\": false}']}, 'estimate': 'anomalous'}, {'situation': {'situation_description': 'There was an unusual pattern of movements centered around the kitchen and living room. The elderly person spent a significant amount of time in the kitchen where the fridge was opened twice without any items being retrieved. This was followed by a long stay in the living room. The duration in one room with repeated activity in another suggests a need for potential monitoring for safety and well-being.', 'result': 'anomalous', 'start_timestamp': 1738008060, 'end_timestamp': 1738029660, 'details': ['{\"timestamp\": 1738008060, \"room\": \"hall\", \"nodeId\": 1, \"occupancy\": 1}', '{\"timestamp\": 1738008120, \"room\": \"kitchen\", \"nodeId\": 2, \"onOff\": true}', '{\"timestamp\": 1738008180, \"room\": \"kitchen\", \"event\": \"fridge_opened\"}', '{\"timestamp\": 1738009200, \"room\": \"kitchen\", \"nodeId\": 2, \"onOff\": false}', '{\"timestamp\": 1738011600, \"room\": \"livingroom\", \"nodeId\": 2, \"onOff\": true}', '{\"timestamp\": 1738011660, \"room\": \"livingroom\", \"nodeId\": 1, \"occupancy\": 1}', '{\"timestamp\": 1738015200, \"room\": \"livingroom\", \"nodeId\": 2, \"onOff\": false}', '{\"timestamp\": 1738018800, \"room\": \"bedroom\", \"nodeId\": 2, \"onOff\": true}', '{\"timestamp\": 1738018860, \"room\": \"pillbox\", \"nodeId\": 1, \"onOff\": true}', '{\"timestamp\": 1738019400, \"room\": \"bedroom\", \"nodeId\": 2, \"onOff\": false}', '{\"timestamp\": 1738029600, \"room\": \"kitchen\", \"nodeId\": 2, \"onOff\": true}', '{\"timestamp\": 1738029660, \"room\": \"kitchen\", \"event\": \"fridge_opened\"}']}, 'estimate': 'anomalous'}, {'situation': {'situation_description': 'The elderly person exhibited a concerning pattern of movement during this timeframe. After being in the kitchen and opening the fridge, they spent time in the living room before heading to the bedroom briefly. Notably, they visited the pillbox which indicates they may have taken medication, but their absence from key areas, particularly after extended periods, raises questions about their overall awareness and safety. The absence of movements in critical areas during this timeframe could suggest disorientation or a potential health risk.', 'result': 'anomalous', 'start_timestamp': 1738094460, 'end_timestamp': 1738126200, 'details': ['{\"timestamp\": 1738094460, \"room\": \"hall\", \"nodeId\": 1, \"occupancy\": 1}', '{\"timestamp\": 1738094520, \"room\": \"kitchen\", \"nodeId\": 2, \"onOff\": true}', '{\"timestamp\": 1738094580, \"room\": \"kitchen\", \"event\": \"fridge_opened\"}', '{\"timestamp\": 1738095600, \"room\": \"kitchen\", \"nodeId\": 2, \"onOff\": false}', '{\"timestamp\": 1738098000, \"room\": \"livingroom\", \"nodeId\": 2, \"onOff\": true}', '{\"timestamp\": 1738098060, \"room\": \"livingroom\", \"nodeId\": 1, \"occupancy\": 1}', '{\"timestamp\": 1738101600, \"room\": \"livingroom\", \"nodeId\": 2, \"onOff\": false}', '{\"timestamp\": 1738105200, \"room\": \"bedroom\", \"nodeId\": 2, \"onOff\": true}', '{\"timestamp\": 1738105260, \"room\": \"pillbox\", \"nodeId\": 1, \"onOff\": true}', '{\"timestamp\": 1738105800, \"room\": \"bedroom\", \"nodeId\": 2, \"onOff\": false}', '{\"timestamp\": 1738116000, \"room\": \"kitchen\", \"nodeId\": 2, \"onOff\": true}', '{\"timestamp\": 1738116060, \"room\": \"kitchen\", \"event\": \"fridge_opened\"}', '{\"timestamp\": 1738117200, \"room\": \"kitchen\", \"nodeId\": 2, \"onOff\": false}', '{\"timestamp\": 1738118400, \"room\": \"livingroom\", \"nodeId\": 2, \"onOff\": true}', '{\"timestamp\": 1738118460, \"room\": \"livingroom\", \"nodeId\": 1, \"occupancy\": 1}', '{\"timestamp\": 1738122000, \"room\": \"livingroom\", \"nodeId\": 2, \"onOff\": false}', '{\"timestamp\": 1738125600, \"room\": \"bedroom\", \"nodeId\": 2, \"onOff\": true}', '{\"timestamp\": 1738125660, \"room\": \"pillbox\", \"nodeId\": 1, \"onOff\": true}', '{\"timestamp\": 1738126200, \"room\": \"bedroom\", \"nodeId\": 2, \"onOff\": false}']}, 'estimate': 'anomalous'}, {'situation': {'situation_description': 'The elderly person displayed a concerning pattern of behavior where they occupied the living room, turned lights on and off intermittently, and moved to and from the bedroom without staying in one place for long. After leaving the living room, they did not show any immediate signs of activity in the kitchen or pillbox. This raises concerns about their mobility and potential disorientation or confusion. The brevity of their movements between rooms suggests they may be experiencing difficulties with maintaining a stable routine.', 'result': 'anomalous', 'start_timestamp': 1738117200, 'end_timestamp': 1738126200, 'details': ['{\"timestamp\": 1738117200, \"room\": \"kitchen\", \"nodeId\": 2, \"onOff\": false}', '{\"timestamp\": 1738118400, \"room\": \"livingroom\", \"nodeId\": 2, \"onOff\": true}', '{\"timestamp\": 1738118460, \"room\": \"livingroom\", \"nodeId\": 1, \"occupancy\": 1}', '{\"timestamp\": 1738122000, \"room\": \"livingroom\", \"nodeId\": 2, \"onOff\": false}', '{\"timestamp\": 1738125600, \"room\": \"bedroom\", \"nodeId\": 2, \"onOff\": true}', '{\"timestamp\": 1738125660, \"room\": \"pillbox\", \"nodeId\": 1, \"onOff\": true}', '{\"timestamp\": 1738126200, \"room\": \"bedroom\", \"nodeId\": 2, \"onOff\": false}']}, 'estimate': 'anomalous'}, {'situation': {'situation_description': 'An unusual movement was observed when the individual spent a significant amount of time in the bathroom, with multiple log entries indicating extended periods of occupancy. The first log shows the individual entering the bathroom, followed by a long duration observed before leaving, which may raise concerns regarding health or mobility issues. After leaving the bathroom, the next movement was to the kitchen before finally moving to the living room. The extended time in the bathroom could indicate a potential need for monitoring.', 'result': 'anomalous', 'start_timestamp': 1737900300, 'end_timestamp': 1737900900, 'details': ['{\"timestamp\": 1737900300, \"room\": \"bathroom\", \"nodeId\": 2, \"onOff\": true}', '{\"timestamp\": 1737900600, \"room\": \"bathroom\", \"nodeId\": 3, \"humidity\": 6500}', '{\"timestamp\": 1737900900, \"room\": \"bathroom\", \"nodeId\": 2, \"onOff\": false}']}, 'estimate': 'normal'}, {'situation': {'situation_description': 'Anomalous movements were observed predominantly in the kitchen and bedroom. There was an extended period of inactivity as indicated by a lack of motion in the kitchen immediately after using the fridge, followed by a rush of movements in the living room before going to the bedroom. The absence of motion for a considerable duration raises concerns regarding potential difficulties the elderly person might be facing in moving about safely. This inconsistent activity pattern suggests that closer monitoring could be appropriate.', 'result': 'anomalous', 'start_timestamp': 1737921660, 'end_timestamp': 1737943260, 'details': ['{\"timestamp\": 1737921660, \"room\": \"hall\", \"nodeId\": 1, \"occupancy\": 1}', '{\"timestamp\": 1737921720, \"room\": \"kitchen\", \"nodeId\": 2, \"onOff\": true}', '{\"timestamp\": 1737921780, \"room\": \"kitchen\", \"event\": \"fridge_opened\"}', '{\"timestamp\": 1737922800, \"room\": \"kitchen\", \"nodeId\": 2, \"onOff\": false}', '{\"timestamp\": 1737925200, \"room\": \"livingroom\", \"nodeId\": 2, \"onOff\": true}', '{\"timestamp\": 1737925260, \"room\": \"livingroom\", \"nodeId\": 1, \"occupancy\": 1}', '{\"timestamp\": 1737928800, \"room\": \"livingroom\", \"nodeId\": 2, \"onOff\": false}', '{\"timestamp\": 1737932400, \"room\": \"bedroom\", \"nodeId\": 2, \"onOff\": true}', '{\"timestamp\": 1737932460, \"room\": \"pillbox\", \"nodeId\": 1, \"onOff\": true}', '{\"timestamp\": 1737933000, \"room\": \"bedroom\", \"nodeId\": 2, \"onOff\": false}', '{\"timestamp\": 1737943200, \"room\": \"kitchen\", \"nodeId\": 2, \"onOff\": true}', '{\"timestamp\": 1737943260, \"room\": \"kitchen\", \"event\": \"fridge_opened\"}']}, 'estimate': 'anomalous'}]\n"
     ]
    }
   ],
   "source": [
    "# Load in our dataset\n",
    "# Open and read the JSON file\n",
    "with open('data/memory.json', 'r') as file:\n",
    "    dataset = json.load(file)\n",
    "\n",
    "# Print the data\n",
    "print(dataset)"
   ]
  },
  {
   "cell_type": "code",
   "execution_count": 7,
   "id": "cde08860-b393-49b8-a620-06a8c0990a64",
   "metadata": {},
   "outputs": [
    {
     "name": "stdout",
     "output_type": "stream",
     "text": [
      "Number of Investigations: 13\n"
     ]
    }
   ],
   "source": [
    "print(f\"Number of Investigations: {len(dataset):,}\")"
   ]
  },
  {
   "cell_type": "code",
   "execution_count": 8,
   "id": "3e29a5ab-ca61-41cc-9b33-22d374681b85",
   "metadata": {},
   "outputs": [],
   "source": [
    "# Investigate a particular datapoint\n",
    "datapoint = dataset[2]\n"
   ]
  },
  {
   "cell_type": "code",
   "execution_count": 9,
   "id": "40a4e10f-6710-4780-a95e-6c0030c3fb87",
   "metadata": {},
   "outputs": [
    {
     "name": "stdout",
     "output_type": "stream",
     "text": [
      "['{\"timestamp\": 1738159500, \"room\": \"bathroom\", \"nodeId\": 2, \"onOff\": true}', '{\"timestamp\": 1738159800, \"room\": \"bathroom\", \"nodeId\": 3, \"humidity\": 6500}', '{\"timestamp\": 1738160100, \"room\": \"bathroom\", \"nodeId\": 2, \"onOff\": false}']\n",
      "anomalous\n",
      "During this period, there was a significant amount of time spent in the bathroom without any off event, indicating a prolonged stay. Activity logs show occupancy before and after a long duration in the bathroom, prompting concern regarding the individual's safety and well-being. The entry details suggest no return from the bathroom for an extended duration, which may not be typical behavior. Close monitoring may be warranted to ensure the person's safety.\n",
      "normal\n"
     ]
    }
   ],
   "source": [
    "# Investigate\n",
    "\n",
    "print(datapoint[\"situation\"][\"details\"])\n",
    "print(datapoint[\"situation\"][\"result\"])\n",
    "print(datapoint[\"situation\"][\"situation_description\"])\n",
    "print(datapoint[\"estimate\"])\n"
   ]
  },
  {
   "cell_type": "code",
   "execution_count": 10,
   "id": "89078cb1-9679-4eb0-b295-599b8586bcd1",
   "metadata": {},
   "outputs": [
    {
     "data": {
      "image/png": "[encoded data removed]",
      "text/plain": [
       "<Figure size 800x600 with 1 Axes>"
      ]
     },
     "metadata": {},
     "output_type": "display_data"
    }
   ],
   "source": [
    "# Plot the distribution of results\n",
    "\n",
    "# Count the occurrences of \"normal\" and \"anomalous\" results\n",
    "situation_counts = {\"normal\": 0, \"anomalous\": 0}\n",
    "for entry in dataset:\n",
    "    result = entry.get(\"estimate\", \"unknown\").lower()\n",
    "    if result in situation_counts:\n",
    "        situation_counts[result] += 1\n",
    "\n",
    "# Extract keys and values for the bar chart\n",
    "labels = list(situation_counts.keys())\n",
    "counts = list(situation_counts.values())\n",
    "\n",
    "# Plot the bar chart\n",
    "plt.figure(figsize=(8, 6))\n",
    "plt.bar(labels, counts, color=['green', 'red'], alpha=0.7)\n",
    "\n",
    "# Add labels and title\n",
    "plt.xlabel(\"Situation Type\", fontsize=12)\n",
    "plt.ylabel(\"Count\", fontsize=12)\n",
    "plt.title(\"Number of Normal vs Anomalous Situations\", fontsize=14)\n",
    "\n",
    "# Annotate bars with counts\n",
    "for i, count in enumerate(counts):\n",
    "    plt.text(i, count + 0.2, str(count), ha='center', fontsize=10)\n",
    "\n",
    "# Display the plot\n",
    "plt.tight_layout()\n",
    "plt.show()\n"
   ]
  },
  {
   "cell_type": "code",
   "execution_count": 11,
   "id": "eabc7c61-0cd2-41f4-baa1-b85400bbf87f",
   "metadata": {},
   "outputs": [
    {
     "name": "stdout",
     "output_type": "stream",
     "text": [
      "In the hour leading up to the final log, the elderly person seems to be spending an unusually extended period in the bedroom, with repeated entries indicating on and off activity. Particularly concerning is the fact that the person is recorded present in the living room for long gaps, indicating minimal movement. This pattern of inactivity, especially in the bedroom, may require monitoring for health or safety reasons.\n"
     ]
    }
   ],
   "source": [
    "# So what is the first anomalous items??\n",
    "\n",
    "for datapoint in dataset:\n",
    "    try:\n",
    "        estimate = datapoint[\"estimate\"]\n",
    "        if estimate == \"anomalous\":\n",
    "            print(datapoint['situation']['situation_description'])\n",
    "            break\n",
    "    except ValueError as e:\n",
    "        pass"
   ]
  },
  {
   "cell_type": "markdown",
   "id": "a0d02f58-23f6-4f81-a779-7c0555afd13d",
   "metadata": {},
   "source": [
    "## Now it's time to curate our dataset\n",
    "\n",
    "We select all items\n",
    "\n",
    "We will be create Item instances, which truncate the input and reasoning to fit within 180 tokens using the right Tokenizer\n",
    "\n",
    "And will create a prompt to be used during Training.\n",
    "\n",
    "Items will be rejected if they don't have sufficient characters.\n",
    "\n",
    "## But why 1180 tokens??\n",
    "\n",
    "This is an example of a \"hyper-parameter\". In other words, it's basically trial and error! We want a sufficiently large number of tokens so that we have enough useful information to gauge the price. But we also want to keep the number low so that we can train efficiently. \n",
    "\n",
    "I started with a number that seemed reasonable, and experimented with a few variations before settling on 180. If you have time, you should do the same! You might find that you can beat my results by finding a better balance. This kind of trial-and-error might sound a bit unsatisfactory, but it's a crucial part of the data science R&D process.\n",
    "\n",
    "There's another interesting reason why we might favor a lower number of tokens in the training data. When we eventually get to use our model at inference time, we'll want to provide new products and have it estimate a price. And we'll be using short descriptions of products - like 1-2 sentences. For best performance, we should size our training data to be similar to the inputs we will provide at inference time.\n",
    "\n"
   ]
  },
  {
   "cell_type": "code",
   "execution_count": 12,
   "id": "430b432f-b769-41da-9506-a238cb5cf1b6",
   "metadata": {},
   "outputs": [
    {
     "name": "stdout",
     "output_type": "stream",
     "text": [
      "There are 13 items\n"
     ]
    }
   ],
   "source": [
    "# Create an Item object for each with a result\n",
    "\n",
    "items = []\n",
    "for datapoint in dataset:\n",
    "    try:\n",
    "        estimate = datapoint[\"estimate\"]\n",
    "        if estimate == 'normal' or estimate == 'anomalous':\n",
    "            item = Item(datapoint['situation'], estimate)\n",
    "            if item.include:\n",
    "                items.append(item)\n",
    "    except ValueError as e:\n",
    "        pass\n",
    "\n",
    "print(f\"There are {len(items):,} items\")"
   ]
  },
  {
   "cell_type": "code",
   "execution_count": 13,
   "id": "0d570794-6f1d-462e-b567-a46bae3556a1",
   "metadata": {},
   "outputs": [
    {
     "data": {
      "text/plain": [
       "<$normal>"
      ]
     },
     "execution_count": 13,
     "metadata": {},
     "output_type": "execute_result"
    }
   ],
   "source": [
    "# Look at the first item\n",
    "\n",
    "items[1]"
   ]
  },
  {
   "cell_type": "code",
   "execution_count": 14,
   "id": "70219e99-22cc-4e08-9121-51f9707caef0",
   "metadata": {},
   "outputs": [
    {
     "name": "stdout",
     "output_type": "stream",
     "text": [
      "How would you classify this sensor data - normal or anomalous?\n",
      "\n",
      "[{\"timestamp\": 1737991200, \"room\": \"hall\", \"nodeId\": 1, \"occupancy\": 1}, {\"timestamp\": 1737991800, \"room\": \"porch\", \"nodeId\": 1, \"occupancy\": 1}, {\"timestamp\": 1737991860, \"room\": \"hall\", \"nodeId\": 1, \"occupancy\": 0}]\n",
      "\n",
      "\n",
      "Result is normal\n"
     ]
    }
   ],
   "source": [
    "# Investigate the prompt that will be used during training - the model learns to complete this\n",
    "\n",
    "print(items[1].prompt)"
   ]
  },
  {
   "cell_type": "code",
   "execution_count": 15,
   "id": "d9998b8d-d746-4541-9ac2-701108e0e8fb",
   "metadata": {},
   "outputs": [
    {
     "name": "stdout",
     "output_type": "stream",
     "text": [
      "How would you classify this sensor data - normal or anomalous?\n",
      "\n",
      "[{\"timestamp\": 1737991200, \"room\": \"hall\", \"nodeId\": 1, \"occupancy\": 1}, {\"timestamp\": 1737991800, \"room\": \"porch\", \"nodeId\": 1, \"occupancy\": 1}, {\"timestamp\": 1737991860, \"room\": \"hall\", \"nodeId\": 1, \"occupancy\": 0}]\n",
      "\n",
      "\n",
      "Result is \n"
     ]
    }
   ],
   "source": [
    "# Investigate the prompt that will be used during testing - the model has to complete this\n",
    "\n",
    "print(items[1].test_prompt())"
   ]
  },
  {
   "cell_type": "code",
   "execution_count": 16,
   "id": "7a116369-335a-412b-b70c-2add6675c2e3",
   "metadata": {},
   "outputs": [
    {
     "data": {
      "image/png": "[encoded data removed]",
      "text/plain": [
       "<Figure size 1500x600 with 1 Axes>"
      ]
     },
     "metadata": {},
     "output_type": "display_data"
    }
   ],
   "source": [
    "# Plot the distribution of token counts\n",
    "\n",
    "tokens = [item.token_count for item in items]\n",
    "plt.figure(figsize=(15, 6))\n",
    "plt.title(f\"Token counts: Avg {sum(tokens)/len(tokens):,.1f} and highest {max(tokens):,}\\n\")\n",
    "plt.xlabel('Length (tokens)')\n",
    "plt.ylabel('Count')\n",
    "plt.hist(tokens, rwidth=0.7, color=\"green\", bins=range(0, 1300, 10))\n",
    "plt.show()"
   ]
  },
  {
   "cell_type": "markdown",
   "id": "2b58dc61-747f-46f7-b9e0-c205db4f3e5e",
   "metadata": {},
   "source": [
    "## Sidenote\n",
    "\n",
    "If you like the variety of colors that matplotlib can use in its charts, you should bookmark this:\n",
    "\n",
    "https://matplotlib.org/stable/gallery/color/named_colors.html\n",
    "\n",
    "## Todos for you:\n",
    "\n",
    "- Review the Item class and check you're comfortable with it\n",
    "- Examine some Item objects, look at the training prompt with `item.prompt` and test prompt with `item.test_prompt()`\n",
    "- Make some more histograms to better understand the data\n",
    "\n"
   ]
  },
  {
   "cell_type": "markdown",
   "id": "45d18625-f9a6-4571-ac62-8ef04b8ec411",
   "metadata": {},
   "source": [
    "# Finally\n",
    "- Its time to break down our data into a training, test and validation dataset.\n",
    "- Its typical to use 5%-10% of your data for testing purposes, but actually we have far more than we need at this point. Well take 400,000 points for training, and we'll reserve 2,000 for testing, although we won't use all of them.\n",
    "\n",
    "\n",
    "Craft a dataset which is more balanced in terms of results. Try to balance out the categories - fewer anomalous items."
   ]
  },
  {
   "cell_type": "code",
   "execution_count": 17,
   "id": "79cc7c1d-b3ae-458b-b576-78421e01209c",
   "metadata": {},
   "outputs": [],
   "source": [
    "# Create a dict with a key of each result from normal to anomalous\n",
    "# And in the result, put a list of items with that result (\n",
    "\n",
    "slots = defaultdict(list)\n",
    "for item in items:\n",
    "    slots[item.result].append(item)"
   ]
  },
  {
   "cell_type": "code",
   "execution_count": 18,
   "id": "4affb0a3-f178-4946-b55d-c673ebde94d0",
   "metadata": {},
   "outputs": [
    {
     "data": {
      "text/plain": [
       "[<$normal>, <$normal>, <$normal>, <$normal>, <$normal>]"
      ]
     },
     "execution_count": 18,
     "metadata": {},
     "output_type": "execute_result"
    }
   ],
   "source": [
    "slots['normal']"
   ]
  },
  {
   "cell_type": "code",
   "execution_count": 19,
   "id": "69d4ca90-9b62-49f1-8a45-1dc0f5cbd1b4",
   "metadata": {},
   "outputs": [
    {
     "name": "stdout",
     "output_type": "stream",
     "text": [
      "There are 12 items in the sample\n"
     ]
    }
   ],
   "source": [
    "# Create a dataset called \"sample\" which tries to more evenly take from the range of results\n",
    "# And gives more weight to items from categories other than Anomalous\n",
    "# Set random seed for reproducibility\n",
    "\n",
    "# Note: we are not duplicating data here \n",
    "\n",
    "np.random.seed(42)\n",
    "random.seed(42)\n",
    "size=int(len(items)/2)\n",
    "sample = []\n",
    "for i in ['normal', 'anomalous']:\n",
    "    slot = slots[i]\n",
    "    weights = np.array([1 if item.result=='Normal' else 1 for item in slot])\n",
    "    weights = weights / np.sum(weights)\n",
    "    selected_indices = np.random.choice(len(slot), size=size, replace=True, p=weights)\n",
    "    selected = [slot[i] for i in selected_indices]\n",
    "    sample.extend(selected)\n",
    "\n",
    "print(f\"There are {len(sample):,} items in the sample\")"
   ]
  },
  {
   "cell_type": "code",
   "execution_count": 20,
   "id": "18fbb4cd-3359-4cd9-96d2-09b03c6458f9",
   "metadata": {},
   "outputs": [
    {
     "name": "stdout",
     "output_type": "stream",
     "text": [
      "Divided into a training set of 9 items and test set of 3 items\n"
     ]
    }
   ],
   "source": [
    "train_end = int(len(sample)*0.80) # use 80% of the samples for train and 20% for test\n",
    "\n",
    "random.seed(42)\n",
    "random.shuffle(sample)\n",
    "train = sample[:train_end]\n",
    "test = sample[train_end:len(sample)]\n",
    "print(f\"Divided into a training set of {len(train):,} items and test set of {len(test):,} items\")"
   ]
  },
  {
   "cell_type": "code",
   "execution_count": 21,
   "id": "83eaf1df-e5eb-4ac0-b8db-6f3b3676212a",
   "metadata": {},
   "outputs": [
    {
     "name": "stdout",
     "output_type": "stream",
     "text": [
      "[<$anomalous>, <$normal>, <$normal>, <$anomalous>, <$anomalous>, <$anomalous>, <$anomalous>, <$normal>, <$normal>]\n"
     ]
    }
   ],
   "source": [
    "print(train)"
   ]
  },
  {
   "cell_type": "code",
   "execution_count": 22,
   "id": "a5509145-390c-48c3-95c3-1c6e35277e67",
   "metadata": {},
   "outputs": [],
   "source": [
    "# One more thing!\n",
    "# Let's pickle the training and test dataset so we don't have to execute all this code next time!\n",
    "\n",
    "with open('train.pkl', 'wb') as file:\n",
    "    pickle.dump(train, file)\n",
    "\n",
    "with open('test.pkl', 'wb') as file:\n",
    "    pickle.dump(test, file)"
   ]
  },
  {
   "cell_type": "markdown",
   "id": "deb012d4-c49a-4749-bf83-4fc3a1f5a8da",
   "metadata": {},
   "source": [
    "## Now we have real training and test data that has come from RLHF? - Reinforcement Learning from Human Feedback\n",
    "RLHF is a machine learning (ML) technique that uses human feedback to optimize ML models to self-learn more efficiently"
   ]
  },
  {
   "cell_type": "code",
   "execution_count": null,
   "id": "7631041b-2f37-47ca-92ef-50d59eb57c5c",
   "metadata": {},
   "outputs": [],
   "source": []
  }
 ],
 "metadata": {
  "kernelspec": {
   "display_name": "Python 3 (ipykernel)",
   "language": "python",
   "name": "python3"
  },
  "language_info": {
   "codemirror_mode": {
    "name": "ipython",
    "version": 3
   },
   "file_extension": ".py",
   "mimetype": "text/x-python",
   "name": "python",
   "nbconvert_exporter": "python",
   "pygments_lexer": "ipython3",
   "version": "3.12.3"
  }
 },
 "nbformat": 4,
 "nbformat_minor": 5
}
