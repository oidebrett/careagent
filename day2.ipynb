{
 "cells": [
  {
   "cell_type": "markdown",
   "id": "db8736a7-ed94-441c-9556-831fa57b5a10",
   "metadata": {},
   "source": [
    "# The Caring Home / Helpful Home Continued\n",
    "\n",
    "A model that can look for non normal situations in a elderly person home, from smart home IoT sensors.\n",
    "\n",
    "## Baseline Models\n",
    "\n",
    "Today we work on the simplest models to act as a starting point that we will beat."
   ]
  },
  {
   "cell_type": "code",
   "execution_count": 1,
   "id": "681c717b-4c24-4ac3-a5f3-3c5881d6e70a",
   "metadata": {},
   "outputs": [],
   "source": [
    "# imports\n",
    "\n",
    "import os\n",
    "import math\n",
    "import json\n",
    "import random\n",
    "from dotenv import load_dotenv\n",
    "from huggingface_hub import login\n",
    "from items import Item\n",
    "import matplotlib.pyplot as plt\n",
    "import numpy as np\n",
    "import pickle\n",
    "from collections import Counter"
   ]
  },
  {
   "cell_type": "code",
   "execution_count": 2,
   "id": "933b6e75-3661-4f30-b0b5-c28d04e3748e",
   "metadata": {},
   "outputs": [],
   "source": [
    "# More imports for our traditional machine learning\n",
    "\n",
    "import pandas as pd\n",
    "import numpy as np\n",
    "#from sklearn.metrics import mean_squared_error, r2_score\n",
    "from sklearn.preprocessing import StandardScaler\n",
    "from sklearn.model_selection import train_test_split\n",
    "from sklearn.metrics import classification_report\n",
    "import joblib\n"
   ]
  },
  {
   "cell_type": "markdown",
   "id": "b3c87c11-8dbe-4b8c-8989-01e3d3a60026",
   "metadata": {},
   "source": [
    "## NLP imports\n",
    "\n",
    "In the next cell, we have more imports for our NLP related machine learning.  \n",
    "If the gensim import gives you an error like \"Cannot import name 'triu' from 'scipy.linalg' then please run in another cell:  \n",
    "`!pip install \"scipy<1.13\"`  \n",
    "As described on StackOverflow [here](https://stackoverflow.com/questions/78279136/importerror-cannot-import-name-triu-from-scipy-linalg-when-importing-gens).  \n",
    "Many thanks to students Arnaldo G and Ard V for sorting this."
   ]
  },
  {
   "cell_type": "code",
   "execution_count": 3,
   "id": "a1ac3ec0-183c-4a12-920b-b06397f86815",
   "metadata": {},
   "outputs": [],
   "source": [
    "# Finally, more imports for more advanced machine learning\n",
    "from sklearn.ensemble import RandomForestClassifier"
   ]
  },
  {
   "cell_type": "code",
   "execution_count": 4,
   "id": "6c01ee5f-c4fc-44fe-9d3a-907e8a0426d2",
   "metadata": {},
   "outputs": [],
   "source": [
    "# Constants - used for printing to stdout in color\n",
    "\n",
    "GREEN = \"\\033[92m\"\n",
    "YELLOW = \"\\033[93m\"\n",
    "RED = \"\\033[91m\"\n",
    "RESET = \"\\033[0m\"\n",
    "COLOR_MAP = {\"red\":RED, \"orange\": YELLOW, \"green\": GREEN}"
   ]
  },
  {
   "cell_type": "code",
   "execution_count": 5,
   "id": "36d05bdc-0155-4c72-a7ee-aa4e614ffd3c",
   "metadata": {},
   "outputs": [],
   "source": [
    "# environment\n",
    "\n",
    "load_dotenv()\n",
    "os.environ['OPENAI_API_KEY'] = os.getenv('OPENAI_API_KEY', 'your-key-if-not-using-env')\n",
    "os.environ['ANTHROPIC_API_KEY'] = os.getenv('ANTHROPIC_API_KEY', 'your-key-if-not-using-env')\n",
    "os.environ['HF_TOKEN'] = os.getenv('HF_TOKEN', 'your-key-if-not-using-env')"
   ]
  },
  {
   "cell_type": "code",
   "execution_count": 6,
   "id": "4dd3aad2-6f99-433c-8792-e461d2f06622",
   "metadata": {},
   "outputs": [
    {
     "name": "stderr",
     "output_type": "stream",
     "text": [
      "Note: Environment variable`HF_TOKEN` is set and is the current active token independently from the token you've just configured.\n"
     ]
    }
   ],
   "source": [
    "# Log in to HuggingFace\n",
    "\n",
    "hf_token = os.environ['HF_TOKEN']\n",
    "login(hf_token, add_to_git_credential=True)"
   ]
  },
  {
   "cell_type": "code",
   "execution_count": 7,
   "id": "c830ed3e-24ee-4af6-a07b-a1bfdcd39278",
   "metadata": {},
   "outputs": [],
   "source": [
    "%matplotlib inline"
   ]
  },
  {
   "cell_type": "markdown",
   "id": "5105e13c-bca0-4c70-bfaa-649345f53322",
   "metadata": {},
   "source": [
    "# Loading the pkl files\n",
    "\n",
    "Let's avoid curating all our data again! Load in the pickle files\n"
   ]
  },
  {
   "cell_type": "code",
   "execution_count": 8,
   "id": "5c9b05f4-c9eb-462c-8d86-de9140a2d985",
   "metadata": {},
   "outputs": [],
   "source": [
    "with open('train.pkl', 'rb') as file:\n",
    "    train = pickle.load(file)\n",
    "\n",
    "with open('test.pkl', 'rb') as file:\n",
    "    test = pickle.load(file)"
   ]
  },
  {
   "cell_type": "code",
   "execution_count": 9,
   "id": "a84638f7-5ff7-4f54-8751-3ef156264aee",
   "metadata": {
    "scrolled": true
   },
   "outputs": [
    {
     "name": "stdout",
     "output_type": "stream",
     "text": [
      "How would you classify this sensor data - normal or anomalous?\n",
      "\n",
      "[{\"timestamp\": 1738094460, \"room\": \"hall\", \"nodeId\": 1, \"occupancy\": 1}, {\"timestamp\": 1738094520, \"room\": \"kitchen\", \"nodeId\": 2, \"onOff\": true}, {\"timestamp\": 1738094580, \"room\": \"kitchen\", \"event\": \"fridge_opened\"}, {\"timestamp\": 1738095600, \"room\": \"kitchen\", \"nodeId\": 2, \"onOff\": false}, {\"timestamp\": 1738098000, \"room\": \"livingroom\", \"nodeId\": 2, \"onOff\": true}, {\"timestamp\": 1738098060, \"room\": \"livingroom\", \"nodeId\": 1, \"occupancy\": 1}, {\"timestamp\": 1738101600, \"room\": \"livingroom\", \"nodeId\": 2, \"onOff\": false}, {\"timestamp\": 1738105200, \"room\": \"bedroom\", \"nodeId\": 2, \"onOff\": true}, {\"timestamp\": 1738105260, \"room\": \"pillbox\", \"nodeId\": 1, \"onOff\": true}, {\"timestamp\": 1738105800, \"room\": \"bedroom\", \"nodeId\": 2, \"onOff\": false}, {\"timestamp\": 1738116000, \"room\": \"kitchen\", \"nodeId\": 2, \"onOff\": true}, {\"timestamp\": 1738116060, \"room\": \"kitchen\", \"event\": \"fridge_opened\"}]\n",
      "\n",
      "\n",
      "Result is anomalous\n"
     ]
    }
   ],
   "source": [
    "# Remind ourselves the training prompt\n",
    "\n",
    "print(train[0].prompt)"
   ]
  },
  {
   "cell_type": "code",
   "execution_count": 10,
   "id": "d83cdb39-caa6-4ced-b5e4-4ff203126236",
   "metadata": {},
   "outputs": [
    {
     "name": "stdout",
     "output_type": "stream",
     "text": [
      "[{\"timestamp\": 1738073100, \"room\": \"bathroom\", \"nodeId\": 2, \"onOff\": true}, {\"timestamp\": 1738073700, \"room\": \"bathroom\", \"nodeId\": 2, \"onOff\": false}, {\"timestamp\": 1738077600, \"room\": \"hall\", \"nodeId\": 1, \"occupancy\": 1}, {\"timestamp\": 1738078200, \"room\": \"porch\", \"nodeId\": 1, \"occupancy\": 1}, {\"timestamp\": 1738078260, \"room\": \"hall\", \"nodeId\": 1, \"occupancy\": 0}, {\"timestamp\": 1738094400, \"room\": \"porch\", \"nodeId\": 1, \"occupancy\": 1}]\n",
      "\n"
     ]
    }
   ],
   "source": [
    "# Remind ourselves the details\n",
    "\n",
    "print(test[0].details)"
   ]
  },
  {
   "cell_type": "code",
   "execution_count": 11,
   "id": "b7619c85-6e9e-48a1-8efe-c6a60471b87c",
   "metadata": {},
   "outputs": [
    {
     "name": "stdout",
     "output_type": "stream",
     "text": [
      "How would you classify this sensor data - normal or anomalous?\n",
      "\n",
      "[{\"timestamp\": 1738094460, \"room\": \"hall\", \"nodeId\": 1, \"occupancy\": 1}, {\"timestamp\": 1738094520, \"room\": \"kitchen\", \"nodeId\": 2, \"onOff\": true}, {\"timestamp\": 1738094580, \"room\": \"kitchen\", \"event\": \"fridge_opened\"}, {\"timestamp\": 1738095600, \"room\": \"kitchen\", \"nodeId\": 2, \"onOff\": false}, {\"timestamp\": 1738098000, \"room\": \"livingroom\", \"nodeId\": 2, \"onOff\": true}, {\"timestamp\": 1738098060, \"room\": \"livingroom\", \"nodeId\": 1, \"occupancy\": 1}, {\"timestamp\": 1738101600, \"room\": \"livingroom\", \"nodeId\": 2, \"onOff\": false}, {\"timestamp\": 1738105200, \"room\": \"bedroom\", \"nodeId\": 2, \"onOff\": true}, {\"timestamp\": 1738105260, \"room\": \"pillbox\", \"nodeId\": 1, \"onOff\": true}, {\"timestamp\": 1738105800, \"room\": \"bedroom\", \"nodeId\": 2, \"onOff\": false}, {\"timestamp\": 1738116000, \"room\": \"kitchen\", \"nodeId\": 2, \"onOff\": true}, {\"timestamp\": 1738116060, \"room\": \"kitchen\", \"event\": \"fridge_opened\"}]\n",
      "\n",
      "\n",
      "Result is \n"
     ]
    }
   ],
   "source": [
    "# Remind a test prompt\n",
    "\n",
    "print(train[0].test_prompt())"
   ]
  },
  {
   "cell_type": "markdown",
   "id": "bcccf130-125a-4958-bac3-f46dfcb29b3f",
   "metadata": {},
   "source": [
    "## Unveiling a mighty script that we will use a lot!\n",
    "\n",
    "A rather pleasing Test Harness that will evaluate any model against the items from the Test set\n",
    "\n",
    "And show us the results in a visually satisfying way.\n",
    "\n",
    "You write a function of this form:\n",
    "\n",
    "```\n",
    "def my_prediction_function(item):\n",
    "    # my code here\n",
    "    return my_estimate\n",
    "```\n",
    "\n",
    "And then you call:\n",
    "\n",
    "`Tester.test(my_prediction_function)`\n",
    "\n",
    "To evaluate your model."
   ]
  },
  {
   "cell_type": "code",
   "execution_count": 12,
   "id": "b5793f5c-e23e-4a74-9496-1e30dd1e8935",
   "metadata": {},
   "outputs": [],
   "source": [
    "class Tester:\n",
    "\n",
    "    def __init__(self, predictor, data, title=None, size=20):\n",
    "        self.predictor = predictor\n",
    "        self.data = data\n",
    "        self.title = title or predictor.__name__.replace(\"_\", \" \").title()\n",
    "        self.size = size\n",
    "        self.guesses = []\n",
    "        self.truths = []\n",
    "        self.errors = []\n",
    "        self.colors = []\n",
    "\n",
    "    def color_for(self, error, truth):\n",
    "        if not error:\n",
    "            return \"green\"\n",
    "        else:\n",
    "            return \"red\"\n",
    "    \n",
    "    def run_datapoint(self, i):\n",
    "        datapoint = self.data[i]\n",
    "        guess = self.predictor(datapoint)\n",
    "        truth = datapoint.result\n",
    "        error = guess != truth\n",
    "        color = self.color_for(error, truth)\n",
    "        details = datapoint.details if len(datapoint.details) <= 40 else datapoint.details[:40]+\"...\"\n",
    "        self.guesses.append(guess)\n",
    "        self.truths.append(truth) \n",
    "        self.errors.append(error)\n",
    "        self.colors.append(color)\n",
    "        print(f\"{COLOR_MAP[color]}{i+1}: Guess: {guess} Truth: {truth:} Error: {error:} Item: {details}{RESET}\")\n",
    "\n",
    "    def chart(self, title):\n",
    "        actual = self.truths\n",
    "        predicted = self.guesses\n",
    "\n",
    "        # Get unique classes\n",
    "        classes = list(set(actual + predicted))  # Union of unique classes in actual and predicted\n",
    "\n",
    "        # Initialize the confusion matrix as a dictionary\n",
    "        confusion_matrix = {true: {pred: 0 for pred in classes} for true in classes}\n",
    "\n",
    "        # Populate the confusion matrix\n",
    "        for a, p in zip(actual, predicted):\n",
    "            confusion_matrix[a][p] += 1\n",
    "\n",
    "        # Convert the confusion matrix into a 2D list for visualization\n",
    "        matrix = [[confusion_matrix[true][pred] for pred in classes] for true in classes]\n",
    "\n",
    "        # Plot the confusion matrix\n",
    "        plt.figure(figsize=(8, 6))\n",
    "        plt.imshow(matrix, interpolation='nearest', cmap=plt.cm.Blues)\n",
    "        plt.title(title)\n",
    "        plt.colorbar()\n",
    "\n",
    "        # Add labels\n",
    "        tick_marks = range(len(classes))\n",
    "        plt.xticks(tick_marks, classes)\n",
    "        plt.yticks(tick_marks, classes)\n",
    "        plt.ylabel('Actual Label')\n",
    "        plt.xlabel('Predicted Label')\n",
    "\n",
    "        max_val = max(max(row) for row in matrix) if matrix else 1\n",
    "        \n",
    "        # Add text annotations\n",
    "        for i in range(len(classes)):\n",
    "            for j in range(len(classes)):\n",
    "                # Choose white for dark cells and black for lighter cells\n",
    "                value = matrix[i][j]\n",
    "                text_color = \"white\" if value > (max_val * 0.99) else \"black\"\n",
    "                plt.text(j, i, value,\n",
    "                        horizontalalignment=\"center\",\n",
    "                        color=text_color)\n",
    "\n",
    "        plt.tight_layout()\n",
    "        plt.show()\n",
    "\n",
    "\n",
    "    def report(self):\n",
    "        average_error = sum(self.errors) / self.size\n",
    "        hits = sum(1 for color in self.colors if color==\"green\")\n",
    "        title = f\"{self.title} Error={average_error:,.2f} Hits={hits/self.size*100:.1f}%\"\n",
    "        self.chart(title)\n",
    "\n",
    "    def run(self):\n",
    "        self.error = 0\n",
    "        for i in range(self.size):\n",
    "            self.run_datapoint(i)\n",
    "        self.report()\n",
    "\n",
    "    @classmethod\n",
    "    def test(cls, function, data):\n",
    "        cls(function, data, size=len(data)).run()"
   ]
  },
  {
   "cell_type": "markdown",
   "id": "066fef03-8338-4526-9df3-89b649ad4f0a",
   "metadata": {},
   "source": [
    "# Now for something basic\n",
    "\n",
    "What's the very simplest model you could imagine?\n",
    "\n",
    "Let's start with a random guess - either normal or anomalous!"
   ]
  },
  {
   "cell_type": "code",
   "execution_count": 13,
   "id": "66ea68e8-ab1b-4f0d-aba4-a59574d8f85e",
   "metadata": {},
   "outputs": [],
   "source": [
    "def random_anomaly_assessor(item):\n",
    "    choices = ['normal', 'anomalous']\n",
    "    choiceNum = random.randint(0,1)\n",
    "    choice = choices[choiceNum]  \n",
    "    return choice"
   ]
  },
  {
   "cell_type": "code",
   "execution_count": 14,
   "id": "379062f2-4da4-42cb-9dbf-7d0a8ed7d584",
   "metadata": {},
   "outputs": [
    {
     "name": "stdout",
     "output_type": "stream",
     "text": [
      "anomalous\n"
     ]
    }
   ],
   "source": [
    "print(random_anomaly_assessor(train[1]))"
   ]
  },
  {
   "cell_type": "code",
   "execution_count": 15,
   "id": "53d941cb-5b73-44ea-b893-3a0ce9997066",
   "metadata": {},
   "outputs": [
    {
     "name": "stdout",
     "output_type": "stream",
     "text": [
      "\u001b[91m1: Guess: normal Truth: anomalous Error: True Item: [{\"timestamp\": 1738094460, \"room\": \"hall...\u001b[0m\n",
      "\u001b[91m2: Guess: normal Truth: anomalous Error: True Item: [{\"timestamp\": 1738182000, \"room\": \"kitc...\u001b[0m\n",
      "\u001b[92m3: Guess: anomalous Truth: anomalous Error: False Item: [{\"timestamp\": 1738182000, \"room\": \"kitc...\u001b[0m\n",
      "\u001b[92m4: Guess: normal Truth: normal Error: False Item: [{\"timestamp\": 1737986700, \"room\": \"bath...\u001b[0m\n",
      "\u001b[91m5: Guess: normal Truth: anomalous Error: True Item: [{\"timestamp\": 1737928800, \"room\": \"livi...\u001b[0m\n",
      "\u001b[91m6: Guess: normal Truth: anomalous Error: True Item: [{\"timestamp\": 1737944400, \"room\": \"kitc...\u001b[0m\n",
      "\u001b[92m7: Guess: normal Truth: normal Error: False Item: [{\"timestamp\": 1737986700, \"room\": \"bath...\u001b[0m\n",
      "\u001b[92m8: Guess: normal Truth: normal Error: False Item: [{\"timestamp\": 1738245600, \"room\": \"pill...\u001b[0m\n",
      "\u001b[92m9: Guess: anomalous Truth: anomalous Error: False Item: [{\"timestamp\": 1738180920, \"room\": \"kitc...\u001b[0m\n",
      "\u001b[92m10: Guess: normal Truth: normal Error: False Item: [{\"timestamp\": 1738245600, \"room\": \"pill...\u001b[0m\n",
      "\u001b[92m11: Guess: normal Truth: normal Error: False Item: [{\"timestamp\": 1737986700, \"room\": \"bath...\u001b[0m\n"
     ]
    },
    {
     "data": {
      "image/png": "[encoded data removed]",
      "text/plain": [
       "<Figure size 800x600 with 2 Axes>"
      ]
     },
     "metadata": {},
     "output_type": "display_data"
    }
   ],
   "source": [
    "# Set the random seed\n",
    "\n",
    "random.seed(42)\n",
    "\n",
    "# Run our TestRunner\n",
    "Tester.test(random_anomaly_assessor, train)"
   ]
  },
  {
   "cell_type": "code",
   "execution_count": 16,
   "id": "3cef84a9-4932-48fd-9f7a-51cfc06e3216",
   "metadata": {},
   "outputs": [],
   "source": [
    "# Now some janky code to pluck out the key features\n",
    "# Don't worry too much about this: spoiler alert, it's not going to be much use in training!\n",
    "# This is called \"FEATURE ENGINEERING\" and is not an exact science!!! \n",
    "\n",
    "\n",
    "def prepare_features(data):\n",
    "    \"\"\"Convert the raw sensor data into meaningful features.\"\"\"\n",
    "    features = {}\n",
    "    \n",
    "    # Get all events for this day\n",
    "    events = json.loads(data.details)\n",
    "\n",
    "    # Get all unique rooms\n",
    "    unique_rooms = list(set(event['room'] for event in events))\n",
    "    \n",
    "    # Feature 1: Count events per room\n",
    "    room_counts = {}\n",
    "    for event in events:\n",
    "        room = event['room']\n",
    "        room_counts[room] = room_counts.get(room, 0) + 1\n",
    "    \n",
    "    # Add room counts to features\n",
    "    for room in ['bedroom', 'bathroom', 'kitchen', 'livingroom', 'pillbox', 'hall', 'porch']:\n",
    "        features[f'{room}_visits'] = room_counts.get(room, 0)\n",
    "    \n",
    "    # Feature 2: Count medication events (pillbox interactions)\n",
    "    features['medication_counts'] = sum(1 for event in events \n",
    "                                      if event['room'] == 'pillbox' and event['onOff'] == True)\n",
    "    \n",
    "    # Feature 3: Count fridge openings\n",
    "    features['fridge_openings'] = sum(1 for event in events \n",
    "                                    if event.get('event') == 'fridge_opened')\n",
    "    \n",
    "    # Feature 4: Calculate time spans between room transitions\n",
    "    timestamps = [event['timestamp'] for event in events]\n",
    "    if len(timestamps) > 1:\n",
    "        features['avg_time_between_events'] = np.mean(np.diff(timestamps))\n",
    "        features['max_time_between_events'] = np.max(np.diff(timestamps))\n",
    "    else:\n",
    "        features['avg_time_between_events'] = 0\n",
    "        features['max_time_between_events'] = 0\n",
    "    \n",
    "    # Feature 5: Count rapid room transitions (less than 2 minutes apart)\n",
    "    rapid_transitions = 0\n",
    "    for i in range(len(events)-1):\n",
    "        if events[i+1]['timestamp'] - events[i]['timestamp'] < 120:  # 2 minutes\n",
    "            rapid_transitions += 1\n",
    "    features['rapid_transitions'] = rapid_transitions\n",
    "    \n",
    "    return features\n"
   ]
  },
  {
   "cell_type": "code",
   "execution_count": 17,
   "id": "f4848b4a-3c5a-4168-83a5-57a1f3ff270d",
   "metadata": {},
   "outputs": [],
   "source": [
    "#Function to get the features of each datapoint\n",
    "def get_features(item):\n",
    "    \"\"\"Get the datapoints features.\"\"\"\n",
    "    features = prepare_features(item)\n",
    "\n",
    "    return features"
   ]
  },
  {
   "cell_type": "code",
   "execution_count": 18,
   "id": "0cd11cc8-f16e-4991-b531-482189ddc4b6",
   "metadata": {},
   "outputs": [
    {
     "data": {
      "text/plain": [
       "{'bedroom_visits': 0,\n",
       " 'bathroom_visits': 2,\n",
       " 'kitchen_visits': 0,\n",
       " 'livingroom_visits': 0,\n",
       " 'pillbox_visits': 0,\n",
       " 'hall_visits': 2,\n",
       " 'porch_visits': 2,\n",
       " 'medication_counts': 0,\n",
       " 'fridge_openings': 0,\n",
       " 'avg_time_between_events': np.float64(4260.0),\n",
       " 'max_time_between_events': np.int64(16140),\n",
       " 'rapid_transitions': 1}"
      ]
     },
     "execution_count": 18,
     "metadata": {},
     "output_type": "execute_result"
    }
   ],
   "source": [
    "\n",
    "get_features(test[0])"
   ]
  },
  {
   "cell_type": "code",
   "execution_count": 19,
   "id": "88850855-f5bd-4be2-9d7c-75bf8a21609b",
   "metadata": {},
   "outputs": [
    {
     "data": {
      "text/plain": [
       "{'bedroom_visits': 2,\n",
       " 'bathroom_visits': 0,\n",
       " 'kitchen_visits': 5,\n",
       " 'livingroom_visits': 0,\n",
       " 'pillbox_visits': 1,\n",
       " 'hall_visits': 0,\n",
       " 'porch_visits': 0,\n",
       " 'medication_counts': 1,\n",
       " 'fridge_openings': 2,\n",
       " 'avg_time_between_events': np.float64(3077.1428571428573),\n",
       " 'max_time_between_events': np.int64(10200),\n",
       " 'rapid_transitions': 3}"
      ]
     },
     "execution_count": 19,
     "metadata": {},
     "output_type": "execute_result"
    }
   ],
   "source": [
    "# Look at features in a training item\n",
    "get_features(train[8])\n"
   ]
  },
  {
   "cell_type": "code",
   "execution_count": 20,
   "id": "ee9b5298-68b7-497d-8b2e-875287bb25b2",
   "metadata": {},
   "outputs": [],
   "source": [
    "#Train the model using Random Forest to fit the classification\n",
    "def train_anomaly_detector(json_data):\n",
    "    \"\"\"Train a machine learning model to detect anomalies.\"\"\"\n",
    "    \n",
    "    # Convert JSON data to features\n",
    "    X = []  # Features\n",
    "    y = []  # Labels\n",
    "    \n",
    "    for entry in json_data:\n",
    "        features = prepare_features(entry)\n",
    "        X.append(list(features.values()))\n",
    "        y.append(1 if entry.result == 'anomalous' else 0)\n",
    "    \n",
    "    # Convert to numpy arrays\n",
    "    X = np.array(X)\n",
    "    y = np.array(y)\n",
    "    \n",
    "    # Split the data\n",
    "    X_train, X_test, y_train, y_test = train_test_split(X, y, test_size=0.2, random_state=42)\n",
    "    \n",
    "    # Scale the features\n",
    "    scaler = StandardScaler()\n",
    "    X_train_scaled = scaler.fit_transform(X_train)\n",
    "    X_test_scaled = scaler.transform(X_test)\n",
    "    \n",
    "    # Train Random Forest model\n",
    "    model = RandomForestClassifier(n_estimators=100, random_state=42)\n",
    "    model.fit(X_train_scaled, y_train)\n",
    "    \n",
    "    # Evaluate the model\n",
    "    y_pred = model.predict(X_test_scaled)\n",
    "    print(classification_report(y_test, y_pred))\n",
    "    \n",
    "    return model, scaler# Train the model\n"
   ]
  },
  {
   "cell_type": "code",
   "execution_count": 21,
   "id": "d561faa5-e141-481a-b7ec-ea6e11dc8439",
   "metadata": {},
   "outputs": [
    {
     "name": "stdout",
     "output_type": "stream",
     "text": [
      "              precision    recall  f1-score   support\n",
      "\n",
      "           0       1.00      1.00      1.00         1\n",
      "           1       1.00      1.00      1.00         2\n",
      "\n",
      "    accuracy                           1.00         3\n",
      "   macro avg       1.00      1.00      1.00         3\n",
      "weighted avg       1.00      1.00      1.00         3\n",
      "\n"
     ]
    }
   ],
   "source": [
    "# Train the model\n",
    "model, scaler = train_anomaly_detector(train)"
   ]
  },
  {
   "cell_type": "code",
   "execution_count": 22,
   "id": "6561c3c7-ac7f-458b-983c-4a164b9d02c3",
   "metadata": {},
   "outputs": [],
   "source": [
    "# Function to predict result for a new datapoint\n",
    "def predict_anomaly(model, scaler, new_data):\n",
    "    \"\"\"Predict if a new day's data is anomalous.\"\"\"\n",
    "    features = prepare_features(new_data)\n",
    "    X = np.array([list(features.values())])\n",
    "    X_scaled = scaler.transform(X)\n",
    "    prediction = model.predict(X_scaled)\n",
    "    probability = model.predict_proba(X_scaled)\n",
    "    \n",
    "    return {\n",
    "        'is_anomalous': bool(prediction[0]),\n",
    "        'confidence': float(max(probability[0])),\n",
    "        'features_used': list(features.keys())\n",
    "    }\n",
    "    \n",
    "def random_forest_anomaly_assessor(item):    \n",
    "    # Example prediction\n",
    "    result = predict_anomaly(model, scaler, item)\n",
    "    if result['is_anomalous']:\n",
    "        return 'anomalous'\n",
    "    else:\n",
    "        return 'normal'\n",
    "    "
   ]
  },
  {
   "cell_type": "code",
   "execution_count": 23,
   "id": "9bf2caa4-657a-4fc6-9dcb-bed7eaf8dd65",
   "metadata": {},
   "outputs": [
    {
     "name": "stdout",
     "output_type": "stream",
     "text": [
      "\u001b[92m1: Guess: normal Truth: normal Error: False Item: [{\"timestamp\": 1738073100, \"room\": \"bath...\u001b[0m\n",
      "\u001b[92m2: Guess: normal Truth: normal Error: False Item: [{\"timestamp\": 1737900600, \"room\": \"bath...\u001b[0m\n",
      "\u001b[92m3: Guess: anomalous Truth: anomalous Error: False Item: [{\"timestamp\": 1738164600, \"room\": \"porc...\u001b[0m\n"
     ]
    },
    {
     "data": {
      "image/png": "[encoded data removed]",
      "text/plain": [
       "<Figure size 800x600 with 2 Axes>"
      ]
     },
     "metadata": {},
     "output_type": "display_data"
    }
   ],
   "source": [
    "# test it using Random Forest\n",
    "\n",
    "Tester.test(random_forest_anomaly_assessor, test)\n"
   ]
  },
  {
   "cell_type": "markdown",
   "id": "85e39550-bde8-4486-891c-5bc8e63af537",
   "metadata": {},
   "source": [
    "# Now we should save our regression model"
   ]
  },
  {
   "cell_type": "code",
   "execution_count": 24,
   "id": "cda0232e-f8f6-4054-a496-9ab56c3a483d",
   "metadata": {},
   "outputs": [
    {
     "data": {
      "text/plain": [
       "['random_forest_model.pkl']"
      ]
     },
     "execution_count": 24,
     "metadata": {},
     "output_type": "execute_result"
    }
   ],
   "source": [
    "# Save the model and scaler to a file\n",
    "\n",
    "joblib.dump((model, scaler), 'random_forest_model.pkl')"
   ]
  },
  {
   "cell_type": "code",
   "execution_count": null,
   "id": "902b3889-042d-4313-9573-5bbfe7475ee7",
   "metadata": {},
   "outputs": [],
   "source": []
  }
 ],
 "metadata": {
  "kernelspec": {
   "display_name": "Python 3 (ipykernel)",
   "language": "python",
   "name": "python3"
  },
  "language_info": {
   "codemirror_mode": {
    "name": "ipython",
    "version": 3
   },
   "file_extension": ".py",
   "mimetype": "text/x-python",
   "name": "python",
   "nbconvert_exporter": "python",
   "pygments_lexer": "ipython3",
   "version": "3.12.3"
  }
 },
 "nbformat": 4,
 "nbformat_minor": 5
}
