{
 "cells": [
  {
   "cell_type": "markdown",
   "id": "db8736a7-ed94-441c-9556-831fa57b5a10",
   "metadata": {},
   "source": [
    "# The Caring Home / Helpful Home Continued\n",
    "\n",
    "A model that can look for non normal situations in a elderly person home, from smart home IoT sensors.\n",
    "\n",
    "## Use AI to scan log file - but with a twist!!\n",
    "\n",
    "We will use an LLM to interpret the log files and turn this log data into understandable scenarios.\n",
    "Then we will use another LLM to classify the scenario was normal or anomalous"
   ]
  },
  {
   "cell_type": "code",
   "execution_count": 49,
   "id": "681c717b-4c24-4ac3-a5f3-3c5881d6e70a",
   "metadata": {},
   "outputs": [],
   "source": [
    "# imports\n",
    "\n",
    "import os\n",
    "import json\n",
    "import re\n",
    "from typing import Optional, List\n",
    "from openai import OpenAI\n",
    "from agents.situations import LoadedSituation, SituationSelection\n",
    "from agents.agent import Agent\n",
    "from datetime import datetime, timedelta\n",
    "from dotenv import load_dotenv\n",
    "from anthropic import Anthropic\n"
   ]
  },
  {
   "cell_type": "code",
   "execution_count": 50,
   "id": "36d05bdc-0155-4c72-a7ee-aa4e614ffd3c",
   "metadata": {},
   "outputs": [],
   "source": [
    "# environment\n",
    "\n",
    "load_dotenv()\n",
    "os.environ['OPENAI_API_KEY'] = os.getenv('OPENAI_API_KEY', 'your-key-if-not-using-env')\n",
    "os.environ['ANTHROPIC_API_KEY'] = os.getenv('ANTHROPIC_API_KEY', 'your-key-if-not-using-env')\n",
    "os.environ['OPENROUTER_API_KEY'] = os.getenv('OPENROUTER_API_KEY', 'your-key-if-not-using-env')\n",
    "os.environ['HYPERBOLIC_API_KEY'] = os.getenv('HYPERBOLIC_API_KEY', 'your-key-if-not-using-env')\n",
    "os.environ['HF_TOKEN'] = os.getenv('HF_TOKEN', 'your-key-if-not-using-env')"
   ]
  },
  {
   "cell_type": "code",
   "execution_count": 51,
   "id": "b0a6fb86-74a4-403c-ab25-6db2d74e9d2b",
   "metadata": {},
   "outputs": [],
   "source": [
    "openai = OpenAI()\n",
    "claude = Anthropic()"
   ]
  },
  {
   "cell_type": "code",
   "execution_count": 66,
   "id": "9d772f5c-4454-44eb-99ee-6cd8774bc4e2",
   "metadata": {},
   "outputs": [],
   "source": [
    "TIMEZONE = datetime.now().astimezone().tzinfo\n",
    "\n",
    "SYSTEM_PROMPT = f\"The timezone here is {str(TIMEZONE)}. \"\n",
    "SYSTEM_PROMPT += \"\"\"Your task is to analyze log entries from home sensors from a home occupied by an elderly person by grouping them into 6-hour intervals and converting each grouping into a clear, human-readable scenario. For each 6-hour interval, generate a neutral narrative that describes what occurred during that period. Important: The narrative (under \"situation_description\") must describe the events without any judgment about whether they are normal or anomalous. The determination of \"normal\" or \"anomalous\" should be provided solely in the separate \"result\" field when you are highly confident.\n",
    "\n",
    "For each 6-hour grouping, ensure the output includes:\n",
    "\n",
    "    situation_description: A concise, neutral summary (4-5 sentences) of the events that took place during the hour. This description should detail the observed movement patterns and sensor events without implying any evaluation.\n",
    "    result: A field that is either \"normal\" or \"anomalous\" based strictly on the log data. Do not embed this judgment in the narrative.\n",
    "    start_timestamp and end_timestamp: The exact timestamps from the logs that mark the beginning and end of the 6-hour interval.\n",
    "    details: A list of the raw log entries that occurred during the interval. Each log entry should include the original details (e.g., {\"timestamp\": 1737900000, \"room\": \"pillbox\", \"nodeId\": 1, \"onOff\": true}) and be escaped appropriately for JSON formatting.\n",
    "\n",
    "Important rules:\n",
    "\n",
    "    Do not include any evaluative or judgmental language in the \"situation_description.\" The narrative should allow a human or another LLM to independently assess whether the events are typical for an elderly person in the house.\n",
    "    When describing movements and events, you should mention human readable times of these movements and events but ensure that times used are consistent with the provided start and end timestamps.\n",
    "    When making a determination on whether this situation is normal or anomalous for an elderly person ensure that you consider the times of the day that would be normal for these types of movements and events for an elderly person.\n",
    "    Ensure that any time mentioned in the situation description directly corresponds to the start or end timestamps (and any other provided timestamps), without introducing new or inconsistent values.\n",
    "    Process and return only one 6-hour interval grouping per response.\n",
    "    When determined whether this situation's result is normal or anomalous you should consider times of events such as very late night time and early morning hours being unusual for elderly people.\n",
    "\n",
    "The output format must strictly adhere to the following JSON structure:\n",
    "{\n",
    "  \"situations\": [\n",
    "    {\n",
    "      \"situation_description\": \"Neutral narrative describing the events that occurred.\",\n",
    "      \"result\": \"normal | anomalous\",\n",
    "      \"start_timestamp\": \"exact log entry timestamp marking the start\",\n",
    "      \"end_timestamp\": \"exact log entry timestamp marking the end\",\n",
    "      \"details\": \"list of log entries that occurred in the interval\"\n",
    "    }\n",
    "  ]\n",
    "}\n",
    "\n",
    "\"\"\"\n",
    "\n",
    "USER_PROMPT_PREFIX = \"\"\"Analyze the following 6-hour block of log entries and create a neutral, human-readable scenario description of the events observed. \n",
    "Your description should summarize the recorded movement patterns in 4-5 clear sentences without including any evaluative language regarding whether the movement is \n",
    "typical or atypical. \n",
    "Here are the log entries:\n",
    "\n",
    "\"\"\"\n",
    "\n",
    "USER_PROMPT_SUFFIX = \"\\n\\nStrictly respond in valid JSON format, and only JSON and include exactly 1 situation, no more.\"\n",
    "\n"
   ]
  },
  {
   "cell_type": "code",
   "execution_count": 67,
   "id": "d5d74092-2800-49b3-bcc5-253dcb46a4cd",
   "metadata": {},
   "outputs": [],
   "source": [
    "# We are going to get the input data to inspect in 1 hour blocks\n",
    "\n",
    "filename = \"data/daily_routine_data.json\"\n",
    "\n",
    "INVESTIGATON_PERIOD_IN_HOURS = 6\n",
    "\n",
    "def parse():\n",
    "    \"\"\"\n",
    "    Parse the input file and group events by a 6-hour window.\n",
    "    \"\"\"\n",
    "    if not os.path.exists(filename):\n",
    "        return []\n",
    "\n",
    "    with open(filename, 'r') as file:\n",
    "        # Load and sort events by timestamp\n",
    "        try:\n",
    "            events = [json.loads(line) for line in file]\n",
    "        except json.JSONDecodeError:\n",
    "            print(\"error\")\n",
    "            return []\n",
    "\n",
    "        events.sort(key=lambda x: datetime.fromtimestamp(x[\"timestamp\"]))\n",
    "    \n",
    "        grouped = []\n",
    "        window_start = None\n",
    "        buffer = []\n",
    "    \n",
    "        # Group events in 6-hour windows\n",
    "        for event in events:\n",
    "            event_time = datetime.fromtimestamp(event[\"timestamp\"])\n",
    "            \n",
    "            # Start or reset grouping window\n",
    "            if window_start is None or event_time > window_start + timedelta(hours=INVESTIGATON_PERIOD_IN_HOURS):\n",
    "                if buffer:\n",
    "                    grouped.append({\"details\": buffer.copy()})\n",
    "                buffer.clear()\n",
    "                window_start = event_time\n",
    "    \n",
    "            buffer.append(event)\n",
    "    \n",
    "        # Append any remaining events in the buffer\n",
    "        if buffer:\n",
    "            grouped.append({\"details\": buffer})\n",
    "\n",
    "        return grouped\n",
    "\n",
    "    return []\n"
   ]
  },
  {
   "cell_type": "code",
   "execution_count": 68,
   "id": "e40ce05f-66c4-4c46-8e88-60d990f4aa82",
   "metadata": {},
   "outputs": [
    {
     "name": "stdout",
     "output_type": "stream",
     "text": [
      "{\"details\": [{\"timestamp\": 1737944400, \"room\": \"kitchen\", \"nodeId\": 2, \"endpointId\": 1, \"attribute\": {\"OnOff\": {\"OnOff\": false}}}, {\"timestamp\": 1737945600, \"room\": \"livingroom\", \"nodeId\": 2, \"endpointId\": 1, \"attribute\": {\"OnOff\": {\"OnOff\": true}}}, {\"timestamp\": 1737945660, \"room\": \"livingroom\", \"nodeId\": 1, \"endpointId\": 1, \"attribute\": {\"OccupancySensing\": {\"Occupancy\": 1}}}, {\"timestamp\": 1737949200, \"room\": \"livingroom\", \"nodeId\": 2, \"endpointId\": 1, \"attribute\": {\"OnOff\": {\"OnOff\": false}}}, {\"timestamp\": 1737952800, \"room\": \"bedroom\", \"nodeId\": 2, \"endpointId\": 1, \"attribute\": {\"OnOff\": {\"OnOff\": true}}}, {\"timestamp\": 1737952860, \"room\": \"pillbox\", \"nodeId\": 1, \"endpointId\": 1, \"attribute\": {\"OnOff\": {\"OnOff\": true}}}, {\"timestamp\": 1737953400, \"room\": \"bedroom\", \"nodeId\": 2, \"endpointId\": 1, \"attribute\": {\"OnOff\": {\"OnOff\": false}}}]}\n"
     ]
    }
   ],
   "source": [
    "loaded = parse()\n",
    "\n",
    "# Lets take the latest hour\n",
    "loaded = [loaded[2]] \n",
    "print('\\n\\n'.join([json.dumps(situation) for situation in loaded]))\n",
    "\n"
   ]
  },
  {
   "cell_type": "code",
   "execution_count": 69,
   "id": "eaf1653e-e394-4f4d-b51b-27bea993c476",
   "metadata": {},
   "outputs": [
    {
     "name": "stdout",
     "output_type": "stream",
     "text": [
      "{\"details\": [{\"timestamp\": 1737944400, \"room\": \"kitchen\", \"nodeId\": 2, \"endpointId\": 1, \"attribute\": {\"OnOff\": {\"OnOff\": false}}, \"eventTime\": \"Mon Jan 27 2025 02:20:00\"}, {\"timestamp\": 1737945600, \"room\": \"livingroom\", \"nodeId\": 2, \"endpointId\": 1, \"attribute\": {\"OnOff\": {\"OnOff\": true}}, \"eventTime\": \"Mon Jan 27 2025 02:40:00\"}, {\"timestamp\": 1737945660, \"room\": \"livingroom\", \"nodeId\": 1, \"endpointId\": 1, \"attribute\": {\"OccupancySensing\": {\"Occupancy\": 1}}, \"eventTime\": \"Mon Jan 27 2025 02:41:00\"}, {\"timestamp\": 1737949200, \"room\": \"livingroom\", \"nodeId\": 2, \"endpointId\": 1, \"attribute\": {\"OnOff\": {\"OnOff\": false}}, \"eventTime\": \"Mon Jan 27 2025 03:40:00\"}, {\"timestamp\": 1737952800, \"room\": \"bedroom\", \"nodeId\": 2, \"endpointId\": 1, \"attribute\": {\"OnOff\": {\"OnOff\": true}}, \"eventTime\": \"Mon Jan 27 2025 04:40:00\"}, {\"timestamp\": 1737952860, \"room\": \"pillbox\", \"nodeId\": 1, \"endpointId\": 1, \"attribute\": {\"OnOff\": {\"OnOff\": true}}, \"eventTime\": \"Mon Jan 27 2025 04:41:00\"}, {\"timestamp\": 1737953400, \"room\": \"bedroom\", \"nodeId\": 2, \"endpointId\": 1, \"attribute\": {\"OnOff\": {\"OnOff\": false}}, \"eventTime\": \"Mon Jan 27 2025 04:50:00\"}]}\n"
     ]
    }
   ],
   "source": [
    "# The LLM appear to get confused with timestamped data so lets add a human readable time\n",
    "\n",
    "# Iterate over each event in the details list\n",
    "for event in loaded[0][\"details\"]:\n",
    "    ts = event[\"timestamp\"]\n",
    "    # Convert timestamp to a datetime object in local timezone\n",
    "    dt = datetime.fromtimestamp(ts, tz=TIMEZONE)\n",
    "    # Format datetime to a human-readable string (e.g., \"Sun Jan 26 2025 20:00:00\")\n",
    "    event[\"eventTime\"] = dt.strftime(\"%a %b %d %Y %H:%M:%S\")\n",
    "\n",
    "# Print the updated JSON data structure\n",
    "print(json.dumps(loaded[0]))"
   ]
  },
  {
   "cell_type": "code",
   "execution_count": 70,
   "id": "a16202ab-037f-4eb7-b07e-df0dd6aab858",
   "metadata": {},
   "outputs": [],
   "source": [
    "def make_user_prompt(loaded) -> str:\n",
    "    \"\"\"\n",
    "    Create a user prompt for OpenAI based on the scraped deals provided\n",
    "    \"\"\"\n",
    "    user_prompt = USER_PROMPT_PREFIX\n",
    "    user_prompt += '\\n\\n'.join([json.dumps(situation) for situation in loaded])\n",
    "    user_prompt += USER_PROMPT_SUFFIX\n",
    "    return user_prompt"
   ]
  },
  {
   "cell_type": "code",
   "execution_count": 71,
   "id": "31edf67b-7a7f-4b87-a97a-c096e0e3c678",
   "metadata": {},
   "outputs": [
    {
     "data": {
      "text/plain": [
       "'Analyze the following 6-hour block of log entries and create a neutral, human-readable scenario description of the events observed. \\nYour description should summarize the recorded movement patterns in 4-5 clear sentences without including any evaluative language regarding whether the movement is \\ntypical or atypical. \\nHere are the log entries:\\n\\n{\"details\": [{\"timestamp\": 1737944400, \"room\": \"kitchen\", \"nodeId\": 2, \"endpointId\": 1, \"attribute\": {\"OnOff\": {\"OnOff\": false}}, \"eventTime\": \"Mon Jan 27 2025 02:20:00\"}, {\"timestamp\": 1737945600, \"room\": \"livingroom\", \"nodeId\": 2, \"endpointId\": 1, \"attribute\": {\"OnOff\": {\"OnOff\": true}}, \"eventTime\": \"Mon Jan 27 2025 02:40:00\"}, {\"timestamp\": 1737945660, \"room\": \"livingroom\", \"nodeId\": 1, \"endpointId\": 1, \"attribute\": {\"OccupancySensing\": {\"Occupancy\": 1}}, \"eventTime\": \"Mon Jan 27 2025 02:41:00\"}, {\"timestamp\": 1737949200, \"room\": \"livingroom\", \"nodeId\": 2, \"endpointId\": 1, \"attribute\": {\"OnOff\": {\"OnOff\": false}}, \"eventTime\": \"Mon Jan 27 2025 03:40:00\"}, {\"timestamp\": 1737952800, \"room\": \"bedroom\", \"nodeId\": 2, \"endpointId\": 1, \"attribute\": {\"OnOff\": {\"OnOff\": true}}, \"eventTime\": \"Mon Jan 27 2025 04:40:00\"}, {\"timestamp\": 1737952860, \"room\": \"pillbox\", \"nodeId\": 1, \"endpointId\": 1, \"attribute\": {\"OnOff\": {\"OnOff\": true}}, \"eventTime\": \"Mon Jan 27 2025 04:41:00\"}, {\"timestamp\": 1737953400, \"room\": \"bedroom\", \"nodeId\": 2, \"endpointId\": 1, \"attribute\": {\"OnOff\": {\"OnOff\": false}}, \"eventTime\": \"Mon Jan 27 2025 04:50:00\"}]}\\n\\nStrictly respond in valid JSON format, and only JSON and include exactly 1 situation, no more.'"
      ]
     },
     "execution_count": 71,
     "metadata": {},
     "output_type": "execute_result"
    }
   ],
   "source": [
    "make_user_prompt(loaded)"
   ]
  },
  {
   "cell_type": "markdown",
   "id": "e53211f3-4c43-4583-9798-fe853b86e98a",
   "metadata": {},
   "source": [
    "\n",
    "## Structure Response using Pydantic Classes\n",
    "We need this to tell how the LLM should respond with Structured Responses!!"
   ]
  },
  {
   "cell_type": "code",
   "execution_count": 72,
   "id": "fed2222b-4a3b-4b6d-bcab-c0dad070dc93",
   "metadata": {},
   "outputs": [],
   "source": [
    "from pydantic import BaseModel\n",
    "\n",
    "\n",
    "class Situation(BaseModel):\n",
    "    \"\"\"\n",
    "    A class to Represent a Situation with a summary description\n",
    "    \"\"\"\n",
    "    situation_description: str\n",
    "    result: str\n",
    "    start_timestamp: int\n",
    "    end_timestamp: int\n",
    "    details: List[str]\n",
    "\n",
    "class SituationSelection(BaseModel):\n",
    "    \"\"\"\n",
    "    A class to Represent a list of Situations\n",
    "    \"\"\"\n",
    "    situations: List[Situation]\n",
    "\n",
    "class Investigation(BaseModel):\n",
    "    \"\"\"\n",
    "    A class to represent a possible situation: a Situation where we estimate\n",
    "    it could be anomalous\n",
    "    \"\"\"\n",
    "    situation: Situation\n",
    "    estimate: str\n"
   ]
  },
  {
   "cell_type": "code",
   "execution_count": 73,
   "id": "87e29661-a68b-4674-a84b-533abdc58661",
   "metadata": {},
   "outputs": [
    {
     "name": "stdout",
     "output_type": "stream",
     "text": [
      "[{'role': 'system', 'content': 'The timezone here is GMT. Your task is to analyze log entries from home sensors from a home occupied by an elderly person by grouping them into 6-hour intervals and converting each grouping into a clear, human-readable scenario. For each 6-hour interval, generate a neutral narrative that describes what occurred during that period. Important: The narrative (under \"situation_description\") must describe the events without any judgment about whether they are normal or anomalous. The determination of \"normal\" or \"anomalous\" should be provided solely in the separate \"result\" field when you are highly confident.\\n\\nFor each 6-hour grouping, ensure the output includes:\\n\\n    situation_description: A concise, neutral summary (4-5 sentences) of the events that took place during the hour. This description should detail the observed movement patterns and sensor events without implying any evaluation.\\n    result: A field that is either \"normal\" or \"anomalous\" based strictly on the log data. Do not embed this judgment in the narrative.\\n    start_timestamp and end_timestamp: The exact timestamps from the logs that mark the beginning and end of the 6-hour interval.\\n    details: A list of the raw log entries that occurred during the interval. Each log entry should include the original details (e.g., {\"timestamp\": 1737900000, \"room\": \"pillbox\", \"nodeId\": 1, \"onOff\": true}) and be escaped appropriately for JSON formatting.\\n\\nImportant rules:\\n\\n    Do not include any evaluative or judgmental language in the \"situation_description.\" The narrative should allow a human or another LLM to independently assess whether the events are typical for an elderly person in the house.\\n    When describing movements and events, you should mention human readable times of these movements and events but ensure that times used are consistent with the provided start and end timestamps.\\n    When making a determination on whether this situation is normal or anomalous for an elderly person ensure that you consider the times of the day that would be normal for these types of movements and events for an elderly person.\\n    Ensure that any time mentioned in the situation description directly corresponds to the start or end timestamps (and any other provided timestamps), without introducing new or inconsistent values.\\n    Process and return only one 6-hour interval grouping per response.\\n    When determined whether this situation\\'s result is normal or anomalous you should consider times of events such as very late night time and early morning hours being unusual for elderly people.\\n\\nThe output format must strictly adhere to the following JSON structure:\\n{\\n  \"situations\": [\\n    {\\n      \"situation_description\": \"Neutral narrative describing the events that occurred.\",\\n      \"result\": \"normal | anomalous\",\\n      \"start_timestamp\": \"exact log entry timestamp marking the start\",\\n      \"end_timestamp\": \"exact log entry timestamp marking the end\",\\n      \"details\": \"list of log entries that occurred in the interval\"\\n    }\\n  ]\\n}\\n\\n'}, {'role': 'user', 'content': 'Analyze the following 6-hour block of log entries and create a neutral, human-readable scenario description of the events observed. \\nYour description should summarize the recorded movement patterns in 4-5 clear sentences without including any evaluative language regarding whether the movement is \\ntypical or atypical. \\nHere are the log entries:\\n\\n{\"details\": [{\"timestamp\": 1737944400, \"room\": \"kitchen\", \"nodeId\": 2, \"endpointId\": 1, \"attribute\": {\"OnOff\": {\"OnOff\": false}}, \"eventTime\": \"Mon Jan 27 2025 02:20:00\"}, {\"timestamp\": 1737945600, \"room\": \"livingroom\", \"nodeId\": 2, \"endpointId\": 1, \"attribute\": {\"OnOff\": {\"OnOff\": true}}, \"eventTime\": \"Mon Jan 27 2025 02:40:00\"}, {\"timestamp\": 1737945660, \"room\": \"livingroom\", \"nodeId\": 1, \"endpointId\": 1, \"attribute\": {\"OccupancySensing\": {\"Occupancy\": 1}}, \"eventTime\": \"Mon Jan 27 2025 02:41:00\"}, {\"timestamp\": 1737949200, \"room\": \"livingroom\", \"nodeId\": 2, \"endpointId\": 1, \"attribute\": {\"OnOff\": {\"OnOff\": false}}, \"eventTime\": \"Mon Jan 27 2025 03:40:00\"}, {\"timestamp\": 1737952800, \"room\": \"bedroom\", \"nodeId\": 2, \"endpointId\": 1, \"attribute\": {\"OnOff\": {\"OnOff\": true}}, \"eventTime\": \"Mon Jan 27 2025 04:40:00\"}, {\"timestamp\": 1737952860, \"room\": \"pillbox\", \"nodeId\": 1, \"endpointId\": 1, \"attribute\": {\"OnOff\": {\"OnOff\": true}}, \"eventTime\": \"Mon Jan 27 2025 04:41:00\"}, {\"timestamp\": 1737953400, \"room\": \"bedroom\", \"nodeId\": 2, \"endpointId\": 1, \"attribute\": {\"OnOff\": {\"OnOff\": false}}, \"eventTime\": \"Mon Jan 27 2025 04:50:00\"}]}\\n\\nStrictly respond in valid JSON format, and only JSON and include exactly 1 situation, no more.'}]\n"
     ]
    }
   ],
   "source": [
    "messages=[\n",
    "        {\"role\": \"system\", \"content\": SYSTEM_PROMPT},\n",
    "        {\"role\": \"user\", \"content\": make_user_prompt(loaded)}\n",
    "    ]\n",
    "print(messages)"
   ]
  },
  {
   "cell_type": "code",
   "execution_count": 74,
   "id": "9ec53b8d-add0-4c77-9073-870444e125c1",
   "metadata": {},
   "outputs": [],
   "source": [
    "result = openai.beta.chat.completions.parse(\n",
    "    model=\"gpt-4o-mini\",\n",
    "    messages=[\n",
    "        {\"role\": \"system\", \"content\": SYSTEM_PROMPT},\n",
    "        {\"role\": \"user\", \"content\": make_user_prompt(loaded)}\n",
    "    ],\n",
    "    seed=42,\n",
    "    response_format=SituationSelection\n",
    ")\n",
    "\n",
    "result = result.choices[0].message.parsed\n",
    "result.situations = [situation for situation in result.situations if situation.result is not None]"
   ]
  },
  {
   "cell_type": "code",
   "execution_count": 75,
   "id": "3c385191-080e-4041-a82f-b2b71e256e2f",
   "metadata": {},
   "outputs": [
    {
     "name": "stdout",
     "output_type": "stream",
     "text": [
      "situations=[Situation(situation_description='During the early morning hours of January 27, 2025, there was activity recorded in various rooms. At 2:20 AM, the kitchen sensor indicated that an appliance was turned off. Shortly after, at 2:40 AM, a light was turned on in the living room, and occupancy was detected at 2:41 AM. The living room light was then turned off at 3:40 AM. Later, at 4:40 AM, a light in the bedroom was activated, followed by the pillbox sensor being activated at 4:41 AM, and this light was subsequently turned off at 4:50 AM.', result='anomalous', start_timestamp=1737944400, end_timestamp=1737953400, details=['{\"timestamp\": 1737944400, \"room\": \"kitchen\", \"nodeId\": 2, \"endpointId\": 1, \"attribute\": {\"OnOff\": {\"OnOff\": false}}, \"eventTime\": \"Mon Jan 27 2025 02:20:00\"}', '{\"timestamp\": 1737945600, \"room\": \"livingroom\", \"nodeId\": 2, \"endpointId\": 1, \"attribute\": {\"OnOff\": {\"OnOff\": true}}, \"eventTime\": \"Mon Jan 27 2025 02:40:00\"}', '{\"timestamp\": 1737945660, \"room\": \"livingroom\", \"nodeId\": 1, \"endpointId\": 1, \"attribute\": {\"OccupancySensing\": {\"Occupancy\": 1}}, \"eventTime\": \"Mon Jan 27 2025 02:41:00\"}', '{\"timestamp\": 1737949200, \"room\": \"livingroom\", \"nodeId\": 2, \"endpointId\": 1, \"attribute\": {\"OnOff\": {\"OnOff\": false}}, \"eventTime\": \"Mon Jan 27 2025 03:40:00\"}', '{\"timestamp\": 1737952800, \"room\": \"bedroom\", \"nodeId\": 2, \"endpointId\": 1, \"attribute\": {\"OnOff\": {\"OnOff\": true}}, \"eventTime\": \"Mon Jan 27 2025 04:40:00\"}', '{\"timestamp\": 1737952860, \"room\": \"pillbox\", \"nodeId\": 1, \"endpointId\": 1, \"attribute\": {\"OnOff\": {\"OnOff\": true}}, \"eventTime\": \"Mon Jan 27 2025 04:41:00\"}', '{\"timestamp\": 1737953400, \"room\": \"bedroom\", \"nodeId\": 2, \"endpointId\": 1, \"attribute\": {\"OnOff\": {\"OnOff\": false}}, \"eventTime\": \"Mon Jan 27 2025 04:50:00\"}'])]\n"
     ]
    }
   ],
   "source": [
    "print(result)"
   ]
  },
  {
   "cell_type": "code",
   "execution_count": null,
   "id": "3829b078-29e7-411f-9ef1-3c8d8ba6b5c5",
   "metadata": {},
   "outputs": [],
   "source": []
  }
 ],
 "metadata": {
  "kernelspec": {
   "display_name": "Python 3 (ipykernel)",
   "language": "python",
   "name": "python3"
  },
  "language_info": {
   "codemirror_mode": {
    "name": "ipython",
    "version": 3
   },
   "file_extension": ".py",
   "mimetype": "text/x-python",
   "name": "python",
   "nbconvert_exporter": "python",
   "pygments_lexer": "ipython3",
   "version": "3.12.3"
  }
 },
 "nbformat": 4,
 "nbformat_minor": 5
}
