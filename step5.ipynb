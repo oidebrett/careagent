{
 "cells": [
  {
   "cell_type": "markdown",
   "id": "db8736a7-ed94-441c-9556-831fa57b5a10",
   "metadata": {},
   "source": [
    "# The Caring Home / Helpful Home Continued\n",
    "\n",
    "A model that can look for non normal situations in a elderly person home, from smart home IoT sensors.\n",
    "\n",
    "## Enter RAG - Retrieval Augmented Generation!\n",
    "\n",
    "And now - we put RAG and Frontier Models to the test."
   ]
  },
  {
   "cell_type": "code",
   "execution_count": 2,
   "id": "681c717b-4c24-4ac3-a5f3-3c5881d6e70a",
   "metadata": {},
   "outputs": [],
   "source": [
    "# imports\n",
    "\n",
    "import os\n",
    "import re\n",
    "import math\n",
    "import json\n",
    "import random\n",
    "from dotenv import load_dotenv\n",
    "from huggingface_hub import login\n",
    "from items import Item\n",
    "import matplotlib.pyplot as plt\n",
    "import numpy as np\n",
    "import pickle\n",
    "from collections import Counter\n",
    "from openai import OpenAI\n",
    "from anthropic import Anthropic\n",
    "\n",
    "# we need some new includes for our classes\n",
    "from typing import List, Dict\n",
    "from agents.agent import Agent\n",
    "from agents.situations import Situation\n"
   ]
  },
  {
   "cell_type": "code",
   "execution_count": 3,
   "id": "4489d363-415e-4e8a-8e43-f978246cb8c0",
   "metadata": {},
   "outputs": [],
   "source": [
    "# Lets include our sentence transformer\n",
    "from sentence_transformers import SentenceTransformer, util"
   ]
  },
  {
   "cell_type": "code",
   "execution_count": 4,
   "id": "21a3833e-4093-43b0-8f7b-839c50b911ea",
   "metadata": {},
   "outputs": [],
   "source": [
    "# moved our Tester into a separate package\n",
    "# call it with Tester.test(function_name, test_dataset)\n",
    "\n",
    "from testing import Tester"
   ]
  },
  {
   "cell_type": "code",
   "execution_count": 5,
   "id": "e434c8e8-bdce-4248-b522-188706bb4456",
   "metadata": {},
   "outputs": [],
   "source": [
    "# We will use Ollama locally for some models so we will need requests\n",
    "import requests"
   ]
  },
  {
   "cell_type": "code",
   "execution_count": 6,
   "id": "36d05bdc-0155-4c72-a7ee-aa4e614ffd3c",
   "metadata": {},
   "outputs": [],
   "source": [
    "# environment\n",
    "\n",
    "load_dotenv()\n",
    "os.environ['OPENAI_API_KEY'] = os.getenv('OPENAI_API_KEY', 'your-key-if-not-using-env')\n",
    "os.environ['ANTHROPIC_API_KEY'] = os.getenv('ANTHROPIC_API_KEY', 'your-key-if-not-using-env')\n",
    "os.environ['OPENROUTER_API_KEY'] = os.getenv('OPENROUTER_API_KEY', 'your-key-if-not-using-env')\n",
    "os.environ['HYPERBOLIC_API_KEY'] = os.getenv('HYPERBOLIC_API_KEY', 'your-key-if-not-using-env')\n",
    "os.environ['HF_TOKEN'] = os.getenv('HF_TOKEN', 'your-key-if-not-using-env')"
   ]
  },
  {
   "cell_type": "code",
   "execution_count": 7,
   "id": "4dd3aad2-6f99-433c-8792-e461d2f06622",
   "metadata": {},
   "outputs": [
    {
     "name": "stderr",
     "output_type": "stream",
     "text": [
      "Note: Environment variable`HF_TOKEN` is set and is the current active token independently from the token you've just configured.\n"
     ]
    }
   ],
   "source": [
    "# Log in to HuggingFace\n",
    "\n",
    "hf_token = os.environ['HF_TOKEN']\n",
    "login(hf_token, add_to_git_credential=True)"
   ]
  },
  {
   "cell_type": "code",
   "execution_count": 8,
   "id": "b0a6fb86-74a4-403c-ab25-6db2d74e9d2b",
   "metadata": {},
   "outputs": [],
   "source": [
    "openai = OpenAI()\n",
    "claude = Anthropic()"
   ]
  },
  {
   "cell_type": "code",
   "execution_count": 9,
   "id": "c830ed3e-24ee-4af6-a07b-a1bfdcd39278",
   "metadata": {},
   "outputs": [],
   "source": [
    "%matplotlib inline"
   ]
  },
  {
   "cell_type": "code",
   "execution_count": 10,
   "id": "5c9b05f4-c9eb-462c-8d86-de9140a2d985",
   "metadata": {},
   "outputs": [],
   "source": [
    "# Let's avoid curating all our data again! Load in the pickle files:\n",
    "\n",
    "with open('train.pkl', 'rb') as file:\n",
    "    train = pickle.load(file)\n",
    "\n",
    "with open('test.pkl', 'rb') as file:\n",
    "    test = pickle.load(file)"
   ]
  },
  {
   "cell_type": "code",
   "execution_count": 18,
   "id": "63a431c3-d44a-498c-93fa-745d7817afa6",
   "metadata": {},
   "outputs": [
    {
     "data": {
      "text/plain": [
       "[]"
      ]
     },
     "execution_count": 18,
     "metadata": {},
     "output_type": "execute_result"
    }
   ],
   "source": [
    "# We will use our current memory.json file as the documents \n",
    "# as a human has checked over these entries and estimated them\n",
    "\n",
    "# Lets load the memory.json file\n",
    "file_path = \"data/memory1.json\"\n",
    "\n",
    "def load_json_file(file_path):\n",
    "    if not os.path.exists(file_path):\n",
    "        return []\n",
    "                \n",
    "    with open(file_path, 'r') as f:\n",
    "        return json.load(f)\n",
    "\n",
    "load_json_file(file_path)"
   ]
  },
  {
   "cell_type": "code",
   "execution_count": 24,
   "id": "c5091f9c-752c-4e96-b90a-b77a4ff1d10d",
   "metadata": {},
   "outputs": [],
   "source": [
    "# We will use the Sentence Transformer to pick out closest documents\n",
    "\n",
    "model = SentenceTransformer('sentence-transformers/all-MiniLM-L6-v2')\n",
    "\n",
    "def vector_search(file_path, query, top_k=5):\n",
    "    # Load JSON data\n",
    "    data = load_json_file(file_path)\n",
    "\n",
    "    # Extract text data to embed and keep track of indices\n",
    "    texts = [item['situation']['situation_description'] for item in data]\n",
    "\n",
    "    # Return an empty list if there are no texts\n",
    "    if not texts:\n",
    "        return []\n",
    "        \n",
    "    # Create embeddings for each text\n",
    "    embeddings = model.encode(texts, convert_to_tensor=True)\n",
    "\n",
    "    # Create embedding for the query\n",
    "    query_embedding = model.encode(query, convert_to_tensor=True)\n",
    "\n",
    "    # Compute cosine similarities\n",
    "    similarities = util.pytorch_cos_sim(query_embedding, embeddings)[0]\n",
    "\n",
    "    # Get the top_k results\n",
    "    top_results = similarities.topk(top_k)\n",
    "\n",
    "    # Return the most similar JSON objects\n",
    "    return [data[idx] for idx in top_results.indices.tolist()]\n",
    "\n"
   ]
  },
  {
   "cell_type": "code",
   "execution_count": 26,
   "id": "99f7c7f7-7cb5-43ce-b17a-76b3dd027fe0",
   "metadata": {},
   "outputs": [
    {
     "name": "stdout",
     "output_type": "stream",
     "text": [
      "[]\n"
     ]
    }
   ],
   "source": [
    "# Now check what is returned for bathroom\n",
    "\n",
    "query = \"Events the happen in the bathroom are important to me\"\n",
    "similar_situations = vector_search(file_path, query)\n",
    "print(similar_situations)"
   ]
  },
  {
   "cell_type": "markdown",
   "id": "066fef03-8338-4526-9df3-89b649ad4f0a",
   "metadata": {},
   "source": [
    "## First, the humble but mighty GPT-4o-mini\n",
    "\n",
    "Lets try it with RAG"
   ]
  },
  {
   "cell_type": "code",
   "execution_count": 27,
   "id": "66ea68e8-ab1b-4f0d-aba4-a59574d8f85e",
   "metadata": {},
   "outputs": [],
   "source": [
    "# We need to make the context using the vector search results\n",
    "\n",
    "def make_context(similars: List[str]) -> str:\n",
    "    \"\"\"\n",
    "    Create context that can be inserted into the prompt\n",
    "    :param similars: similar situations to the one being estimated\n",
    "    :param estimates: estimates of the similar situations\n",
    "    :return: text to insert in the prompt that provides context\n",
    "    \"\"\"\n",
    "    message = \"To provide some context, here are some other situations that might be similar to the situations you need to estimate.\\n\\n\"\n",
    "    for similar in similars:\n",
    "        details = json.dumps(similar['situation']['details'])\n",
    "        estimate = similar['estimate']\n",
    "        message += f\"Potentially related situation:\\n{details}\\nEstimate is {estimate}\\n\\n\"\n",
    "    return message\n",
    "\n",
    "def messages_for(situation: Situation, similar_situations: List[Situation]) -> List[Dict[str, str]]:\n",
    "    \"\"\"\n",
    "    Create the message list to be included in a call to OpenAI\n",
    "    With the system and user prompt\n",
    "    :param description: a description of the situation to estimate\n",
    "    :param similars: similar situations to this one\n",
    "    :param estimates: estimates of similar situations\n",
    "    :return: the list of messages in the format expected by OpenAI\n",
    "    \"\"\"\n",
    "    system_message = \"You look for normal and anomalous situations in smart home sensor data in an elderly persons home. Reply only with the word normal or anomalous, no explanation\"\n",
    "    user_prompt = make_context(similar_situations)\n",
    "    user_prompt += \"And now the situaton for you:\\n\\n\"\n",
    "    details = situation.details\n",
    "    user_prompt += \"How would you classify this sensor data - normal or anomalous?\\n\\n\" + json.dumps(details)\n",
    "    return [\n",
    "        {\"role\": \"system\", \"content\": system_message},\n",
    "        {\"role\": \"user\", \"content\": user_prompt},\n",
    "        {\"role\": \"assistant\", \"content\": \"Result is \"}\n",
    "    ]\n"
   ]
  },
  {
   "cell_type": "code",
   "execution_count": 28,
   "id": "4ff92d61-0d27-4b0d-8b32-c9891016509b",
   "metadata": {},
   "outputs": [
    {
     "data": {
      "text/plain": [
       "[{'role': 'system',\n",
       "  'content': 'You look for normal and anomalous situations in smart home sensor data in an elderly persons home. Reply only with the word normal or anomalous, no explanation'},\n",
       " {'role': 'user',\n",
       "  'content': 'To provide some context, here are some other situations that might be similar to the situations you need to estimate.\\n\\nAnd now the situaton for you:\\n\\nHow would you classify this sensor data - normal or anomalous?\\n\\n\"[{\\\\\"timestamp\\\\\": 1738152000, \\\\\"room\\\\\": \\\\\"pillbox\\\\\", \\\\\"nodeId\\\\\": 1, \\\\\"onOff\\\\\": true}, {\\\\\"timestamp\\\\\": 1738152060, \\\\\"room\\\\\": \\\\\"bedroom\\\\\", \\\\\"nodeId\\\\\": 2, \\\\\"onOff\\\\\": true}, {\\\\\"timestamp\\\\\": 1738152300, \\\\\"room\\\\\": \\\\\"bathroom\\\\\", \\\\\"nodeId\\\\\": 2, \\\\\"onOff\\\\\": true}, {\\\\\"timestamp\\\\\": 1738152600, \\\\\"room\\\\\": \\\\\"bathroom\\\\\", \\\\\"nodeId\\\\\": 3, \\\\\"humidity\\\\\": 6500}, {\\\\\"timestamp\\\\\": 1738152900, \\\\\"room\\\\\": \\\\\"bathroom\\\\\", \\\\\"nodeId\\\\\": 2, \\\\\"onOff\\\\\": false}, {\\\\\"timestamp\\\\\": 1738153200, \\\\\"room\\\\\": \\\\\"kitchen\\\\\", \\\\\"nodeId\\\\\": 2, \\\\\"onOff\\\\\": true}, {\\\\\"timestamp\\\\\": 1738153260, \\\\\"room\\\\\": \\\\\"kitchen\\\\\", \\\\\"event\\\\\": \\\\\"fridge_opened\\\\\"}, {\\\\\"timestamp\\\\\": 1738153800, \\\\\"room\\\\\": \\\\\"kitchen\\\\\", \\\\\"nodeId\\\\\": 2, \\\\\"onOff\\\\\": false}, {\\\\\"timestamp\\\\\": 1738154100, \\\\\"room\\\\\": \\\\\"livingroom\\\\\", \\\\\"nodeId\\\\\": 2, \\\\\"onOff\\\\\": true}, {\\\\\"timestamp\\\\\": 1738154400, \\\\\"room\\\\\": \\\\\"livingroom\\\\\", \\\\\"nodeId\\\\\": 1, \\\\\"occupancy\\\\\": 1}, {\\\\\"timestamp\\\\\": 1738155600, \\\\\"room\\\\\": \\\\\"livingroom\\\\\", \\\\\"nodeId\\\\\": 2, \\\\\"onOff\\\\\": false}, {\\\\\"timestamp\\\\\": 1738156800, \\\\\"room\\\\\": \\\\\"hall\\\\\", \\\\\"nodeId\\\\\": 1, \\\\\"occupancy\\\\\": 1}, {\\\\\"timestamp\\\\\": 1738157400, \\\\\"room\\\\\": \\\\\"porch\\\\\", \\\\\"nodeId\\\\\": 1, \\\\\"occupancy\\\\\": 1}, {\\\\\"timestamp\\\\\": 1738157460, \\\\\"room\\\\\": \\\\\"hall\\\\\", \\\\\"nodeId\\\\\": 1, \\\\\"occupancy\\\\\": 0}, {\\\\\"timestamp\\\\\": 1738173600, \\\\\"room\\\\\": \\\\\"porch\\\\\", \\\\\"nodeId\\\\\": 1, \\\\\"occupancy\\\\\": 0}, {\\\\\"timestamp\\\\\": 1738184400, \\\\\"room\\\\\": \\\\\"porch\\\\\", \\\\\"nodeId\\\\\": 1, \\\\\"occupancy\\\\\": 0}, {\\\\\"timestamp\\\\\": 1738195200, \\\\\"room\\\\\": \\\\\"porch\\\\\", \\\\\"nodeId\\\\\": 1, \\\\\"occupancy\\\\\": 0}, {\\\\\"timestamp\\\\\": 1738206000, \\\\\"room\\\\\": \\\\\"porch\\\\\", \\\\\"nodeId\\\\\": 1, \\\\\"occupancy\\\\\": 0}]\\\\n\"'},\n",
       " {'role': 'assistant', 'content': 'Result is '}]"
      ]
     },
     "execution_count": 28,
     "metadata": {},
     "output_type": "execute_result"
    }
   ],
   "source": [
    "# Try this out\n",
    "messages_for(test[0], similar_situations)"
   ]
  },
  {
   "cell_type": "code",
   "execution_count": 34,
   "id": "b1af1888-f94a-4106-b0d8-8a70939eec4e",
   "metadata": {},
   "outputs": [],
   "source": [
    "# A utility function to extract the result from a string\n",
    "\n",
    "def get_result(text):\n",
    "    # Match \"normal\" or \"anomalous\" anywhere in the text\n",
    "    match = re.search(r\"\\b(normal|anomalous)\\b\", text, re.IGNORECASE)\n",
    "    return match.group(1).lower() if match else None"
   ]
  },
  {
   "cell_type": "code",
   "execution_count": 35,
   "id": "f138c5b7-bcc1-4085-aced-68dad1bf36b4",
   "metadata": {},
   "outputs": [
    {
     "data": {
      "text/plain": [
       "'anomalous'"
      ]
     },
     "execution_count": 35,
     "metadata": {},
     "output_type": "execute_result"
    }
   ],
   "source": [
    "get_result(\"The result is anomalous because blah blah\")"
   ]
  },
  {
   "cell_type": "code",
   "execution_count": 36,
   "id": "b29597ad-f3f3-4eff-a62a-fb14d3bdde81",
   "metadata": {},
   "outputs": [
    {
     "data": {
      "text/plain": [
       "'anomalous'"
      ]
     },
     "execution_count": 36,
     "metadata": {},
     "output_type": "execute_result"
    }
   ],
   "source": [
    "get_result(\"anomalous\")"
   ]
  },
  {
   "cell_type": "code",
   "execution_count": 56,
   "id": "71209978-a29a-4bd6-b164-150041c776f6",
   "metadata": {},
   "outputs": [
    {
     "name": "stdout",
     "output_type": "stream",
     "text": [
      "[{'situation': {'situation_description': \"The individual exhibited an alarming pattern of extended inactivity in the kitchen and bedroom without any log entries indicating movement or use of monitored devices. The kitchen was occupied for an extended time, suggesting possible difficulty. Additionally, prolonged delays between entries could indicate a lack of actions that signal normal daily routines. This situation may require immediate monitoring to ensure the elderly person's well-being.\", 'result': 'anomalous', 'start_timestamp': 1738009200, 'end_timestamp': 1738029600, 'details': ['{\"timestamp\": 1738009200, \"room\": \"kitchen\", \"nodeId\": 2, \"onOff\": false}', '{\"timestamp\": 1738011600, \"room\": \"livingroom\", \"nodeId\": 2, \"onOff\": true}', '{\"timestamp\": 1738015200, \"room\": \"livingroom\", \"nodeId\": 2, \"onOff\": false}', '{\"timestamp\": 1738018800, \"room\": \"bedroom\", \"nodeId\": 2, \"onOff\": true}', '{\"timestamp\": 1738018860, \"room\": \"pillbox\", \"nodeId\": 1, \"onOff\": true}', '{\"timestamp\": 1738019400, \"room\": \"bedroom\", \"nodeId\": 2, \"onOff\": false}', '{\"timestamp\": 1738029600, \"room\": \"kitchen\", \"nodeId\": 2, \"onOff\": true}', '{\"timestamp\": 1738029660, \"room\": \"kitchen\", \"event\": \"fridge_opened\"}']}, 'estimate': 'anomalous'}, {'situation': {'situation_description': 'During the observed log entries, there is a concerning pattern of movement where the elderly person is frequently moving between the kitchen and bedroom but has prolonged periods of inactivity. Notably, at 1738105200, the person entered the bedroom and then at 1738105800, the room status indicates they were still inactive after previously having exited the living room. This may suggest a potential issue such as confusion or difficulty moving, which warrants further monitoring.', 'result': 'anomalous', 'start_timestamp': 1738105200, 'end_timestamp': 1738105800, 'details': ['{\"timestamp\": 1738105200, \"room\": \"bedroom\", \"nodeId\": 2, \"onOff\": true}', '{\"timestamp\": 1738105260, \"room\": \"pillbox\", \"nodeId\": 1, \"onOff\": true}', '{\"timestamp\": 1738105800, \"room\": \"bedroom\", \"nodeId\": 2, \"onOff\": false}']}, 'estimate': 'anomalous'}, {'situation': {'situation_description': \"During the monitoring period, there was a concerning period where the elderly person spent an extended time in the living room without any movement recorded for a significant duration. The log shows the person occupied the living room followed by a lack of activity elsewhere for an unusually long stretch of time. Such inactivity could indicate possible health issues that require attention. Prompt checking could be warranted to ensure the person's well-being during this period.\", 'result': 'anomalous', 'start_timestamp': 1737928800, 'end_timestamp': 1737932400, 'details': ['{\"timestamp\": 1737928800, \"room\": \"livingroom\", \"nodeId\": 2, \"onOff\": false}', '{\"timestamp\": 1737932400, \"room\": \"bedroom\", \"nodeId\": 2, \"onOff\": true}']}, 'estimate': 'anomalous'}, {'situation': {'situation_description': \"The elderly person exhibited an unusual pattern of movements, spending a prolonged time in the bedroom. There was an instance where the bedroom light was turned on, followed by a brief period of activity in the pillbox room. However, the log indicates a prolonged duration without any movements detected or lights being activated in the other rooms leading to potential concerns about the individual's well-being. This situation suggests that further monitoring might be needed due to the inactivity in the living spaces.\", 'result': 'anomalous', 'start_timestamp': 1738254600, 'end_timestamp': 1738255900, 'details': ['{\"timestamp\": 1738245600, \"room\": \"pillbox\", \"nodeId\": 1, \"onOff\": true}', '{\"timestamp\": 1738245660, \"room\": \"bedroom\", \"nodeId\": 2, \"onOff\": true}', '{\"timestamp\": 1738245900, \"room\": \"bathroom\", \"nodeId\": 2, \"onOff\": true}']}, 'estimate': 'anomalous'}, {'situation': {'situation_description': \"The elderly person exhibited an unusual pattern of movements, spending a prolonged time in the bedroom. There was an instance where the bedroom light was turned on, followed by a brief period of activity in the pillbox room. However, the log indicates a prolonged duration without any movements detected or lights being activated in the other rooms leading to potential concerns about the individual's well-being. This situation suggests that further monitoring might be warranted due to the inactivity in the living spaces.\", 'result': 'anomalous', 'start_timestamp': 1738254600, 'end_timestamp': 1738255900, 'details': ['{\"timestamp\": 1738245600, \"room\": \"pillbox\", \"nodeId\": 1, \"onOff\": true}', '{\"timestamp\": 1738245660, \"room\": \"bedroom\", \"nodeId\": 2, \"onOff\": true}', '{\"timestamp\": 1738245900, \"room\": \"bathroom\", \"nodeId\": 2, \"onOff\": true}']}, 'estimate': 'anomalous'}]\n"
     ]
    }
   ],
   "source": [
    "# Lets get similar situations for a real item\n",
    "query = test[0].test_prompt()\n",
    "#print(query)\n",
    "\n",
    "similar_situations = vector_search(file_path, query)\n",
    "print(similar_situations)"
   ]
  },
  {
   "cell_type": "code",
   "execution_count": 60,
   "id": "18fda1f8-840d-40ca-9d20-3277008153d2",
   "metadata": {},
   "outputs": [
    {
     "data": {
      "text/plain": [
       "[{'role': 'system',\n",
       "  'content': 'You look for normal and anomalous situations in smart home sensor data in an elderly persons home. Reply only with the word normal or anomalous, no explanation'},\n",
       " {'role': 'user',\n",
       "  'content': 'To provide some context, here are some other situations that might be similar to the situations you need to estimate.\\n\\nPotentially related situation:\\n[\"{\\\\\"timestamp\\\\\": 1738009200, \\\\\"room\\\\\": \\\\\"kitchen\\\\\", \\\\\"nodeId\\\\\": 2, \\\\\"onOff\\\\\": false}\", \"{\\\\\"timestamp\\\\\": 1738011600, \\\\\"room\\\\\": \\\\\"livingroom\\\\\", \\\\\"nodeId\\\\\": 2, \\\\\"onOff\\\\\": true}\", \"{\\\\\"timestamp\\\\\": 1738015200, \\\\\"room\\\\\": \\\\\"livingroom\\\\\", \\\\\"nodeId\\\\\": 2, \\\\\"onOff\\\\\": false}\", \"{\\\\\"timestamp\\\\\": 1738018800, \\\\\"room\\\\\": \\\\\"bedroom\\\\\", \\\\\"nodeId\\\\\": 2, \\\\\"onOff\\\\\": true}\", \"{\\\\\"timestamp\\\\\": 1738018860, \\\\\"room\\\\\": \\\\\"pillbox\\\\\", \\\\\"nodeId\\\\\": 1, \\\\\"onOff\\\\\": true}\", \"{\\\\\"timestamp\\\\\": 1738019400, \\\\\"room\\\\\": \\\\\"bedroom\\\\\", \\\\\"nodeId\\\\\": 2, \\\\\"onOff\\\\\": false}\", \"{\\\\\"timestamp\\\\\": 1738029600, \\\\\"room\\\\\": \\\\\"kitchen\\\\\", \\\\\"nodeId\\\\\": 2, \\\\\"onOff\\\\\": true}\", \"{\\\\\"timestamp\\\\\": 1738029660, \\\\\"room\\\\\": \\\\\"kitchen\\\\\", \\\\\"event\\\\\": \\\\\"fridge_opened\\\\\"}\"]\\nEstimate is anomalous\\n\\nPotentially related situation:\\n[\"{\\\\\"timestamp\\\\\": 1738105200, \\\\\"room\\\\\": \\\\\"bedroom\\\\\", \\\\\"nodeId\\\\\": 2, \\\\\"onOff\\\\\": true}\", \"{\\\\\"timestamp\\\\\": 1738105260, \\\\\"room\\\\\": \\\\\"pillbox\\\\\", \\\\\"nodeId\\\\\": 1, \\\\\"onOff\\\\\": true}\", \"{\\\\\"timestamp\\\\\": 1738105800, \\\\\"room\\\\\": \\\\\"bedroom\\\\\", \\\\\"nodeId\\\\\": 2, \\\\\"onOff\\\\\": false}\"]\\nEstimate is anomalous\\n\\nPotentially related situation:\\n[\"{\\\\\"timestamp\\\\\": 1737928800, \\\\\"room\\\\\": \\\\\"livingroom\\\\\", \\\\\"nodeId\\\\\": 2, \\\\\"onOff\\\\\": false}\", \"{\\\\\"timestamp\\\\\": 1737932400, \\\\\"room\\\\\": \\\\\"bedroom\\\\\", \\\\\"nodeId\\\\\": 2, \\\\\"onOff\\\\\": true}\"]\\nEstimate is anomalous\\n\\nPotentially related situation:\\n[\"{\\\\\"timestamp\\\\\": 1738245600, \\\\\"room\\\\\": \\\\\"pillbox\\\\\", \\\\\"nodeId\\\\\": 1, \\\\\"onOff\\\\\": true}\", \"{\\\\\"timestamp\\\\\": 1738245660, \\\\\"room\\\\\": \\\\\"bedroom\\\\\", \\\\\"nodeId\\\\\": 2, \\\\\"onOff\\\\\": true}\", \"{\\\\\"timestamp\\\\\": 1738245900, \\\\\"room\\\\\": \\\\\"bathroom\\\\\", \\\\\"nodeId\\\\\": 2, \\\\\"onOff\\\\\": true}\"]\\nEstimate is anomalous\\n\\nPotentially related situation:\\n[\"{\\\\\"timestamp\\\\\": 1738245600, \\\\\"room\\\\\": \\\\\"pillbox\\\\\", \\\\\"nodeId\\\\\": 1, \\\\\"onOff\\\\\": true}\", \"{\\\\\"timestamp\\\\\": 1738245660, \\\\\"room\\\\\": \\\\\"bedroom\\\\\", \\\\\"nodeId\\\\\": 2, \\\\\"onOff\\\\\": true}\", \"{\\\\\"timestamp\\\\\": 1738245900, \\\\\"room\\\\\": \\\\\"bathroom\\\\\", \\\\\"nodeId\\\\\": 2, \\\\\"onOff\\\\\": true}\"]\\nEstimate is anomalous\\n\\nAnd now the situaton for you:\\n\\nHow would you classify this sensor data - normal or anomalous?\\n\\n\"[{\\\\\"timestamp\\\\\": 1738152000, \\\\\"room\\\\\": \\\\\"pillbox\\\\\", \\\\\"nodeId\\\\\": 1, \\\\\"onOff\\\\\": true}, {\\\\\"timestamp\\\\\": 1738152060, \\\\\"room\\\\\": \\\\\"bedroom\\\\\", \\\\\"nodeId\\\\\": 2, \\\\\"onOff\\\\\": true}, {\\\\\"timestamp\\\\\": 1738152300, \\\\\"room\\\\\": \\\\\"bathroom\\\\\", \\\\\"nodeId\\\\\": 2, \\\\\"onOff\\\\\": true}, {\\\\\"timestamp\\\\\": 1738152600, \\\\\"room\\\\\": \\\\\"bathroom\\\\\", \\\\\"nodeId\\\\\": 3, \\\\\"humidity\\\\\": 6500}, {\\\\\"timestamp\\\\\": 1738152900, \\\\\"room\\\\\": \\\\\"bathroom\\\\\", \\\\\"nodeId\\\\\": 2, \\\\\"onOff\\\\\": false}, {\\\\\"timestamp\\\\\": 1738153200, \\\\\"room\\\\\": \\\\\"kitchen\\\\\", \\\\\"nodeId\\\\\": 2, \\\\\"onOff\\\\\": true}, {\\\\\"timestamp\\\\\": 1738153260, \\\\\"room\\\\\": \\\\\"kitchen\\\\\", \\\\\"event\\\\\": \\\\\"fridge_opened\\\\\"}, {\\\\\"timestamp\\\\\": 1738153800, \\\\\"room\\\\\": \\\\\"kitchen\\\\\", \\\\\"nodeId\\\\\": 2, \\\\\"onOff\\\\\": false}, {\\\\\"timestamp\\\\\": 1738154100, \\\\\"room\\\\\": \\\\\"livingroom\\\\\", \\\\\"nodeId\\\\\": 2, \\\\\"onOff\\\\\": true}, {\\\\\"timestamp\\\\\": 1738154400, \\\\\"room\\\\\": \\\\\"livingroom\\\\\", \\\\\"nodeId\\\\\": 1, \\\\\"occupancy\\\\\": 1}, {\\\\\"timestamp\\\\\": 1738155600, \\\\\"room\\\\\": \\\\\"livingroom\\\\\", \\\\\"nodeId\\\\\": 2, \\\\\"onOff\\\\\": false}, {\\\\\"timestamp\\\\\": 1738156800, \\\\\"room\\\\\": \\\\\"hall\\\\\", \\\\\"nodeId\\\\\": 1, \\\\\"occupancy\\\\\": 1}, {\\\\\"timestamp\\\\\": 1738157400, \\\\\"room\\\\\": \\\\\"porch\\\\\", \\\\\"nodeId\\\\\": 1, \\\\\"occupancy\\\\\": 1}, {\\\\\"timestamp\\\\\": 1738157460, \\\\\"room\\\\\": \\\\\"hall\\\\\", \\\\\"nodeId\\\\\": 1, \\\\\"occupancy\\\\\": 0}, {\\\\\"timestamp\\\\\": 1738173600, \\\\\"room\\\\\": \\\\\"porch\\\\\", \\\\\"nodeId\\\\\": 1, \\\\\"occupancy\\\\\": 0}, {\\\\\"timestamp\\\\\": 1738184400, \\\\\"room\\\\\": \\\\\"porch\\\\\", \\\\\"nodeId\\\\\": 1, \\\\\"occupancy\\\\\": 0}, {\\\\\"timestamp\\\\\": 1738195200, \\\\\"room\\\\\": \\\\\"porch\\\\\", \\\\\"nodeId\\\\\": 1, \\\\\"occupancy\\\\\": 0}, {\\\\\"timestamp\\\\\": 1738206000, \\\\\"room\\\\\": \\\\\"porch\\\\\", \\\\\"nodeId\\\\\": 1, \\\\\"occupancy\\\\\": 0}]\\\\n\"'},\n",
       " {'role': 'assistant', 'content': 'Result is '}]"
      ]
     },
     "execution_count": 60,
     "metadata": {},
     "output_type": "execute_result"
    }
   ],
   "source": [
    "messages_for(test[0], similar_situations)"
   ]
  },
  {
   "cell_type": "code",
   "execution_count": 57,
   "id": "501a2a7a-69c8-451b-bbc0-398bcb9e1612",
   "metadata": {},
   "outputs": [],
   "source": [
    "# The function for gpt-4o-mini\n",
    "\n",
    "def gpt_4o_mini(item):\n",
    "    response = openai.chat.completions.create(\n",
    "        model=\"gpt-4o-mini\", \n",
    "        messages=messages_for(item, similar_situations),\n",
    "        seed=42,\n",
    "        max_tokens=5\n",
    "    )\n",
    "    reply = response.choices[0].message.content\n",
    "    return get_result(reply)"
   ]
  },
  {
   "cell_type": "code",
   "execution_count": 58,
   "id": "843d88b4-364a-431b-b48b-8a7c1f68b786",
   "metadata": {},
   "outputs": [
    {
     "data": {
      "text/plain": [
       "'anomalous'"
      ]
     },
     "execution_count": 58,
     "metadata": {},
     "output_type": "execute_result"
    }
   ],
   "source": [
    "test[0].result"
   ]
  },
  {
   "cell_type": "code",
   "execution_count": 59,
   "id": "36bdd2c9-1859-4f99-a09f-3ec83b845b30",
   "metadata": {},
   "outputs": [
    {
     "name": "stdout",
     "output_type": "stream",
     "text": [
      "\u001b[92m1: Guess: anomalous Truth: anomalous Error: False Item: [{\"timestamp\": 1738152000, \"room\": \"pill...\u001b[0m\n",
      "\u001b[92m2: Guess: anomalous Truth: anomalous Error: False Item: [{\"timestamp\": 1738695600, \"room\": \"bath...\u001b[0m\n",
      "\u001b[92m3: Guess: anomalous Truth: anomalous Error: False Item: [{\"timestamp\": 1738411200, \"room\": \"pill...\u001b[0m\n",
      "\u001b[92m4: Guess: anomalous Truth: anomalous Error: False Item: [{\"timestamp\": 1738843200, \"room\": \"pill...\u001b[0m\n",
      "\u001b[91m5: Guess: anomalous Truth: normal Error: True Item: [{\"timestamp\": 1738238400, \"room\": \"pill...\u001b[0m\n",
      "\u001b[92m6: Guess: normal Truth: normal Error: False Item: [{\"timestamp\": 1739078400, \"room\": \"bath...\u001b[0m\n",
      "\u001b[92m7: Guess: anomalous Truth: anomalous Error: False Item: [{\"timestamp\": 1738843200, \"room\": \"pill...\u001b[0m\n",
      "\u001b[91m8: Guess: normal Truth: anomalous Error: True Item: [{\"timestamp\": 1738627200, \"room\": \"livi...\u001b[0m\n",
      "\u001b[91m9: Guess: anomalous Truth: normal Error: True Item: [{\"timestamp\": 1738756800, \"room\": \"pill...\u001b[0m\n",
      "\u001b[92m10: Guess: normal Truth: normal Error: False Item: [{\"timestamp\": 1739203200, \"room\": \"bath...\u001b[0m\n",
      "\u001b[91m11: Guess: normal Truth: anomalous Error: True Item: [{\"timestamp\": 1739299200, \"room\": \"bedr...\u001b[0m\n",
      "\u001b[91m12: Guess: anomalous Truth: normal Error: True Item: [{\"timestamp\": 1738623600, \"room\": \"kitc...\u001b[0m\n",
      "\u001b[92m13: Guess: anomalous Truth: anomalous Error: False Item: [{\"timestamp\": 1738623600, \"room\": \"hall...\u001b[0m\n",
      "\u001b[92m14: Guess: anomalous Truth: anomalous Error: False Item: [{\"timestamp\": 1738634400, \"room\": \"bedr...\u001b[0m\n",
      "\u001b[91m15: Guess: normal Truth: anomalous Error: True Item: [{\"timestamp\": 1739299200, \"room\": \"bedr...\u001b[0m\n",
      "\u001b[92m16: Guess: normal Truth: normal Error: False Item: [{\"timestamp\": 1738722000, \"room\": \"kitc...\u001b[0m\n",
      "\u001b[91m17: Guess: normal Truth: anomalous Error: True Item: [{\"timestamp\": 1739385600, \"room\": \"bedr...\u001b[0m\n",
      "\u001b[92m18: Guess: normal Truth: normal Error: False Item: [{\"timestamp\": 1739107200, \"room\": \"kitc...\u001b[0m\n",
      "\u001b[92m19: Guess: normal Truth: normal Error: False Item: [{\"timestamp\": 1739203200, \"room\": \"bath...\u001b[0m\n",
      "\u001b[91m20: Guess: anomalous Truth: normal Error: True Item: [{\"timestamp\": 1738608000, \"room\": \"bedr...\u001b[0m\n",
      "\u001b[92m21: Guess: normal Truth: normal Error: False Item: [{\"timestamp\": 1738623600, \"room\": \"pill...\u001b[0m\n",
      "\u001b[91m22: Guess: normal Truth: anomalous Error: True Item: [{\"timestamp\": 1739336400, \"room\": \"bedr...\u001b[0m\n",
      "\u001b[92m23: Guess: normal Truth: normal Error: False Item: [{\"timestamp\": 1739203200, \"room\": \"bath...\u001b[0m\n",
      "\u001b[91m24: Guess: anomalous Truth: normal Error: True Item: [{\"timestamp\": 1738660800, \"room\": \"pill...\u001b[0m\n",
      "\u001b[91m25: Guess: normal Truth: anomalous Error: True Item: [{\"timestamp\": 1739128800, \"room\": \"bedr...\u001b[0m\n"
     ]
    },
    {
     "data": {
      "image/png": "[encoded data removed]",
      "text/plain": [
       "<Figure size 800x600 with 2 Axes>"
      ]
     },
     "metadata": {},
     "output_type": "display_data"
    }
   ],
   "source": [
    "Tester.test(gpt_4o_mini, test)"
   ]
  },
  {
   "cell_type": "code",
   "execution_count": 61,
   "id": "f49e90d6-6749-4eb8-9347-5922b189d379",
   "metadata": {},
   "outputs": [],
   "source": [
    "def gpt_4o_frontier(item):\n",
    "    response = openai.chat.completions.create(\n",
    "        model=\"gpt-4o-2024-08-06\", \n",
    "        messages=messages_for(item, similar_situations),\n",
    "        seed=42,\n",
    "        max_tokens=5\n",
    "    )\n",
    "    reply = response.choices[0].message.content\n",
    "    return get_result(reply)"
   ]
  },
  {
   "cell_type": "code",
   "execution_count": 62,
   "id": "766e697e-55bf-4521-b301-3b07d20045e0",
   "metadata": {},
   "outputs": [
    {
     "name": "stdout",
     "output_type": "stream",
     "text": [
      "\u001b[92m1: Guess: anomalous Truth: anomalous Error: False Item: [{\"timestamp\": 1738152000, \"room\": \"pill...\u001b[0m\n",
      "\u001b[92m2: Guess: anomalous Truth: anomalous Error: False Item: [{\"timestamp\": 1738695600, \"room\": \"bath...\u001b[0m\n",
      "\u001b[92m3: Guess: anomalous Truth: anomalous Error: False Item: [{\"timestamp\": 1738411200, \"room\": \"pill...\u001b[0m\n",
      "\u001b[92m4: Guess: anomalous Truth: anomalous Error: False Item: [{\"timestamp\": 1738843200, \"room\": \"pill...\u001b[0m\n",
      "\u001b[91m5: Guess: anomalous Truth: normal Error: True Item: [{\"timestamp\": 1738238400, \"room\": \"pill...\u001b[0m\n",
      "\u001b[91m6: Guess: anomalous Truth: normal Error: True Item: [{\"timestamp\": 1739078400, \"room\": \"bath...\u001b[0m\n",
      "\u001b[92m7: Guess: anomalous Truth: anomalous Error: False Item: [{\"timestamp\": 1738843200, \"room\": \"pill...\u001b[0m\n",
      "\u001b[92m8: Guess: anomalous Truth: anomalous Error: False Item: [{\"timestamp\": 1738627200, \"room\": \"livi...\u001b[0m\n",
      "\u001b[91m9: Guess: anomalous Truth: normal Error: True Item: [{\"timestamp\": 1738756800, \"room\": \"pill...\u001b[0m\n",
      "\u001b[91m10: Guess: anomalous Truth: normal Error: True Item: [{\"timestamp\": 1739203200, \"room\": \"bath...\u001b[0m\n",
      "\u001b[92m11: Guess: anomalous Truth: anomalous Error: False Item: [{\"timestamp\": 1739299200, \"room\": \"bedr...\u001b[0m\n",
      "\u001b[91m12: Guess: anomalous Truth: normal Error: True Item: [{\"timestamp\": 1738623600, \"room\": \"kitc...\u001b[0m\n",
      "\u001b[92m13: Guess: anomalous Truth: anomalous Error: False Item: [{\"timestamp\": 1738623600, \"room\": \"hall...\u001b[0m\n",
      "\u001b[92m14: Guess: anomalous Truth: anomalous Error: False Item: [{\"timestamp\": 1738634400, \"room\": \"bedr...\u001b[0m\n",
      "\u001b[92m15: Guess: anomalous Truth: anomalous Error: False Item: [{\"timestamp\": 1739299200, \"room\": \"bedr...\u001b[0m\n",
      "\u001b[91m16: Guess: anomalous Truth: normal Error: True Item: [{\"timestamp\": 1738722000, \"room\": \"kitc...\u001b[0m\n",
      "\u001b[92m17: Guess: anomalous Truth: anomalous Error: False Item: [{\"timestamp\": 1739385600, \"room\": \"bedr...\u001b[0m\n",
      "\u001b[91m18: Guess: anomalous Truth: normal Error: True Item: [{\"timestamp\": 1739107200, \"room\": \"kitc...\u001b[0m\n",
      "\u001b[91m19: Guess: anomalous Truth: normal Error: True Item: [{\"timestamp\": 1739203200, \"room\": \"bath...\u001b[0m\n",
      "\u001b[91m20: Guess: anomalous Truth: normal Error: True Item: [{\"timestamp\": 1738608000, \"room\": \"bedr...\u001b[0m\n",
      "\u001b[91m21: Guess: anomalous Truth: normal Error: True Item: [{\"timestamp\": 1738623600, \"room\": \"pill...\u001b[0m\n",
      "\u001b[91m22: Guess: normal Truth: anomalous Error: True Item: [{\"timestamp\": 1739336400, \"room\": \"bedr...\u001b[0m\n",
      "\u001b[91m23: Guess: anomalous Truth: normal Error: True Item: [{\"timestamp\": 1739203200, \"room\": \"bath...\u001b[0m\n",
      "\u001b[91m24: Guess: anomalous Truth: normal Error: True Item: [{\"timestamp\": 1738660800, \"room\": \"pill...\u001b[0m\n",
      "\u001b[92m25: Guess: anomalous Truth: anomalous Error: False Item: [{\"timestamp\": 1739128800, \"room\": \"bedr...\u001b[0m\n"
     ]
    },
    {
     "data": {
      "image/png": "[encoded data removed]",
      "text/plain": [
       "<Figure size 800x600 with 2 Axes>"
      ]
     },
     "metadata": {},
     "output_type": "display_data"
    }
   ],
   "source": [
    "# The function for gpt-4o - the August model\n",
    "# Note that it cost me about 1-2 cents to run this (pricing may vary by region)\n",
    "# You can skip this and look at my results instead\n",
    "\n",
    "Tester.test(gpt_4o_frontier, test)"
   ]
  },
  {
   "cell_type": "markdown",
   "id": "e916e3e2-b73f-4634-8976-a0214db3eea4",
   "metadata": {},
   "source": [
    "# We will try a Local Model"
   ]
  },
  {
   "cell_type": "markdown",
   "id": "01176720-3514-4ac0-a96d-9d76e6f92cd8",
   "metadata": {},
   "source": [
    "# We will try the Emerging models using Openrouter (API provider)\n",
    "\n"
   ]
  },
  {
   "cell_type": "markdown",
   "id": "5e9426cc-525e-4e2e-99af-3a18254cbc9d",
   "metadata": {},
   "source": [
    "## Lets try Deepskeep with Openrouter!\n",
    "\n",
    "And now - we put the Deepseek Models to the test."
   ]
  },
  {
   "cell_type": "code",
   "execution_count": 23,
   "id": "80f61519-9430-4034-8642-f6928488ac4d",
   "metadata": {},
   "outputs": [],
   "source": [
    "client = OpenAI(\n",
    "  base_url=\"https://openrouter.ai/api/v1\",\n",
    "  api_key=os.environ['OPENROUTER_API_KEY'],\n",
    ")\n"
   ]
  },
  {
   "cell_type": "code",
   "execution_count": 68,
   "id": "8b546fd2-27c9-46ff-871e-48595bc55d7a",
   "metadata": {},
   "outputs": [],
   "source": [
    "# Lets try hyperbolic using the Open AI library\n",
    "hyperbolic_client = OpenAI(\n",
    "  base_url=\"https://api.hyperbolic.xyz/v1\",\n",
    "  api_key=os.environ['HYPERBOLIC_API_KEY'],\n",
    ")"
   ]
  },
  {
   "cell_type": "code",
   "execution_count": 28,
   "id": "fb45af64-8bbe-4665-a6a7-4a22e8d6161b",
   "metadata": {},
   "outputs": [
    {
     "name": "stdout",
     "output_type": "stream",
     "text": [
      "ChatCompletion(id='991453939cee4c7aa4e62ef19c7de4b4', choices=[Choice(finish_reason='stop', index=0, logprobs=None, message=ChatCompletionMessage(content=\"<think>\\nOkay, so I need to figure out what 2 plus 2 is. Let me start by recalling basic addition. When you add two numbers, you're combining their quantities. So if I have 2 apples and someone gives me 2 more apples, how many apples do I have in total?\\n\\nLet's visualize this. Imagine two apples. Now, adding another two apples would make it four apples. So, 2 plus 2 should equal 4. Wait, but maybe I'm oversimplifying. Could there be another way to look at this?\\n\\nHmm, perhaps in different number systems? Like binary or something? In binary, 2 is represented as 10. So adding 10 (which is 2) and 10 (another 2) would give 100, which is 4 in decimal. So even in binary, 2+2 is 4. That seems consistent.\\n\\nWhat about in modular arithmetic? If we're using a modulus that's less than or equal to 4, the result might wrap around. For example, mod 3: 2 + 2 would be 4 mod 3, which is 1. But the question doesn't specify a modulus, so I think the default is base 10, standard arithmetic. So 4 is still the answer in that context.\\n\\nIs there any situation where 2+2 doesn't equal 4? Maybe in some abstract algebra contexts with different definitions, but unless specified, the answer should be 4. The user probably wants the straightforward answer here. Let me confirm with another approach. Using fingers: hold up two fingers on one hand, two on the other. Total fingers up? Four. Yep, that checks out.\\n\\nAlternatively, using a number line. Start at 2, then move 2 units to the right. You land on 4. All methods point to the same result. I don't see any contradictions or alternative interpretations that would change the result here. Therefore, confident the answer is 4.\\n</think>\\n\\nThe sum of 2 and 2 is calculated by combining the two numbers:\\n\\n**2 + 2 = 4**\\n\\nThis result holds in standard base-10 arithmetic, as well as in other systems like binary (where \\\\(10_2 + 10_2 = 100_2\\\\), equivalent to 4 in decimal). The answer **4** is consistent across typical mathematical contexts unless specified otherwise (e.g., modular arithmetic with a modulus less than 4). \\n\\n**Final Answer:**  \\n\\\\boxed{4}\", refusal=None, role='assistant', audio=None, function_call=None, tool_calls=None))], created=1739959636, model='deepseek-ai/DeepSeek-R1', object='chat.completion', service_tier=None, system_fingerprint=None, usage=CompletionUsage(completion_tokens=526, prompt_tokens=10, total_tokens=536, completion_tokens_details=None, prompt_tokens_details=None))\n"
     ]
    }
   ],
   "source": [
    "completion = hyperbolic_client.chat.completions.create(\n",
    "  model=\"deepseek-ai/DeepSeek-R1\",\n",
    "  messages=[\n",
    "    {\n",
    "      \"role\": \"user\",\n",
    "      \"content\": \"What is 2+2?\"\n",
    "    }\n",
    "  ]\n",
    ")\n",
    "print(completion)"
   ]
  },
  {
   "cell_type": "code",
   "execution_count": 69,
   "id": "25f12f90-c293-46e4-b912-410ffdd97282",
   "metadata": {},
   "outputs": [],
   "source": [
    "import json\n",
    "\n",
    "# Use Hyperbolic API to query the deepseek model\n",
    "def deepseek_via_hyperbolic(item):\n",
    "    response = hyperbolic_client.chat.completions.create(\n",
    "        model=\"deepseek-ai/DeepSeek-R1\",\n",
    "        messages=messages_for(item, similar_situations),\n",
    "        seed=42\n",
    "    )\n",
    "    print(json.dumps(response.__dict__, indent=4, default=str))\n",
    "    reply = response.choices[0].message.content\n",
    "    #print(reply)\n",
    "    return get_result(reply)"
   ]
  },
  {
   "cell_type": "code",
   "execution_count": 70,
   "id": "d672fe37-7c6a-4a71-8e91-43fac7481df2",
   "metadata": {},
   "outputs": [
    {
     "data": {
      "text/plain": [
       "'How would you classify this sensor data - normal or anomalous?\\n\\n[{\"timestamp\": 1738152000, \"room\": \"pillbox\", \"nodeId\": 1, \"onOff\": true}, {\"timestamp\": 1738152060, \"room\": \"bedroom\", \"nodeId\": 2, \"onOff\": true}, {\"timestamp\": 1738152300, \"room\": \"bathroom\", \"nodeId\": 2, \"onOff\": true}, {\"timestamp\": 1738152600, \"room\": \"bathroom\", \"nodeId\": 3, \"humidity\": 6500}, {\"timestamp\": 1738152900, \"room\": \"bathroom\", \"nodeId\": 2, \"onOff\": false}, {\"timestamp\": 1738153200, \"room\": \"kitchen\", \"nodeId\": 2, \"onOff\": true}, {\"timestamp\": 1738153260, \"room\": \"kitchen\", \"event\": \"fridge_opened\"}, {\"timestamp\": 1738153800, \"room\": \"kitchen\", \"nodeId\": 2, \"onOff\": false}, {\"timestamp\": 1738154100, \"room\": \"livingroom\", \"nodeId\": 2, \"onOff\": true}, {\"timestamp\": 1738154400, \"room\": \"livingroom\", \"nodeId\": 1, \"occupancy\": 1}, {\"timestamp\": 1738155600, \"room\": \"livingroom\", \"nodeId\": 2, \"onOff\": false}, {\"timestamp\": 1738156800, \"room\": \"hall\", \"nodeId\": 1, \"occupancy\": 1}, {\"timestamp\": 1738157400, \"room\": \"porch\", \"nodeId\": 1, \"occupancy\": 1}, {\"timestamp\": 1738157460, \"room\": \"hall\", \"nodeId\": 1, \"occupancy\": 0}, {\"timestamp\": 1738173600, \"room\": \"porch\", \"nodeId\": 1, \"occupancy\": 0}, {\"timestamp\": 1738184400, \"room\": \"porch\", \"nodeId\": 1, \"occupancy\": 0}, {\"timestamp\": 1738195200, \"room\": \"porch\", \"nodeId\": 1, \"occupancy\": 0}, {\"timestamp\": 1738206000, \"room\": \"porch\", \"nodeId\": 1, \"occupancy\": 0}]\\n\\n\\nResult is anomalous'"
      ]
     },
     "execution_count": 70,
     "metadata": {},
     "output_type": "execute_result"
    }
   ],
   "source": [
    "test[0].prompt"
   ]
  },
  {
   "cell_type": "code",
   "execution_count": 71,
   "id": "18365a14-c482-4776-99de-0eb7d227ee4a",
   "metadata": {},
   "outputs": [
    {
     "name": "stdout",
     "output_type": "stream",
     "text": [
      "{\n",
      "    \"id\": \"chatcmpl-cUxoyVjDuJJKH89vFvm487\",\n",
      "    \"choices\": [\n",
      "        \"Choice(finish_reason='stop', index=0, logprobs=None, message=ChatCompletionMessage(content=\\\"<think>Okay, let's take a look at this sensor data and see if it's normal or anomalous. The user provided some examples where similar situations were marked as anomalous, so I need to compare this new situation to those.\\\\n\\\\nFirst, the data starts with the pillbox being activated, then the bedroom light turns on, followed by the bathroom light. Then there's a humidity sensor reading in the bathroom. After that, the bathroom light turns off, kitchen light on, fridge opened, kitchen light off, living room light on, occupancy detected there, then lights off. Later, there's occupancy in the hall, porch, and then hall occupancy stops. The porch occupancy is reported multiple times as 0 after that.\\\\n\\\\nLooking at the previous examples, situations where the pillbox was used followed by movement to other rooms (like bedroom, bathroom) were considered anomalous. For instance, in one case, pillbox activation followed by bedroom and bathroom activity was marked anomalous. Similarly, another example with pillbox, bedroom, and bathroom was also anomalous. \\\\n\\\\nIn the current data, after the pillbox is used, the person goes to the bedroom, then bathroom, which matches the pattern in the examples that were considered anomalous. However, there's more activity here: kitchen, living room, hall, porch. The porch occupancy is detected, then later it's set to 0 multiple times. The porch occupancy going to 0 might be normal if the person left and it's just periodic checks. But the initial sequence (pillbox -> bedroom -> bathroom) seems similar to the previous anomalous cases. \\\\n\\\\nBut wait, in the previous examples, the anomalous ones had shorter sequences. Here, there's a longer sequence of activities, including using the kitchen and living room, which might indicate a normal routine. However, the user's examples marked even short sequences as anomalous if they involved pillbox followed by other rooms. The presence of the fridge being opened in the kitchen after the pillbox might be part of a normal routine (taking meds then getting food). But according to the examples given, any sequence starting with pillbox and moving to other rooms was considered anomalous. \\\\n\\\\nWait, the examples provided by the user all had pillbox activation followed by other room activities, and all were marked as anomalous. So even if the rest of the activities seem normal, the initial trigger of pillbox followed by movement might be the key factor here. The user's context suggests that pillbox usage followed by other activities is anomalous. Maybe in the normal scenario, the person would stay in the bedroom after taking meds, or there's a different expected pattern. \\\\n\\\\nBut in this case, after the pillbox, the person goes to the bedroom, then bathroom, then kitchen, etc. The previous examples didn't have as much activity after, but they were still marked as anomalous. So following that pattern, this would also be anomalous. However, the presence of the fridge being opened and other activities might indicate a normal routine. But according to the user's examples, even if there's more activity, the initial sequence is enough to mark it as anomalous. \\\\n\\\\nAlternatively, maybe the anomaly is that the pillbox is used at a certain time, and then the person is moving around more than expected. Or perhaps the humidity sensor in the bathroom is a factor. But in the examples, the presence of multiple room activations after pillbox was the key. \\\\n\\\\nGiven that all the previous similar situations (pillbox followed by other rooms) were marked as anomalous, I think this one would also be considered anomalous. Even though there's more activity, the initial trigger matches the anomalous pattern.\\\\n</think>\\\\n\\\\nanomalous\\\", refusal=None, role='assistant', audio=None, function_call=None, tool_calls=None))\"\n",
      "    ],\n",
      "    \"created\": 1740041995,\n",
      "    \"model\": \"deepseek-ai/DeepSeek-R1\",\n",
      "    \"object\": \"chat.completion\",\n",
      "    \"service_tier\": null,\n",
      "    \"system_fingerprint\": null,\n",
      "    \"usage\": \"CompletionUsage(completion_tokens=743, prompt_tokens=1274, total_tokens=2017, completion_tokens_details=None, prompt_tokens_details=None)\",\n",
      "    \"_request_id\": null\n",
      "}\n",
      "normal\n"
     ]
    }
   ],
   "source": [
    "print(deepseek_via_hyperbolic(test[0]))"
   ]
  },
  {
   "cell_type": "code",
   "execution_count": null,
   "id": "7cc1c082-bda9-4d99-9e73-09b41c6e3201",
   "metadata": {},
   "outputs": [
    {
     "name": "stdout",
     "output_type": "stream",
     "text": [
      "{\n",
      "    \"id\": \"chatcmpl-WuDnjCB8WRABfHq5NnwVYx\",\n",
      "    \"choices\": [\n",
      "        \"Choice(finish_reason='stop', index=0, logprobs=None, message=ChatCompletionMessage(content=\\\"<think>Okay, let's take a look at this sensor data and figure out if it's normal or anomalous. The user provided some examples where similar situations were marked as anomalous, so I need to compare this new situation to those.\\\\n\\\\nFirst, the data starts with the pillbox being activated (nodeId 1, onOff: true). Then the bedroom light turns on (nodeId 2), followed by the bathroom light. The bathroom also has a humidity sensor reading 6500, which might indicate someone took a shower. After that, the bathroom light turns off, then the kitchen light is turned on, the fridge is opened, and later the kitchen light is turned off. The living room light is turned on, occupancy is detected there, then turned off. The hall and porch have occupancy sensors triggered, with the porch occupancy staying on for a long time (multiple entries with occupancy 0 at later timestamps).\\\\n\\\\nLooking at the previous examples, situations where the pillbox was used followed by movement in other rooms (like bathroom, kitchen, etc.) were considered anomalous. For instance, in one example, after the pillbox was activated, the bedroom and bathroom lights were turned on, and that was marked as anomalous. Similarly, here, after the pillbox, there's activity in the bedroom, bathroom, kitchen, living room, hall, and porch. The porch occupancy is detected multiple times but eventually turns off. However, the porch occupancy sensors going off multiple times over several hours might be unusual if the person isn't expected to be there that long. But maybe the porch sensor is just detecting movement outside, like a pet or something. But according to the previous examples, any sequence involving pillbox activation followed by multiple room activities was considered anomalous. The user's examples didn't have the porch occupancy lasting that long, but the key factor seems to be the sequence after pillbox use. Since the previous similar cases were marked as anomalous, this one might follow the same pattern. The porch occupancy might be a red herring, but the main issue is the sequence of events post-pillbox. So I think this should be classified as anomalous.\\\\n</think>\\\\n\\\\nanomalous\\\", refusal=None, role='assistant', audio=None, function_call=None, tool_calls=None))\"\n",
      "    ],\n",
      "    \"created\": 1740042101,\n",
      "    \"model\": \"deepseek-ai/DeepSeek-R1\",\n",
      "    \"object\": \"chat.completion\",\n",
      "    \"service_tier\": null,\n",
      "    \"system_fingerprint\": null,\n",
      "    \"usage\": \"CompletionUsage(completion_tokens=441, prompt_tokens=1274, total_tokens=1715, completion_tokens_details=None, prompt_tokens_details=None)\",\n",
      "    \"_request_id\": null\n",
      "}\n",
      "\u001b[91m1: Guess: normal Truth: anomalous Error: True Item: [{\"timestamp\": 1738152000, \"room\": \"pill...\u001b[0m\n",
      "{\n",
      "    \"id\": \"chatcmpl-2WGbeJwhRJURyFbATH4ZED\",\n",
      "    \"choices\": [\n",
      "        \"Choice(finish_reason='stop', index=0, logprobs=None, message=ChatCompletionMessage(content=\\\"<think>Okay, let's see. The user wants me to determine if the given sensor data is normal or anomalous. The data provided is from a bathroom with nodeId 2 and 3. The first entry is the bathroom light turning on (onOff: true) at timestamp 1738695600. Then, three consecutive humidity readings from nodeId 3 at 7500, each 5 minutes apart.\\\\n\\\\nLooking at the previous examples, anomalies were often when there were unexpected sequences, like pillbox usage followed by other activities in quick succession, or multiple events happening in different rooms in a short time. For instance, the fridge being opened right after the kitchen light was turned on was considered anomalous. Also, pillbox usage (nodeId 1) followed by bedroom light off quickly was marked as anomalous.\\\\n\\\\nIn the current case, the bathroom light is turned on, and then three humidity readings at the same level. High humidity in a bathroom after the light is turned on could be normal, like someone taking a shower. However, the humidity remains exactly 7500 for three consecutive readings. That's a bit odd because usually, humidity would fluctuate, especially during a shower. Maybe the sensor is stuck or malfunctioning, giving the same reading repeatedly. Alternatively, if the person left the shower running, causing sustained high humidity, but that's less likely. Since the previous anomalies involved unexpected sequences or rapid changes, this consistent humidity without change might indicate a sensor issue, making it anomalous.\\\\n</think>\\\\n\\\\nanomalous\\\", refusal=None, role='assistant', audio=None, function_call=None, tool_calls=None))\"\n",
      "    ],\n",
      "    \"created\": 1740042113,\n",
      "    \"model\": \"deepseek-ai/DeepSeek-R1\",\n",
      "    \"object\": \"chat.completion\",\n",
      "    \"service_tier\": null,\n",
      "    \"system_fingerprint\": null,\n",
      "    \"usage\": \"CompletionUsage(completion_tokens=308, prompt_tokens=856, total_tokens=1164, completion_tokens_details=None, prompt_tokens_details=None)\",\n",
      "    \"_request_id\": null\n",
      "}\n",
      "\u001b[91m2: Guess: normal Truth: anomalous Error: True Item: [{\"timestamp\": 1738695600, \"room\": \"bath...\u001b[0m\n",
      "{\n",
      "    \"id\": \"chatcmpl-g8kwdJEzwPfDAjEg28E46P\",\n",
      "    \"choices\": [\n",
      "        \"Choice(finish_reason='stop', index=0, logprobs=None, message=ChatCompletionMessage(content=\\\"@\\\\nOkay, let's try to figure out if the given sensor data is normal or anomalous. First, I'll look at the previous examples provided to understand what's considered anomalous. \\\\n\\\\nLooking at the previous situations, all of them were classified as anomalous. For example, the first one involved events in the kitchen, living room, bedroom, and pillbox, including a fridge being opened. The second had bedroom and pillbox activity. The third was just living room and bedroom. The fourth and fifth examples included pillbox, bedroom, bathroom activity. All were marked anomalous. \\\\n\\\\nNow, the current situation starts with the pillbox being used (nodeId 1 onOff true), then the bedroom light turns on (nodeId 2 onOff true), followed by the bathroom light (nodeId 2 onOff true). Then there's a humidity sensor in the bathroom (6500, maybe high humidity from a shower?), then bathroom light off, kitchen light on, fridge opened, kitchen light off. Then bedroom light on again. Then a nodeId 1 occupancy sensor in the bedroom starts detecting occupancy and continues every hour for many hours (from 1738413600 to 1738474800). \\\\n\\\\nWait, the occupancy sensor in the bedroom is showing occupancy=1 (occupied) every hour for a long period. Let me check the timestamps. The first occupancy event is at 1738413600, which is 2025-02-01 10:40:00 UTC. Then every 3600 seconds (1 hour) until 1738474800, which is 2025-02-02 01:40:00 UTC. That's like 15 hours of continuous occupancy in the bedroom. That seems odd. An elderly person staying in bed for 15 hours without moving might be a problem. Or maybe the occupancy sensor is stuck? But if it's reporting every hour, maybe it's just that the sensor is triggered once an hour, but occupancy remains 1. But in a real scenario, a person would leave the bedroom at some point, unless they are unwell. \\\\n\\\\nAdditionally, the initial activities (pillbox, bedroom light, bathroom use, kitchen activity) seem normal\\u2014maybe taking meds, getting up, using the bathroom, getting something from the kitchen. But after that, the constant occupancy in the bedroom for 15 hours without any other movement could indicate the person didn't leave the bed, which might be a sign of a fall, illness, or something else. \\\\n\\\\nComparing to previous examples, perhaps the combination of normal initial activities followed by prolonged inactivity is considered anomalous. In the previous examples, even shorter sequences were marked as anomalous. Here, the extended occupancy without any other sensor triggers (like movement elsewhere) could be a red flag.\\\\nanomalous\\\", refusal=None, role='assistant', audio=None, function_call=None, tool_calls=None))\"\n",
      "    ],\n",
      "    \"created\": 1740042123,\n",
      "    \"model\": \"deepseek-ai/DeepSeek-R1\",\n",
      "    \"object\": \"chat.completion\",\n",
      "    \"service_tier\": null,\n",
      "    \"system_fingerprint\": null,\n",
      "    \"usage\": \"CompletionUsage(completion_tokens=573, prompt_tokens=1554, total_tokens=2127, completion_tokens_details=None, prompt_tokens_details=None)\",\n",
      "    \"_request_id\": null\n",
      "}\n",
      "\u001b[91m3: Guess: normal Truth: anomalous Error: True Item: [{\"timestamp\": 1738411200, \"room\": \"pill...\u001b[0m\n",
      "{\n",
      "    \"id\": \"chatcmpl-AR7xvtWzDMNzqzbw3FsE6L\",\n",
      "    \"choices\": [\n",
      "        \"Choice(finish_reason='stop', index=0, logprobs=None, message=ChatCompletionMessage(content=\\\"<think>Okay, let's try to figure out if this sensor data is normal or anomalous. First, I need to understand what's happening in the data provided. The user mentioned that in previous examples, certain patterns were considered anomalous. Let me recall those.\\\\n\\\\nLooking at the previous examples, situations where the pillbox was used (nodeId 1, onOff true) followed by other activities in quick succession were marked as anomalous. For instance, in one case, the pillbox was activated, then the bedroom light turned on, and then the bathroom light. That was considered anomalous. Similarly, another example had multiple kitchen activities with the fridge being opened and lights toggled rapidly, which was also anomalous.\\\\n\\\\nNow, looking at the current situation. The data starts with the pillbox being activated (pillbox, nodeId 1 onOff true) at timestamp 1738843200. Then, 60 seconds later, the bedroom light (nodeId 2) turns on. After that, the bathroom light turns on 240 seconds later. Then there's a humidity sensor reading in the bathroom. After some time, the bathroom light turns off. Then there's a series of kitchen activities: the light is turned on, fridge opened, light off, on again, fridge opened again, and this cycle repeats multiple times in quick succession. Later, there's another instance where the bedroom light and pillbox are activated, followed by more kitchen activity with the fridge and lights.\\\\n\\\\nComparing this to the previous examples, the key anomalies in the past were rapid toggling of lights and fridge openings, especially in the kitchen, and the sequence of pillbox activation followed by other activities. The repeated fridge openings and light toggling in the kitchen within short time spans (like every 60 seconds or less) were considered anomalous, possibly indicating unusual behavior like frequent fridge checking, which could be a sign of confusion or forgetfulness in an elderly person.\\\\n\\\\nIn the current data, after the initial pillbox and bedroom/bathroom activities, there's a lot of activity in the kitchen. The kitchen light is turned on and off multiple times, and the fridge is opened repeatedly in quick succession. For example, between timestamps 1738844400 and 1738845000, the kitchen light is toggled on/off several times with fridge openings in between. Then again later, similar patterns occur. This seems similar to the previous examples where rapid, repetitive actions in the kitchen were flagged as anomalous. Additionally, the pillbox activation followed by bedroom and bathroom activities might be part of a normal routine, but the excessive kitchen activity is the red flag here.\\\\n\\\\nTherefore, based on the previous examples where such repetitive and rapid interactions with the fridge and lights were considered anomalous, this current situation should also be classified as anomalous.\\\\n</think>\\\\n\\\\nanomalous\\\", refusal=None, role='assistant', audio=None, function_call=None, tool_calls=None))\"\n",
      "    ],\n",
      "    \"created\": 1740042143,\n",
      "    \"model\": \"deepseek-ai/DeepSeek-R1\",\n",
      "    \"object\": \"chat.completion\",\n",
      "    \"service_tier\": null,\n",
      "    \"system_fingerprint\": null,\n",
      "    \"usage\": \"CompletionUsage(completion_tokens=574, prompt_tokens=1667, total_tokens=2241, completion_tokens_details=None, prompt_tokens_details=None)\",\n",
      "    \"_request_id\": null\n",
      "}\n",
      "\u001b[91m4: Guess: normal Truth: anomalous Error: True Item: [{\"timestamp\": 1738843200, \"room\": \"pill...\u001b[0m\n",
      "{\n",
      "    \"id\": \"chatcmpl-dXdz8VGfRqx8FZNJoLFRDL\",\n",
      "    \"choices\": [\n",
      "        \"Choice(finish_reason='stop', index=0, logprobs=None, message=ChatCompletionMessage(content=\\\"<think>Okay, let's take a look at this sensor data and figure out if it's normal or anomalous. The user has given some examples where similar situations were considered anomalous, so I need to compare this new data to those examples.\\\\n\\\\nFirst, the data starts with the pillbox being activated (onOff: true), followed by the bedroom light turning on. Then the bathroom light is turned on, and there's a humidity sensor reading in the bathroom. After that, the bathroom light is turned off, and the kitchen light is turned on with the fridge being opened. The kitchen light is later turned off, and the living room light is turned on with occupancy detected. The living room light is turned off after some time. Then there's activity in the hall and porch, with occupancy sensors triggering. Later, the kitchen is used again with the fridge opened, followed by the living room and bedroom activities repeating, including the pillbox activation again.\\\\n\\\\nLooking at the previous examples, situations where the pillbox was activated along with other activities in quick succession were marked as anomalous. For instance, when the pillbox was used and then immediately followed by bedroom or bathroom activities, those were considered anomalies. The reasoning might be that taking medication (pillbox activation) is usually followed by a specific routine, and deviations from that could indicate something unusual, like forgetting to take meds or taking them multiple times.\\\\n\\\\nIn the current data, the pillbox is activated twice: once at the beginning and again later in the evening. Each time, it's followed by the bedroom light turning on and then off after a short period. The sequence includes multiple uses of the kitchen, living room, and other areas. The repeated use of the pillbox might be a red flag if the elderly person isn't supposed to take medication multiple times in a short period. Also, the timing between activities seems consistent, but the multiple pillbox activations could be an issue. However, maybe the person takes medication twice a day, so if the timestamps are spaced out (like morning and evening), that might be normal. But looking at the timestamps, the first pillbox activation is at 1738238400 (which converts to a date, maybe around a certain day), and the second is at 1738270860, which is a few hours later. If that's within the same day, taking medication twice could be normal if prescribed, but if it's more frequent than usual, it might be anomalous.\\\\n\\\\nAlso, the previous examples marked similar pillbox usage followed by other activities as anomalous. For example, in one case, the pillbox was activated, then bedroom and bathroom lights were turned on, which was considered anomalous. The current data has a similar pattern: pillbox activation, then bedroom, bathroom, kitchen, etc. So following the pattern of the examples given, this might be considered anomalous. However, the presence of more activities (like fridge opening, occupancy sensors) might indicate normal daily routines. But since the previous examples with pillbox and subsequent room activities were marked as anomalous, this might follow suit.\\\\n\\\\nAnother thing to note is the humidity sensor in the bathroom. If that's a normal occurrence (like taking a shower), it might not be an issue, but if it's unusually high or unexpected, it could be a problem. However, without knowing baseline humidity levels, it's hard to say. But the previous examples didn't mention humidity, so maybe that's not a factor here.\\\\n\\\\nThe repeated fridge openings and kitchen usage could be part of normal meal preparations. The living room occupancy and lights being turned on and off might indicate watching TV or relaxing, which is normal. The hall and porch occupancy sensors might show the person moving around the house, which is typical.\\\\n\\\\nHowever, the key point here is the pillbox activation followed by other activities. In the given examples, similar sequences were considered anomalous. So even if some activities are normal, the combination with pillbox usage might be flagged. The system might be looking for patterns where after taking medication, the person follows a specific routine, and any deviation is considered anomalous. For example, if after taking pills, the person usually rests in the bedroom, but here they go to the bathroom, kitchen, etc., that might be a deviation.\\\\n\\\\nAlso, the timestamps are in a sequence that might indicate the person is moving around the house more than usual after taking medication. The multiple activations of the pillbox in a day could be a concern if it's not part of their regular schedule. If the system expects medication to be taken once a day, but here it's taken twice, that's an anomaly. But if twice is normal, then it's okay. Since the previous examples with pillbox activations were marked as anomalous, perhaps the system is set to flag any pillbox usage followed by other activities as a potential issue, maybe indicating forgetfulness or incorrect usage.\\\\n\\\\nIn conclusion, comparing to the previous examples where pillbox activation followed by other room activities was considered anomalous, this current data has similar patterns. Even though some activities might seem normal, the combination with pillbox usage might be the key factor here. Therefore, following the pattern of the examples provided, this situation would be classified as anomalous.\\\\n</think>\\\\n\\\\nanomalous\\\", refusal=None, role='assistant', audio=None, function_call=None, tool_calls=None))\"\n",
      "    ],\n",
      "    \"created\": 1740042170,\n",
      "    \"model\": \"deepseek-ai/DeepSeek-R1\",\n",
      "    \"object\": \"chat.completion\",\n",
      "    \"service_tier\": null,\n",
      "    \"system_fingerprint\": null,\n",
      "    \"usage\": \"CompletionUsage(completion_tokens=1064, prompt_tokens=1747, total_tokens=2811, completion_tokens_details=None, prompt_tokens_details=None)\",\n",
      "    \"_request_id\": null\n",
      "}\n",
      "\u001b[92m5: Guess: normal Truth: normal Error: False Item: [{\"timestamp\": 1738238400, \"room\": \"pill...\u001b[0m\n"
     ]
    }
   ],
   "source": [
    "# The function for testing deepseek via hyperbolic\n",
    "\n",
    "Tester.test(deepseek_via_hyperbolic, test)"
   ]
  },
  {
   "cell_type": "code",
   "execution_count": null,
   "id": "d5d74092-2800-49b3-bcc5-253dcb46a4cd",
   "metadata": {},
   "outputs": [],
   "source": []
  }
 ],
 "metadata": {
  "kernelspec": {
   "display_name": "Python 3 (ipykernel)",
   "language": "python",
   "name": "python3"
  },
  "language_info": {
   "codemirror_mode": {
    "name": "ipython",
    "version": 3
   },
   "file_extension": ".py",
   "mimetype": "text/x-python",
   "name": "python",
   "nbconvert_exporter": "python",
   "pygments_lexer": "ipython3",
   "version": "3.12.3"
  }
 },
 "nbformat": 4,
 "nbformat_minor": 5
}
