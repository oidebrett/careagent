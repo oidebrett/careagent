{
 "cells": [
  {
   "cell_type": "markdown",
   "id": "db8736a7-ed94-441c-9556-831fa57b5a10",
   "metadata": {},
   "source": [
    "# The Caring Home / Helpful Home Continued\n",
    "\n",
    "A model that can look for non normal situations in a elderly person home, from smart home IoT sensors.\n",
    "\n",
    "## Baseline Models\n",
    "\n",
    "Today we work on the simplest models to act as a starting point that we will beat."
   ]
  },
  {
   "cell_type": "code",
   "execution_count": 1,
   "id": "681c717b-4c24-4ac3-a5f3-3c5881d6e70a",
   "metadata": {},
   "outputs": [],
   "source": [
    "# imports\n",
    "\n",
    "import os\n",
    "import math\n",
    "import json\n",
    "import random\n",
    "from dotenv import load_dotenv\n",
    "from huggingface_hub import login\n",
    "from items import Item\n",
    "import matplotlib.pyplot as plt\n",
    "import numpy as np\n",
    "import pickle\n",
    "from collections import Counter"
   ]
  },
  {
   "cell_type": "code",
   "execution_count": 26,
   "id": "933b6e75-3661-4f30-b0b5-c28d04e3748e",
   "metadata": {},
   "outputs": [],
   "source": [
    "# More imports for our traditional machine learning\n",
    "\n",
    "import pandas as pd\n",
    "import numpy as np\n",
    "#from sklearn.metrics import mean_squared_error, r2_score\n",
    "from sklearn.preprocessing import StandardScaler\n",
    "from sklearn.model_selection import train_test_split\n",
    "from sklearn.metrics import classification_report\n",
    "from sklearn.feature_extraction import DictVectorizer\n",
    "import joblib\n"
   ]
  },
  {
   "cell_type": "markdown",
   "id": "b3c87c11-8dbe-4b8c-8989-01e3d3a60026",
   "metadata": {},
   "source": [
    "## NLP imports\n",
    "\n",
    "In the next cell, we have more imports for our NLP related machine learning.  \n",
    "If the gensim import gives you an error like \"Cannot import name 'triu' from 'scipy.linalg' then please run in another cell:  \n",
    "`!pip install \"scipy<1.13\"`  \n",
    "As described on StackOverflow [here](https://stackoverflow.com/questions/78279136/importerror-cannot-import-name-triu-from-scipy-linalg-when-importing-gens).  \n",
    "Many thanks to students Arnaldo G and Ard V for sorting this."
   ]
  },
  {
   "cell_type": "code",
   "execution_count": 27,
   "id": "a1ac3ec0-183c-4a12-920b-b06397f86815",
   "metadata": {},
   "outputs": [],
   "source": [
    "# Finally, more imports for more advanced machine learning\n",
    "from sklearn.ensemble import RandomForestClassifier"
   ]
  },
  {
   "cell_type": "code",
   "execution_count": 28,
   "id": "6c01ee5f-c4fc-44fe-9d3a-907e8a0426d2",
   "metadata": {},
   "outputs": [],
   "source": [
    "# Constants - used for printing to stdout in color\n",
    "\n",
    "GREEN = \"\\033[92m\"\n",
    "YELLOW = \"\\033[93m\"\n",
    "RED = \"\\033[91m\"\n",
    "RESET = \"\\033[0m\"\n",
    "COLOR_MAP = {\"red\":RED, \"orange\": YELLOW, \"green\": GREEN}"
   ]
  },
  {
   "cell_type": "code",
   "execution_count": 29,
   "id": "36d05bdc-0155-4c72-a7ee-aa4e614ffd3c",
   "metadata": {},
   "outputs": [],
   "source": [
    "# environment\n",
    "\n",
    "load_dotenv()\n",
    "os.environ['OPENAI_API_KEY'] = os.getenv('OPENAI_API_KEY', 'your-key-if-not-using-env')\n",
    "os.environ['ANTHROPIC_API_KEY'] = os.getenv('ANTHROPIC_API_KEY', 'your-key-if-not-using-env')\n",
    "os.environ['HF_TOKEN'] = os.getenv('HF_TOKEN', 'your-key-if-not-using-env')"
   ]
  },
  {
   "cell_type": "code",
   "execution_count": 30,
   "id": "4dd3aad2-6f99-433c-8792-e461d2f06622",
   "metadata": {},
   "outputs": [
    {
     "name": "stderr",
     "output_type": "stream",
     "text": [
      "Note: Environment variable`HF_TOKEN` is set and is the current active token independently from the token you've just configured.\n"
     ]
    }
   ],
   "source": [
    "# Log in to HuggingFace\n",
    "\n",
    "hf_token = os.environ['HF_TOKEN']\n",
    "login(hf_token, add_to_git_credential=True)"
   ]
  },
  {
   "cell_type": "code",
   "execution_count": 31,
   "id": "c830ed3e-24ee-4af6-a07b-a1bfdcd39278",
   "metadata": {},
   "outputs": [],
   "source": [
    "%matplotlib inline"
   ]
  },
  {
   "cell_type": "markdown",
   "id": "5105e13c-bca0-4c70-bfaa-649345f53322",
   "metadata": {},
   "source": [
    "# Loading the pkl files\n",
    "\n",
    "Let's avoid curating all our data again! Load in the pickle files\n"
   ]
  },
  {
   "cell_type": "code",
   "execution_count": 32,
   "id": "5c9b05f4-c9eb-462c-8d86-de9140a2d985",
   "metadata": {},
   "outputs": [],
   "source": [
    "with open('train.pkl', 'rb') as file:\n",
    "    train = pickle.load(file)\n",
    "\n",
    "with open('test.pkl', 'rb') as file:\n",
    "    test = pickle.load(file)"
   ]
  },
  {
   "cell_type": "code",
   "execution_count": 33,
   "id": "a84638f7-5ff7-4f54-8751-3ef156264aee",
   "metadata": {
    "scrolled": true
   },
   "outputs": [
    {
     "name": "stdout",
     "output_type": "stream",
     "text": [
      "How would you classify this sensor data - normal or anomalous?\n",
      "\n",
      "[{\"timestamp\": 1738684800, \"room\": \"kitchen\", \"nodeId\": 2, \"endpointId\": 1, \"attribute\": {\"OnOff\": {\"OnOff\": true}}}, {\"timestamp\": 1738684860, \"room\": \"kitchen\", \"nodeId\": 2, \"endpointId\": 1, \"attribute\": {\"Event\": {\"Event\": \"fridge_opened\"}}}, {\"timestamp\": 1738684920, \"room\": \"kitchen\", \"nodeId\": 2, \"endpointId\": 1, \"attribute\": {\"OnOff\": {\"OnOff\": false}}}, {\"timestamp\": 1738684980, \"room\": \"kitchen\", \"nodeId\": 2, \"endpointId\": 1, \"attribute\": {\"Event\": {\"Event\": \"fridge_opened\"}}}, {\"timestamp\": 1738685040, \"room\": \"kitchen\", \"nodeId\": 2, \"endpointId\": 1, \"attribute\": {\"OnOff\": {\"OnOff\": false}}}]\n",
      "\n",
      "\n",
      "Result is anomalous\n"
     ]
    }
   ],
   "source": [
    "# Remind ourselves the training prompt\n",
    "\n",
    "print(train[0].prompt)"
   ]
  },
  {
   "cell_type": "code",
   "execution_count": 34,
   "id": "d83cdb39-caa6-4ced-b5e4-4ff203126236",
   "metadata": {},
   "outputs": [
    {
     "name": "stdout",
     "output_type": "stream",
     "text": [
      "[{\"timestamp\": 1738684800, \"room\": \"kitchen\", \"nodeId\": 2, \"endpointId\": 1, \"attribute\": {\"OnOff\": {\"OnOff\": true}}}, {\"timestamp\": 1738684860, \"room\": \"kitchen\", \"nodeId\": 2, \"endpointId\": 1, \"attribute\": {\"Event\": {\"Event\": \"fridge_opened\"}}}, {\"timestamp\": 1738684920, \"room\": \"kitchen\", \"nodeId\": 2, \"endpointId\": 1, \"attribute\": {\"OnOff\": {\"OnOff\": false}}}, {\"timestamp\": 1738684980, \"room\": \"kitchen\", \"nodeId\": 2, \"endpointId\": 1, \"attribute\": {\"Event\": {\"Event\": \"fridge_opened\"}}}, {\"timestamp\": 1738685040, \"room\": \"kitchen\", \"nodeId\": 2, \"endpointId\": 1, \"attribute\": {\"OnOff\": {\"OnOff\": false}}}]\n",
      "\n"
     ]
    }
   ],
   "source": [
    "# Remind ourselves the details\n",
    "\n",
    "print(test[0].details)"
   ]
  },
  {
   "cell_type": "code",
   "execution_count": 35,
   "id": "b7619c85-6e9e-48a1-8efe-c6a60471b87c",
   "metadata": {},
   "outputs": [
    {
     "name": "stdout",
     "output_type": "stream",
     "text": [
      "How would you classify this sensor data - normal or anomalous?\n",
      "\n",
      "[{\"timestamp\": 1738684800, \"room\": \"kitchen\", \"nodeId\": 2, \"endpointId\": 1, \"attribute\": {\"OnOff\": {\"OnOff\": true}}}, {\"timestamp\": 1738684860, \"room\": \"kitchen\", \"nodeId\": 2, \"endpointId\": 1, \"attribute\": {\"Event\": {\"Event\": \"fridge_opened\"}}}, {\"timestamp\": 1738684920, \"room\": \"kitchen\", \"nodeId\": 2, \"endpointId\": 1, \"attribute\": {\"OnOff\": {\"OnOff\": false}}}, {\"timestamp\": 1738684980, \"room\": \"kitchen\", \"nodeId\": 2, \"endpointId\": 1, \"attribute\": {\"Event\": {\"Event\": \"fridge_opened\"}}}, {\"timestamp\": 1738685040, \"room\": \"kitchen\", \"nodeId\": 2, \"endpointId\": 1, \"attribute\": {\"OnOff\": {\"OnOff\": false}}}]\n",
      "\n",
      "\n",
      "Result is \n"
     ]
    }
   ],
   "source": [
    "# Remind a test prompt\n",
    "\n",
    "print(train[0].test_prompt())"
   ]
  },
  {
   "cell_type": "markdown",
   "id": "bcccf130-125a-4958-bac3-f46dfcb29b3f",
   "metadata": {},
   "source": [
    "## Unveiling a mighty script that we will use a lot!\n",
    "\n",
    "A rather pleasing Test Harness that will evaluate any model against the items from the Test set\n",
    "\n",
    "And show us the results in a visually satisfying way.\n",
    "\n",
    "You write a function of this form:\n",
    "\n",
    "```\n",
    "def my_prediction_function(item):\n",
    "    # my code here\n",
    "    return my_estimate\n",
    "```\n",
    "\n",
    "And then you call:\n",
    "\n",
    "`Tester.test(my_prediction_function)`\n",
    "\n",
    "To evaluate your model."
   ]
  },
  {
   "cell_type": "code",
   "execution_count": 36,
   "id": "b5793f5c-e23e-4a74-9496-1e30dd1e8935",
   "metadata": {},
   "outputs": [],
   "source": [
    "class Tester:\n",
    "\n",
    "    def __init__(self, predictor, data, title=None, size=20):\n",
    "        self.predictor = predictor\n",
    "        self.data = data\n",
    "        self.title = title or predictor.__name__.replace(\"_\", \" \").title()\n",
    "        self.size = size\n",
    "        self.guesses = []\n",
    "        self.truths = []\n",
    "        self.errors = []\n",
    "        self.colors = []\n",
    "\n",
    "    def color_for(self, error, truth):\n",
    "        if not error:\n",
    "            return \"green\"\n",
    "        else:\n",
    "            return \"red\"\n",
    "    \n",
    "    def run_datapoint(self, i):\n",
    "        datapoint = self.data[i]\n",
    "        guess = self.predictor(datapoint)\n",
    "        truth = datapoint.result\n",
    "        error = guess != truth\n",
    "        color = self.color_for(error, truth)\n",
    "        details = datapoint.details if len(datapoint.details) <= 40 else datapoint.details[:40]+\"...\"\n",
    "        self.guesses.append(guess)\n",
    "        self.truths.append(truth) \n",
    "        self.errors.append(error)\n",
    "        self.colors.append(color)\n",
    "        print(f\"{COLOR_MAP[color]}{i+1}: Guess: {guess} Truth: {truth:} Error: {error:} Item: {details}{RESET}\")\n",
    "\n",
    "    def chart(self, title):\n",
    "        actual = self.truths\n",
    "        predicted = self.guesses\n",
    "\n",
    "        # Get unique classes\n",
    "        classes = list(set(actual + predicted))  # Union of unique classes in actual and predicted\n",
    "\n",
    "        # Initialize the confusion matrix as a dictionary\n",
    "        confusion_matrix = {true: {pred: 0 for pred in classes} for true in classes}\n",
    "\n",
    "        # Populate the confusion matrix\n",
    "        for a, p in zip(actual, predicted):\n",
    "            confusion_matrix[a][p] += 1\n",
    "\n",
    "        # Convert the confusion matrix into a 2D list for visualization\n",
    "        matrix = [[confusion_matrix[true][pred] for pred in classes] for true in classes]\n",
    "\n",
    "        # Plot the confusion matrix\n",
    "        plt.figure(figsize=(8, 6))\n",
    "        plt.imshow(matrix, interpolation='nearest', cmap=plt.cm.Blues)\n",
    "        plt.title(title)\n",
    "        plt.colorbar()\n",
    "\n",
    "        # Add labels\n",
    "        tick_marks = range(len(classes))\n",
    "        plt.xticks(tick_marks, classes)\n",
    "        plt.yticks(tick_marks, classes)\n",
    "        plt.ylabel('Actual Label')\n",
    "        plt.xlabel('Predicted Label')\n",
    "\n",
    "        max_val = max(max(row) for row in matrix) if matrix else 1\n",
    "        \n",
    "        # Add text annotations\n",
    "        for i in range(len(classes)):\n",
    "            for j in range(len(classes)):\n",
    "                # Choose white for dark cells and black for lighter cells\n",
    "                value = matrix[i][j]\n",
    "                text_color = \"white\" if value > (max_val * 0.99) else \"black\"\n",
    "                plt.text(j, i, value,\n",
    "                        horizontalalignment=\"center\",\n",
    "                        color=text_color)\n",
    "\n",
    "        plt.tight_layout()\n",
    "        plt.show()\n",
    "\n",
    "\n",
    "    def report(self):\n",
    "        average_error = sum(self.errors) / self.size\n",
    "        hits = sum(1 for color in self.colors if color==\"green\")\n",
    "        title = f\"{self.title} Error={average_error:,.2f} Hits={hits/self.size*100:.1f}%\"\n",
    "        self.chart(title)\n",
    "\n",
    "    def run(self):\n",
    "        self.error = 0\n",
    "        for i in range(self.size):\n",
    "            self.run_datapoint(i)\n",
    "        self.report()\n",
    "\n",
    "    @classmethod\n",
    "    def test(cls, function, data):\n",
    "        cls(function, data, size=len(data)).run()"
   ]
  },
  {
   "cell_type": "markdown",
   "id": "066fef03-8338-4526-9df3-89b649ad4f0a",
   "metadata": {},
   "source": [
    "# Now for something basic\n",
    "\n",
    "What's the very simplest model you could imagine?\n",
    "\n",
    "Let's start with a random guess - either normal or anomalous!"
   ]
  },
  {
   "cell_type": "code",
   "execution_count": 37,
   "id": "66ea68e8-ab1b-4f0d-aba4-a59574d8f85e",
   "metadata": {},
   "outputs": [],
   "source": [
    "def random_anomaly_assessor(item):\n",
    "    choices = ['normal', 'anomalous']\n",
    "    choiceNum = random.randint(0,1)\n",
    "    choice = choices[choiceNum]  \n",
    "    return choice"
   ]
  },
  {
   "cell_type": "code",
   "execution_count": 38,
   "id": "379062f2-4da4-42cb-9dbf-7d0a8ed7d584",
   "metadata": {},
   "outputs": [
    {
     "name": "stdout",
     "output_type": "stream",
     "text": [
      "anomalous\n"
     ]
    }
   ],
   "source": [
    "print(random_anomaly_assessor(train[1]))"
   ]
  },
  {
   "cell_type": "code",
   "execution_count": 39,
   "id": "53d941cb-5b73-44ea-b893-3a0ce9997066",
   "metadata": {},
   "outputs": [
    {
     "name": "stdout",
     "output_type": "stream",
     "text": [
      "\u001b[91m1: Guess: normal Truth: anomalous Error: True Item: [{\"timestamp\": 1738684800, \"room\": \"kitc...\u001b[0m\n",
      "\u001b[92m2: Guess: normal Truth: normal Error: False Item: [{\"timestamp\": 1739418000, \"room\": \"bath...\u001b[0m\n",
      "\u001b[91m3: Guess: anomalous Truth: normal Error: True Item: [{\"timestamp\": 1738623600, \"room\": \"bath...\u001b[0m\n",
      "\u001b[92m4: Guess: normal Truth: normal Error: False Item: [{\"timestamp\": 1738623600, \"room\": \"kitc...\u001b[0m\n",
      "\u001b[91m5: Guess: normal Truth: anomalous Error: True Item: [{\"timestamp\": 1738648800, \"room\": \"bedr...\u001b[0m\n",
      "\u001b[92m6: Guess: normal Truth: normal Error: False Item: [{\"timestamp\": 1738758000, \"room\": \"kitc...\u001b[0m\n",
      "\u001b[91m7: Guess: normal Truth: anomalous Error: True Item: [{\"timestamp\": 1738411200, \"room\": \"pill...\u001b[0m\n",
      "\u001b[91m8: Guess: normal Truth: anomalous Error: True Item: [{\"timestamp\": 1738411200, \"room\": \"pill...\u001b[0m\n",
      "\u001b[92m9: Guess: anomalous Truth: anomalous Error: False Item: [{\"timestamp\": 1739385600, \"room\": \"bedr...\u001b[0m\n",
      "\u001b[92m10: Guess: normal Truth: normal Error: False Item: [{\"timestamp\": 1738797600, \"room\": \"kitc...\u001b[0m\n",
      "\u001b[91m11: Guess: normal Truth: anomalous Error: True Item: [{\"timestamp\": 1738584000, \"room\": \"bedr...\u001b[0m\n",
      "\u001b[91m12: Guess: normal Truth: anomalous Error: True Item: [{\"timestamp\": 1739385600, \"room\": \"bedr...\u001b[0m\n",
      "\u001b[92m13: Guess: normal Truth: normal Error: False Item: [{\"timestamp\": 1739277600, \"room\": \"kitc...\u001b[0m\n",
      "\u001b[92m14: Guess: normal Truth: normal Error: False Item: [{\"timestamp\": 1738497600, \"room\": \"pill...\u001b[0m\n",
      "\u001b[91m15: Guess: normal Truth: anomalous Error: True Item: [{\"timestamp\": 1738768800, \"room\": \"bath...\u001b[0m\n",
      "\u001b[91m16: Guess: normal Truth: anomalous Error: True Item: [{\"timestamp\": 1738152000, \"room\": \"pill...\u001b[0m\n",
      "\u001b[92m17: Guess: anomalous Truth: anomalous Error: False Item: [{\"timestamp\": 1739455200, \"room\": \"bath...\u001b[0m\n",
      "\u001b[91m18: Guess: normal Truth: anomalous Error: True Item: [{\"timestamp\": 1738702800, \"room\": \"bedr...\u001b[0m\n",
      "\u001b[92m19: Guess: anomalous Truth: anomalous Error: False Item: [{\"timestamp\": 1738648800, \"room\": \"bedr...\u001b[0m\n",
      "\u001b[91m20: Guess: anomalous Truth: normal Error: True Item: [{\"timestamp\": 1738634400, \"room\": \"porc...\u001b[0m\n",
      "\u001b[92m21: Guess: normal Truth: normal Error: False Item: [{\"timestamp\": 1738758000, \"room\": \"kitc...\u001b[0m\n",
      "\u001b[92m22: Guess: normal Truth: normal Error: False Item: [{\"timestamp\": 1739170800, \"room\": \"pill...\u001b[0m\n",
      "\u001b[92m23: Guess: anomalous Truth: anomalous Error: False Item: [{\"timestamp\": 1738702800, \"room\": \"bedr...\u001b[0m\n",
      "\u001b[92m24: Guess: anomalous Truth: anomalous Error: False Item: [{\"timestamp\": 1738702800, \"room\": \"bedr...\u001b[0m\n",
      "\u001b[92m25: Guess: anomalous Truth: anomalous Error: False Item: [{\"timestamp\": 1738779600, \"room\": \"bedr...\u001b[0m\n",
      "\u001b[91m26: Guess: normal Truth: anomalous Error: True Item: [{\"timestamp\": 1738627200, \"room\": \"livi...\u001b[0m\n",
      "\u001b[92m27: Guess: normal Truth: normal Error: False Item: [{\"timestamp\": 1738881600, \"room\": \"kitc...\u001b[0m\n",
      "\u001b[91m28: Guess: anomalous Truth: normal Error: True Item: [{\"timestamp\": 1739277600, \"room\": \"kitc...\u001b[0m\n",
      "\u001b[92m29: Guess: normal Truth: normal Error: False Item: [{\"timestamp\": 1738722000, \"room\": \"kitc...\u001b[0m\n",
      "\u001b[92m30: Guess: normal Truth: normal Error: False Item: [{\"timestamp\": 1738608000, \"room\": \"bedr...\u001b[0m\n",
      "\u001b[92m31: Guess: anomalous Truth: anomalous Error: False Item: [{\"timestamp\": 1739428800, \"room\": \"bedr...\u001b[0m\n",
      "\u001b[92m32: Guess: normal Truth: normal Error: False Item: [{\"timestamp\": 1738623600, \"room\": \"bath...\u001b[0m\n",
      "\u001b[91m33: Guess: anomalous Truth: normal Error: True Item: [{\"timestamp\": 1737892800, \"room\": \"pill...\u001b[0m\n",
      "\u001b[92m34: Guess: anomalous Truth: anomalous Error: False Item: [{\"timestamp\": 1738670400, \"room\": \"pill...\u001b[0m\n",
      "\u001b[92m35: Guess: anomalous Truth: anomalous Error: False Item: [{\"timestamp\": 1738584000, \"room\": \"bedr...\u001b[0m\n",
      "\u001b[91m36: Guess: normal Truth: anomalous Error: True Item: [{\"timestamp\": 1738702800, \"room\": \"bedr...\u001b[0m\n",
      "\u001b[92m37: Guess: anomalous Truth: anomalous Error: False Item: [{\"timestamp\": 1739325600, \"room\": \"bath...\u001b[0m\n",
      "\u001b[92m38: Guess: normal Truth: normal Error: False Item: [{\"timestamp\": 1738497600, \"room\": \"pill...\u001b[0m\n",
      "\u001b[91m39: Guess: anomalous Truth: normal Error: True Item: [{\"timestamp\": 1739148000, \"room\": \"kitc...\u001b[0m\n",
      "\u001b[91m40: Guess: normal Truth: anomalous Error: True Item: [{\"timestamp\": 1738411200, \"room\": \"pill...\u001b[0m\n",
      "\u001b[92m41: Guess: anomalous Truth: anomalous Error: False Item: [{\"timestamp\": 1738854000, \"room\": \"bedr...\u001b[0m\n",
      "\u001b[92m42: Guess: anomalous Truth: anomalous Error: False Item: [{\"timestamp\": 1738632000, \"room\": \"bedr...\u001b[0m\n",
      "\u001b[92m43: Guess: normal Truth: normal Error: False Item: [{\"timestamp\": 1737979200, \"room\": \"pill...\u001b[0m\n",
      "\u001b[91m44: Guess: normal Truth: anomalous Error: True Item: [{\"timestamp\": 1738702800, \"room\": \"bedr...\u001b[0m\n",
      "\u001b[91m45: Guess: normal Truth: anomalous Error: True Item: [{\"timestamp\": 1739128800, \"room\": \"bedr...\u001b[0m\n",
      "\u001b[91m46: Guess: normal Truth: anomalous Error: True Item: [{\"timestamp\": 1738626000, \"room\": \"bath...\u001b[0m\n",
      "\u001b[92m47: Guess: anomalous Truth: anomalous Error: False Item: [{\"timestamp\": 1739118000, \"room\": \"bath...\u001b[0m\n",
      "\u001b[92m48: Guess: normal Truth: normal Error: False Item: [{\"timestamp\": 1738892400, \"room\": \"bedr...\u001b[0m\n",
      "\u001b[92m49: Guess: normal Truth: normal Error: False Item: [{\"timestamp\": 1738972800, \"room\": \"livi...\u001b[0m\n",
      "\u001b[92m50: Guess: normal Truth: normal Error: False Item: [{\"timestamp\": 1739056800, \"room\": \"livi...\u001b[0m\n",
      "\u001b[91m51: Guess: anomalous Truth: normal Error: True Item: [{\"timestamp\": 1738670400, \"room\": \"pill...\u001b[0m\n",
      "\u001b[91m52: Guess: anomalous Truth: normal Error: True Item: [{\"timestamp\": 1739028000, \"room\": \"kitc...\u001b[0m\n",
      "\u001b[92m53: Guess: anomalous Truth: anomalous Error: False Item: [{\"timestamp\": 1738065600, \"room\": \"pill...\u001b[0m\n",
      "\u001b[91m54: Guess: anomalous Truth: normal Error: True Item: [{\"timestamp\": 1738734000, \"room\": \"pill...\u001b[0m\n",
      "\u001b[92m55: Guess: normal Truth: normal Error: False Item: [{\"timestamp\": 1739067600, \"room\": \"kitc...\u001b[0m\n",
      "\u001b[91m56: Guess: anomalous Truth: normal Error: True Item: [{\"timestamp\": 1738623600, \"room\": \"kitc...\u001b[0m\n",
      "\u001b[91m57: Guess: anomalous Truth: normal Error: True Item: [{\"timestamp\": 1738623600, \"room\": \"kitc...\u001b[0m\n",
      "\u001b[91m58: Guess: normal Truth: anomalous Error: True Item: [{\"timestamp\": 1739017200, \"room\": \"bath...\u001b[0m\n",
      "\u001b[91m59: Guess: anomalous Truth: normal Error: True Item: [{\"timestamp\": 1738892400, \"room\": \"bedr...\u001b[0m\n",
      "\u001b[92m60: Guess: normal Truth: normal Error: False Item: [{\"timestamp\": 1739466000, \"room\": \"livi...\u001b[0m\n",
      "\u001b[92m61: Guess: normal Truth: normal Error: False Item: [{\"timestamp\": 1738625400, \"room\": \"kitc...\u001b[0m\n",
      "\u001b[92m62: Guess: normal Truth: normal Error: False Item: [{\"timestamp\": 1738881600, \"room\": \"kitc...\u001b[0m\n",
      "\u001b[92m63: Guess: normal Truth: normal Error: False Item: [{\"timestamp\": 1739407200, \"room\": \"kitc...\u001b[0m\n",
      "\u001b[91m64: Guess: anomalous Truth: normal Error: True Item: [{\"timestamp\": 1738842000, \"room\": \"livi...\u001b[0m\n",
      "\u001b[91m65: Guess: anomalous Truth: normal Error: True Item: [{\"timestamp\": 1739364000, \"room\": \"kitc...\u001b[0m\n",
      "\u001b[91m66: Guess: anomalous Truth: normal Error: True Item: [{\"timestamp\": 1738623600, \"room\": \"hall...\u001b[0m\n",
      "\u001b[92m67: Guess: normal Truth: normal Error: False Item: [{\"timestamp\": 1739192400, \"room\": \"kitc...\u001b[0m\n",
      "\u001b[92m68: Guess: anomalous Truth: anomalous Error: False Item: [{\"timestamp\": 1739325600, \"room\": \"bath...\u001b[0m\n",
      "\u001b[91m69: Guess: normal Truth: anomalous Error: True Item: [{\"timestamp\": 1738152000, \"room\": \"pill...\u001b[0m\n",
      "\u001b[91m70: Guess: normal Truth: anomalous Error: True Item: [{\"timestamp\": 1739455200, \"room\": \"bath...\u001b[0m\n",
      "\u001b[91m71: Guess: normal Truth: anomalous Error: True Item: [{\"timestamp\": 1738670400, \"room\": \"pill...\u001b[0m\n",
      "\u001b[91m72: Guess: anomalous Truth: normal Error: True Item: [{\"timestamp\": 1738881600, \"room\": \"kitc...\u001b[0m\n",
      "\u001b[92m73: Guess: anomalous Truth: anomalous Error: False Item: [{\"timestamp\": 1739240400, \"room\": \"bath...\u001b[0m\n",
      "\u001b[91m74: Guess: anomalous Truth: normal Error: True Item: [{\"timestamp\": 1738625400, \"room\": \"kitc...\u001b[0m\n",
      "\u001b[91m75: Guess: normal Truth: anomalous Error: True Item: [{\"timestamp\": 1738152000, \"room\": \"pill...\u001b[0m\n",
      "\u001b[92m76: Guess: normal Truth: normal Error: False Item: [{\"timestamp\": 1739288400, \"room\": \"bath...\u001b[0m\n",
      "\u001b[91m77: Guess: anomalous Truth: normal Error: True Item: [{\"timestamp\": 1738972800, \"room\": \"livi...\u001b[0m\n",
      "\u001b[91m78: Guess: normal Truth: anomalous Error: True Item: [{\"timestamp\": 1738650000, \"room\": \"kitc...\u001b[0m\n",
      "\u001b[92m79: Guess: anomalous Truth: anomalous Error: False Item: [{\"timestamp\": 1739038800, \"room\": \"bedr...\u001b[0m\n",
      "\u001b[92m80: Guess: anomalous Truth: anomalous Error: False Item: [{\"timestamp\": 1738621200, \"room\": \"bath...\u001b[0m\n",
      "\u001b[92m81: Guess: anomalous Truth: anomalous Error: False Item: [{\"timestamp\": 1739089200, \"room\": \"bedr...\u001b[0m\n",
      "\u001b[92m82: Guess: normal Truth: normal Error: False Item: [{\"timestamp\": 1738623600, \"room\": \"livi...\u001b[0m\n",
      "\u001b[92m83: Guess: anomalous Truth: anomalous Error: False Item: [{\"timestamp\": 1738917600, \"room\": \"bath...\u001b[0m\n",
      "\u001b[91m84: Guess: normal Truth: anomalous Error: True Item: [{\"timestamp\": 1738324800, \"room\": \"pill...\u001b[0m\n",
      "\u001b[92m85: Guess: normal Truth: normal Error: False Item: [{\"timestamp\": 1738623600, \"room\": \"pill...\u001b[0m\n",
      "\u001b[92m86: Guess: anomalous Truth: anomalous Error: False Item: [{\"timestamp\": 1738621200, \"room\": \"bath...\u001b[0m\n",
      "\u001b[92m87: Guess: anomalous Truth: anomalous Error: False Item: [{\"timestamp\": 1739374800, \"room\": \"bath...\u001b[0m\n",
      "\u001b[92m88: Guess: anomalous Truth: anomalous Error: False Item: [{\"timestamp\": 1738411200, \"room\": \"pill...\u001b[0m\n"
     ]
    },
    {
     "data": {
      "image/png": "[encoded data removed]",
      "text/plain": [
       "<Figure size 800x600 with 2 Axes>"
      ]
     },
     "metadata": {},
     "output_type": "display_data"
    }
   ],
   "source": [
    "# Set the random seed\n",
    "\n",
    "random.seed(42)\n",
    "\n",
    "# Run our TestRunner\n",
    "Tester.test(random_anomaly_assessor, train)"
   ]
  },
  {
   "cell_type": "code",
   "execution_count": 40,
   "id": "3cef84a9-4932-48fd-9f7a-51cfc06e3216",
   "metadata": {},
   "outputs": [],
   "source": [
    "# Now some janky code to pluck out the key features\n",
    "# Don't worry too much about this: spoiler alert, it's not going to be much use in training!\n",
    "# This is called \"FEATURE ENGINEERING\" and is not an exact science!!! \n",
    "\n",
    "def prepare_features(data):\n",
    "    \"\"\"Convert the raw sensor data into meaningful features dynamically.\"\"\"\n",
    "    features = {}\n",
    "    \n",
    "    # Load events from data.details (which could be a JSON string, list of JSON strings, or list of dicts)\n",
    "    if isinstance(data.details, str):\n",
    "        events = json.loads(data.details)\n",
    "    elif isinstance(data.details, list) and all(isinstance(item, str) for item in data.details):\n",
    "        events = [json.loads(event) for event in data.details]\n",
    "    else:  \n",
    "        events = data.details\n",
    "\n",
    "    # Dynamic room counts: count visits for every room seen in the events\n",
    "    room_counts = {}\n",
    "    for event in events:\n",
    "        room = event.get('room')\n",
    "        if room is not None:\n",
    "            room_counts[room] = room_counts.get(room, 0) + 1\n",
    "    # Add dynamic room count features (keys will be like 'room_kitchen_visits', etc.)\n",
    "    for room, count in room_counts.items():\n",
    "        features[f'room_{room}_visits'] = count\n",
    "\n",
    "    # Timestamp based features:\n",
    "    # Calculate average and maximum time between consecutive events\n",
    "    timestamps = [event.get('timestamp') for event in events if 'timestamp' in event]\n",
    "    if len(timestamps) > 1:\n",
    "        diffs = np.diff(timestamps)\n",
    "        features['avg_time_between_events'] = float(np.mean(diffs))\n",
    "        features['max_time_between_events'] = float(np.max(diffs))\n",
    "    else:\n",
    "        features['avg_time_between_events'] = 0.0\n",
    "        features['max_time_between_events'] = 0.0\n",
    "    \n",
    "    # Count rapid transitions (events less than 2 minutes apart)\n",
    "    rapid_transitions = 0\n",
    "    for i in range(len(timestamps) - 1):\n",
    "        if timestamps[i+1] - timestamps[i] < 120:\n",
    "            rapid_transitions += 1\n",
    "    features['rapid_transitions'] = rapid_transitions\n",
    "\n",
    "    # Attribute features:\n",
    "    # For each attribute present, create a feature (e.g., \"TemperatureMeasurement_MeasuredValue\")\n",
    "    # and aggregate by taking the average value for that attribute over the period.\n",
    "    attr_values = {}  # key: feature name, value: list of measurements\n",
    "    for event in events:\n",
    "        attr = event.get('attribute', {})\n",
    "        # Each event's attribute is assumed to be a dict with a single key\n",
    "        for attr_name, inner in attr.items():\n",
    "            # inner is a dict (e.g., {\"MeasuredValue\": 1901} or {\"Occupancy\": 1})\n",
    "            for inner_key, value in inner.items():\n",
    "                feature_key = f\"{attr_name}_{inner_key}\"\n",
    "                try:\n",
    "                    numeric_value = float(value)\n",
    "                except (ValueError, TypeError):\n",
    "                    continue\n",
    "                if feature_key not in attr_values:\n",
    "                    attr_values[feature_key] = []\n",
    "                attr_values[feature_key].append(numeric_value)\n",
    "    \n",
    "    # Compute the average for each attribute feature if available\n",
    "    for key, values in attr_values.items():\n",
    "        features[key] = float(np.mean(values))\n",
    "    \n",
    "    return features\n"
   ]
  },
  {
   "cell_type": "code",
   "execution_count": 41,
   "id": "f4848b4a-3c5a-4168-83a5-57a1f3ff270d",
   "metadata": {},
   "outputs": [],
   "source": [
    "#Function to get the features of each datapoint\n",
    "def get_features(item):\n",
    "    \"\"\"Get the datapoints features.\"\"\"\n",
    "    features = prepare_features(item)\n",
    "\n",
    "    return features"
   ]
  },
  {
   "cell_type": "code",
   "execution_count": 42,
   "id": "0cd11cc8-f16e-4991-b531-482189ddc4b6",
   "metadata": {},
   "outputs": [
    {
     "data": {
      "text/plain": [
       "{'room_kitchen_visits': 5,\n",
       " 'avg_time_between_events': 60.0,\n",
       " 'max_time_between_events': 60.0,\n",
       " 'rapid_transitions': 4,\n",
       " 'OnOff_OnOff': 0.3333333333333333}"
      ]
     },
     "execution_count": 42,
     "metadata": {},
     "output_type": "execute_result"
    }
   ],
   "source": [
    "\n",
    "get_features(test[0])"
   ]
  },
  {
   "cell_type": "code",
   "execution_count": 43,
   "id": "88850855-f5bd-4be2-9d7c-75bf8a21609b",
   "metadata": {},
   "outputs": [
    {
     "data": {
      "text/plain": [
       "{'room_pillbox_visits': 1,\n",
       " 'room_bedroom_visits': 20,\n",
       " 'room_bathroom_visits': 3,\n",
       " 'room_kitchen_visits': 3,\n",
       " 'avg_time_between_events': 2446.153846153846,\n",
       " 'max_time_between_events': 3600.0,\n",
       " 'rapid_transitions': 2,\n",
       " 'OnOff_OnOff': 0.7142857142857143,\n",
       " 'RelativeHumidityMeasurement_MeasuredValue': 6500.0,\n",
       " 'OccupancySensing_Occupancy': 1.0}"
      ]
     },
     "execution_count": 43,
     "metadata": {},
     "output_type": "execute_result"
    }
   ],
   "source": [
    "# Look at features in a training item\n",
    "get_features(train[6])\n"
   ]
  },
  {
   "cell_type": "code",
   "execution_count": 53,
   "id": "ee9b5298-68b7-497d-8b2e-875287bb25b2",
   "metadata": {},
   "outputs": [],
   "source": [
    "#Train the model using Random Forest to fit the classification\n",
    "def train_anomaly_detector(json_data):\n",
    "    \"\"\"Train a machine learning model to detect anomalies.\"\"\"\n",
    "    \n",
    "    # Collect feature dictionaries and labels\n",
    "    X_dict = []  # List of feature dictionaries\n",
    "    y = []       # Labels\n",
    "    \n",
    "    for entry in json_data:\n",
    "        features = prepare_features(entry)\n",
    "        X_dict.append(features)\n",
    "        y.append(1 if entry.result == 'anomalous' else 0)\n",
    "    \n",
    "    # Convert dictionary features to a numerical matrix\n",
    "    vec = DictVectorizer(sparse=False)\n",
    "    X = vec.fit_transform(X_dict)\n",
    "    y = np.array(y)\n",
    "    \n",
    "    # Split the data\n",
    "    X_train, X_test, y_train, y_test = train_test_split(X, y, test_size=0.2, random_state=42)\n",
    "    \n",
    "    # Scale the features\n",
    "    scaler = StandardScaler()\n",
    "    X_train_scaled = scaler.fit_transform(X_train)\n",
    "    X_test_scaled = scaler.transform(X_test)\n",
    "    \n",
    "    # Train Random Forest model\n",
    "    model = RandomForestClassifier(n_estimators=100, random_state=42)\n",
    "    model.fit(X_train_scaled, y_train)\n",
    "    \n",
    "    # Evaluate the model\n",
    "    y_pred = model.predict(X_test_scaled)\n",
    "    print(classification_report(y_test, y_pred))\n",
    "    \n",
    "    return model, scaler, vec  # Optionally return vec for future transformation"
   ]
  },
  {
   "cell_type": "code",
   "execution_count": 54,
   "id": "ad433eb0-7a3d-47f9-add3-b221c39041cc",
   "metadata": {},
   "outputs": [
    {
     "name": "stdout",
     "output_type": "stream",
     "text": [
      "<$anomalous>\n",
      "<$normal>\n",
      "<$normal>\n",
      "<$normal>\n",
      "<$anomalous>\n",
      "<$normal>\n",
      "<$anomalous>\n",
      "<$anomalous>\n",
      "<$anomalous>\n",
      "<$normal>\n",
      "<$anomalous>\n",
      "<$anomalous>\n",
      "<$normal>\n",
      "<$normal>\n",
      "<$anomalous>\n",
      "<$anomalous>\n",
      "<$anomalous>\n",
      "<$anomalous>\n",
      "<$anomalous>\n",
      "<$normal>\n",
      "<$normal>\n",
      "<$normal>\n",
      "<$anomalous>\n",
      "<$anomalous>\n",
      "<$anomalous>\n",
      "<$anomalous>\n",
      "<$normal>\n",
      "<$normal>\n",
      "<$normal>\n",
      "<$normal>\n",
      "<$anomalous>\n",
      "<$normal>\n",
      "<$normal>\n",
      "<$anomalous>\n",
      "<$anomalous>\n",
      "<$anomalous>\n",
      "<$anomalous>\n",
      "<$normal>\n",
      "<$normal>\n",
      "<$anomalous>\n",
      "<$anomalous>\n",
      "<$anomalous>\n",
      "<$normal>\n",
      "<$anomalous>\n",
      "<$anomalous>\n",
      "<$anomalous>\n",
      "<$anomalous>\n",
      "<$normal>\n",
      "<$normal>\n",
      "<$normal>\n",
      "<$normal>\n",
      "<$normal>\n",
      "<$anomalous>\n",
      "<$normal>\n",
      "<$normal>\n",
      "<$normal>\n",
      "<$normal>\n",
      "<$anomalous>\n",
      "<$normal>\n",
      "<$normal>\n",
      "<$normal>\n",
      "<$normal>\n",
      "<$normal>\n",
      "<$normal>\n",
      "<$normal>\n",
      "<$normal>\n",
      "<$normal>\n",
      "<$anomalous>\n",
      "<$anomalous>\n",
      "<$anomalous>\n",
      "<$anomalous>\n",
      "<$normal>\n",
      "<$anomalous>\n",
      "<$normal>\n",
      "<$anomalous>\n",
      "<$normal>\n",
      "<$normal>\n",
      "<$anomalous>\n",
      "<$anomalous>\n",
      "<$anomalous>\n",
      "<$anomalous>\n",
      "<$normal>\n",
      "<$anomalous>\n",
      "<$anomalous>\n",
      "<$normal>\n",
      "<$anomalous>\n",
      "<$anomalous>\n",
      "<$anomalous>\n"
     ]
    }
   ],
   "source": [
    "for i in train:\n",
    "    print(i)"
   ]
  },
  {
   "cell_type": "code",
   "execution_count": 55,
   "id": "d561faa5-e141-481a-b7ec-ea6e11dc8439",
   "metadata": {},
   "outputs": [
    {
     "name": "stdout",
     "output_type": "stream",
     "text": [
      "              precision    recall  f1-score   support\n",
      "\n",
      "           0       0.70      1.00      0.82         7\n",
      "           1       1.00      0.73      0.84        11\n",
      "\n",
      "    accuracy                           0.83        18\n",
      "   macro avg       0.85      0.86      0.83        18\n",
      "weighted avg       0.88      0.83      0.83        18\n",
      "\n"
     ]
    }
   ],
   "source": [
    "# Train the model\n",
    "model, scaler, vec = train_anomaly_detector(train)"
   ]
  },
  {
   "cell_type": "code",
   "execution_count": 57,
   "id": "6561c3c7-ac7f-458b-983c-4a164b9d02c3",
   "metadata": {},
   "outputs": [],
   "source": [
    "def predict_anomaly(model, scaler, vec, new_data):\n",
    "    # Generate features from the new data\n",
    "    features = prepare_features(new_data)\n",
    "    # Use the same vectorizer to transform the feature dictionary\n",
    "    X = vec.transform([features])\n",
    "    # Scale the transformed features\n",
    "    X_scaled = scaler.transform(X)\n",
    "    prediction = model.predict(X_scaled)\n",
    "    probability = model.predict_proba(X_scaled)\n",
    "    return {\"is_anomalous\": bool(prediction[0]), \"probability\": probability[0]}\n",
    "\n",
    "def random_forest_anomaly_assessor(item):\n",
    "    # Use the vectorizer (vec) returned from training\n",
    "    result = predict_anomaly(model, scaler, vec, item)\n",
    "    return 'anomalous' if result['is_anomalous'] else 'normal'"
   ]
  },
  {
   "cell_type": "code",
   "execution_count": 59,
   "id": "9bf2caa4-657a-4fc6-9dcb-bed7eaf8dd65",
   "metadata": {},
   "outputs": [
    {
     "name": "stdout",
     "output_type": "stream",
     "text": [
      "\u001b[91m1: Guess: normal Truth: anomalous Error: True Item: [{\"timestamp\": 1738684800, \"room\": \"kitc...\u001b[0m\n",
      "\u001b[92m2: Guess: normal Truth: normal Error: False Item: [{\"timestamp\": 1738238400, \"room\": \"pill...\u001b[0m\n",
      "\u001b[92m3: Guess: normal Truth: normal Error: False Item: [{\"timestamp\": 1739170800, \"room\": \"pill...\u001b[0m\n",
      "\u001b[92m4: Guess: anomalous Truth: anomalous Error: False Item: [{\"timestamp\": 1739089200, \"room\": \"bedr...\u001b[0m\n",
      "\u001b[92m5: Guess: anomalous Truth: anomalous Error: False Item: [{\"timestamp\": 1739374800, \"room\": \"bath...\u001b[0m\n",
      "\u001b[92m6: Guess: normal Truth: normal Error: False Item: [{\"timestamp\": 1738734000, \"room\": \"pill...\u001b[0m\n",
      "\u001b[92m7: Guess: normal Truth: normal Error: False Item: [{\"timestamp\": 1739277600, \"room\": \"kitc...\u001b[0m\n",
      "\u001b[92m8: Guess: anomalous Truth: anomalous Error: False Item: [{\"timestamp\": 1739336400, \"room\": \"bedr...\u001b[0m\n",
      "\u001b[92m9: Guess: normal Truth: normal Error: False Item: [{\"timestamp\": 1738623600, \"room\": \"kitc...\u001b[0m\n",
      "\u001b[91m10: Guess: normal Truth: anomalous Error: True Item: [{\"timestamp\": 1738623600, \"room\": \"hall...\u001b[0m\n",
      "\u001b[92m11: Guess: anomalous Truth: anomalous Error: False Item: [{\"timestamp\": 1739240400, \"room\": \"bath...\u001b[0m\n",
      "\u001b[92m12: Guess: anomalous Truth: anomalous Error: False Item: [{\"timestamp\": 1739336400, \"room\": \"bedr...\u001b[0m\n",
      "\u001b[92m13: Guess: normal Truth: normal Error: False Item: [{\"timestamp\": 1738808400, \"room\": \"bath...\u001b[0m\n",
      "\u001b[92m14: Guess: anomalous Truth: anomalous Error: False Item: [{\"timestamp\": 1738917600, \"room\": \"bath...\u001b[0m\n",
      "\u001b[92m15: Guess: normal Truth: normal Error: False Item: [{\"timestamp\": 1739181600, \"room\": \"livi...\u001b[0m\n",
      "\u001b[92m16: Guess: normal Truth: normal Error: False Item: [{\"timestamp\": 1739266800, \"room\": \"livi...\u001b[0m\n",
      "\u001b[92m17: Guess: normal Truth: normal Error: False Item: [{\"timestamp\": 1738746000, \"room\": \"livi...\u001b[0m\n",
      "\u001b[92m18: Guess: normal Truth: normal Error: False Item: [{\"timestamp\": 1738634400, \"room\": \"porc...\u001b[0m\n",
      "\u001b[92m19: Guess: anomalous Truth: anomalous Error: False Item: [{\"timestamp\": 1739385600, \"room\": \"bedr...\u001b[0m\n",
      "\u001b[92m20: Guess: normal Truth: normal Error: False Item: [{\"timestamp\": 1739277600, \"room\": \"kitc...\u001b[0m\n",
      "\u001b[92m21: Guess: normal Truth: normal Error: False Item: [{\"timestamp\": 1738758000, \"room\": \"kitc...\u001b[0m\n",
      "\u001b[92m22: Guess: anomalous Truth: anomalous Error: False Item: [{\"timestamp\": 1739240400, \"room\": \"bath...\u001b[0m\n"
     ]
    },
    {
     "data": {
      "image/png": "[encoded data removed]",
      "text/plain": [
       "<Figure size 800x600 with 2 Axes>"
      ]
     },
     "metadata": {},
     "output_type": "display_data"
    }
   ],
   "source": [
    "# test it using Random Forest\n",
    "Tester.test(random_forest_anomaly_assessor, test)\n"
   ]
  },
  {
   "cell_type": "markdown",
   "id": "85e39550-bde8-4486-891c-5bc8e63af537",
   "metadata": {},
   "source": [
    "# Now we should save our classification model"
   ]
  },
  {
   "cell_type": "code",
   "execution_count": 61,
   "id": "cda0232e-f8f6-4054-a496-9ab56c3a483d",
   "metadata": {},
   "outputs": [
    {
     "data": {
      "text/plain": [
       "['random_forest_model.pkl']"
      ]
     },
     "execution_count": 61,
     "metadata": {},
     "output_type": "execute_result"
    }
   ],
   "source": [
    "# Save the model and scaler to a file\n",
    "\n",
    "joblib.dump((model, scaler, vec), 'random_forest_model.pkl')"
   ]
  },
  {
   "cell_type": "code",
   "execution_count": null,
   "id": "902b3889-042d-4313-9573-5bbfe7475ee7",
   "metadata": {},
   "outputs": [],
   "source": []
  }
 ],
 "metadata": {
  "kernelspec": {
   "display_name": "Python 3 (ipykernel)",
   "language": "python",
   "name": "python3"
  },
  "language_info": {
   "codemirror_mode": {
    "name": "ipython",
    "version": 3
   },
   "file_extension": ".py",
   "mimetype": "text/x-python",
   "name": "python",
   "nbconvert_exporter": "python",
   "pygments_lexer": "ipython3",
   "version": "3.12.3"
  }
 },
 "nbformat": 4,
 "nbformat_minor": 5
}
