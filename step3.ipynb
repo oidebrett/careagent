{
 "cells": [
  {
   "cell_type": "markdown",
   "id": "db8736a7-ed94-441c-9556-831fa57b5a10",
   "metadata": {},
   "source": [
    "# The Caring Home / Helpful Home Continued\n",
    "\n",
    "A model that can look for non normal situations in a elderly person home, from smart home IoT sensors.\n",
    "\n",
    "## Enter The Frontier!\n",
    "\n",
    "And now - we put Frontier Models to the test.\n",
    "\n",
    "### 2 important points:\n",
    "\n",
    "It's important to appreciate that we aren't Training the frontier models. We're only providing them with the Test dataset to see how they perform. They don't gain the benefit of the 400,000 training examples that we provided to the Traditional ML models.\n",
    "\n",
    "HAVING SAID THAT...\n",
    "\n",
    "It's entirely possible that in their monstrously large training data, they've already been exposed to all the products in the training AND the test set. So there could be test \"contamination\" here which gives them an unfair advantage. We should keep that in mind."
   ]
  },
  {
   "cell_type": "code",
   "execution_count": 12,
   "id": "681c717b-4c24-4ac3-a5f3-3c5881d6e70a",
   "metadata": {},
   "outputs": [],
   "source": [
    "# imports\n",
    "\n",
    "import os\n",
    "import re\n",
    "import math\n",
    "import json\n",
    "import random\n",
    "from dotenv import load_dotenv\n",
    "from huggingface_hub import login\n",
    "from items import Item\n",
    "import matplotlib.pyplot as plt\n",
    "import numpy as np\n",
    "import pickle\n",
    "from collections import Counter\n",
    "from openai import OpenAI\n",
    "from anthropic import Anthropic"
   ]
  },
  {
   "cell_type": "code",
   "execution_count": 13,
   "id": "21a3833e-4093-43b0-8f7b-839c50b911ea",
   "metadata": {},
   "outputs": [],
   "source": [
    "# moved our Tester into a separate package\n",
    "# call it with Tester.test(function_name, test_dataset)\n",
    "\n",
    "from testing import Tester"
   ]
  },
  {
   "cell_type": "code",
   "execution_count": 14,
   "id": "e434c8e8-bdce-4248-b522-188706bb4456",
   "metadata": {},
   "outputs": [],
   "source": [
    "# We will use Ollama locally for some models so we will need requests\n",
    "import requests"
   ]
  },
  {
   "cell_type": "code",
   "execution_count": 15,
   "id": "36d05bdc-0155-4c72-a7ee-aa4e614ffd3c",
   "metadata": {},
   "outputs": [],
   "source": [
    "# environment\n",
    "\n",
    "load_dotenv()\n",
    "os.environ['OPENAI_API_KEY'] = os.getenv('OPENAI_API_KEY', 'your-key-if-not-using-env')\n",
    "os.environ['ANTHROPIC_API_KEY'] = os.getenv('ANTHROPIC_API_KEY', 'your-key-if-not-using-env')\n",
    "os.environ['OPENROUTER_API_KEY'] = os.getenv('OPENROUTER_API_KEY', 'your-key-if-not-using-env')\n",
    "os.environ['HYPERBOLIC_API_KEY'] = os.getenv('HYPERBOLIC_API_KEY', 'your-key-if-not-using-env')\n",
    "os.environ['HF_TOKEN'] = os.getenv('HF_TOKEN', 'your-key-if-not-using-env')"
   ]
  },
  {
   "cell_type": "code",
   "execution_count": 16,
   "id": "4dd3aad2-6f99-433c-8792-e461d2f06622",
   "metadata": {},
   "outputs": [
    {
     "name": "stderr",
     "output_type": "stream",
     "text": [
      "Note: Environment variable`HF_TOKEN` is set and is the current active token independently from the token you've just configured.\n"
     ]
    }
   ],
   "source": [
    "# Log in to HuggingFace\n",
    "\n",
    "hf_token = os.environ['HF_TOKEN']\n",
    "login(hf_token, add_to_git_credential=True)"
   ]
  },
  {
   "cell_type": "code",
   "execution_count": 17,
   "id": "b0a6fb86-74a4-403c-ab25-6db2d74e9d2b",
   "metadata": {},
   "outputs": [],
   "source": [
    "openai = OpenAI()\n",
    "claude = Anthropic()"
   ]
  },
  {
   "cell_type": "code",
   "execution_count": 18,
   "id": "c830ed3e-24ee-4af6-a07b-a1bfdcd39278",
   "metadata": {},
   "outputs": [],
   "source": [
    "%matplotlib inline"
   ]
  },
  {
   "cell_type": "code",
   "execution_count": 19,
   "id": "5c9b05f4-c9eb-462c-8d86-de9140a2d985",
   "metadata": {},
   "outputs": [],
   "source": [
    "# Let's avoid curating all our data again! Load in the pickle files:\n",
    "\n",
    "with open('train.pkl', 'rb') as file:\n",
    "    train = pickle.load(file)\n",
    "\n",
    "with open('test.pkl', 'rb') as file:\n",
    "    test = pickle.load(file)"
   ]
  },
  {
   "cell_type": "markdown",
   "id": "066fef03-8338-4526-9df3-89b649ad4f0a",
   "metadata": {},
   "source": [
    "## First, the humble but mighty GPT-4o-mini\n",
    "\n",
    "It's called mini, but it packs a punch."
   ]
  },
  {
   "cell_type": "code",
   "execution_count": 70,
   "id": "66ea68e8-ab1b-4f0d-aba4-a59574d8f85e",
   "metadata": {},
   "outputs": [],
   "source": [
    "# First let's work on a good prompt for a Frontier model\n",
    "# Notice that I'm removing the \" to the nearest dollar\"\n",
    "# When we train our own models, we'll need to make the problem as easy as possible, \n",
    "# but a Frontier model needs no such simplification.\n",
    "\n",
    "def messages_for(item):\n",
    "    system_message = \"You look for normal and anomalous situations in smart home sensor data in an elderly persons home. Reply only with the word normal or anomalous, no explanation. You should consider the timing of the events and whether this is typical for an elderly person. You must also consider the time between the events and the sequencing of the events to check if they are normal for an elderly person\"\n",
    "    user_prompt = item.test_prompt().replace(\"\\n\\nResult is \",\"\")\n",
    "    return [\n",
    "        {\"role\": \"system\", \"content\": system_message},\n",
    "        {\"role\": \"user\", \"content\": user_prompt},\n",
    "        {\"role\": \"assistant\", \"content\": \"Result is \"}\n",
    "    ]"
   ]
  },
  {
   "cell_type": "code",
   "execution_count": 71,
   "id": "4ff92d61-0d27-4b0d-8b32-c9891016509b",
   "metadata": {},
   "outputs": [
    {
     "data": {
      "text/plain": [
       "[{'role': 'system',\n",
       "  'content': 'You look for normal and anomalous situations in smart home sensor data in an elderly persons home. Reply only with the word normal or anomalous, no explanation. You should consider the timing of the events and whether this is typical for an elderly person. You must also consider the time between the events and the sequencing of the events to check if they are normal for an elderly person'},\n",
       " {'role': 'user',\n",
       "  'content': 'How would you classify this sensor data - normal or anomalous?\\n\\n[{\"timestamp\": 1709344800, \"room\": \"bedroom\", \"nodeId\": 2, \"endpointId\": 1, \"attribute\": {\"OccupancySensing\": {\"Occupancy\": 1}}, \"datetime\": \"Sat Mar 02 2024 02:00:00\"}, {\"timestamp\": 1709345700, \"room\": \"bedroom\", \"nodeId\": 2, \"endpointId\": 2, \"attribute\": {\"TemperatureMeasurement\": {\"MeasuredValue\": 1900}}, \"datetime\": \"Sat Mar 02 2024 02:15:00\"}, {\"timestamp\": 1709349300, \"room\": \"bedroom\", \"nodeId\": 2, \"endpointId\": 2, \"attribute\": {\"TemperatureMeasurement\": {\"MeasuredValue\": 1900}}, \"datetime\": \"Sat Mar 02 2024 03:15:00\"}, {\"timestamp\": 1709352900, \"room\": \"bedroom\", \"nodeId\": 2, \"endpointId\": 2, \"attribute\": {\"TemperatureMeasurement\": {\"MeasuredValue\": 1900}}, \"datetime\": \"Sat Mar 02 2024 04:15:00\"}]\\n'},\n",
       " {'role': 'assistant', 'content': 'Result is '}]"
      ]
     },
     "execution_count": 71,
     "metadata": {},
     "output_type": "execute_result"
    }
   ],
   "source": [
    "# Try this out\n",
    "#test[0].details\n",
    "messages_for(test[0])"
   ]
  },
  {
   "cell_type": "code",
   "execution_count": 72,
   "id": "b1af1888-f94a-4106-b0d8-8a70939eec4e",
   "metadata": {},
   "outputs": [],
   "source": [
    "# A utility function to extract the result from a string\n",
    "\n",
    "def get_result(text):\n",
    "    # Match \"normal\" or \"anomalous\" anywhere in the text\n",
    "    match = re.search(r\"\\b(normal|anomalous)\\b\", text, re.IGNORECASE)\n",
    "    return match.group(1).lower() if match else None"
   ]
  },
  {
   "cell_type": "code",
   "execution_count": 73,
   "id": "f138c5b7-bcc1-4085-aced-68dad1bf36b4",
   "metadata": {},
   "outputs": [
    {
     "data": {
      "text/plain": [
       "'anomalous'"
      ]
     },
     "execution_count": 73,
     "metadata": {},
     "output_type": "execute_result"
    }
   ],
   "source": [
    "get_result(\"The result is anomalous because blah blah\")"
   ]
  },
  {
   "cell_type": "code",
   "execution_count": 74,
   "id": "b29597ad-f3f3-4eff-a62a-fb14d3bdde81",
   "metadata": {},
   "outputs": [
    {
     "data": {
      "text/plain": [
       "'anomalous'"
      ]
     },
     "execution_count": 74,
     "metadata": {},
     "output_type": "execute_result"
    }
   ],
   "source": [
    "get_result(\"anomalous\")"
   ]
  },
  {
   "cell_type": "code",
   "execution_count": 75,
   "id": "501a2a7a-69c8-451b-bbc0-398bcb9e1612",
   "metadata": {},
   "outputs": [],
   "source": [
    "# The function for gpt-4o-mini\n",
    "\n",
    "def gpt_4o_mini(item):\n",
    "    response = openai.chat.completions.create(\n",
    "        model=\"gpt-4o-mini\", \n",
    "        messages=messages_for(item),\n",
    "        seed=42,\n",
    "        max_tokens=5\n",
    "    )\n",
    "    reply = response.choices[0].message.content\n",
    "    return get_result(reply)"
   ]
  },
  {
   "cell_type": "code",
   "execution_count": 76,
   "id": "843d88b4-364a-431b-b48b-8a7c1f68b786",
   "metadata": {},
   "outputs": [
    {
     "data": {
      "text/plain": [
       "'anomalous'"
      ]
     },
     "execution_count": 76,
     "metadata": {},
     "output_type": "execute_result"
    }
   ],
   "source": [
    "test[0].result"
   ]
  },
  {
   "cell_type": "code",
   "execution_count": 77,
   "id": "36bdd2c9-1859-4f99-a09f-3ec83b845b30",
   "metadata": {},
   "outputs": [
    {
     "name": "stdout",
     "output_type": "stream",
     "text": [
      "\u001b[92m1: Guess: anomalous Truth: anomalous Error: False Item: [{\"timestamp\": 1709344800, \"room\": \"bedr...\u001b[0m\n",
      "\u001b[92m2: Guess: normal Truth: normal Error: False Item: [{\"timestamp\": 1738072800, \"room\": \"livi...\u001b[0m\n",
      "\u001b[91m3: Guess: anomalous Truth: normal Error: True Item: [{\"timestamp\": 1709413200, \"room\": \"livi...\u001b[0m\n",
      "\u001b[92m4: Guess: anomalous Truth: anomalous Error: False Item: [{\"timestamp\": 1740553200, \"datetime\": \"...\u001b[0m\n",
      "\u001b[92m5: Guess: anomalous Truth: anomalous Error: False Item: [{\"timestamp\": 1709247600, \"room\": \"livi...\u001b[0m\n",
      "\u001b[91m6: Guess: anomalous Truth: normal Error: True Item: [{\"timestamp\": 1709294400, \"room\": \"livi...\u001b[0m\n",
      "\u001b[92m7: Guess: anomalous Truth: anomalous Error: False Item: [{\"timestamp\": 1741086000, \"room\": \"bath...\u001b[0m\n",
      "\u001b[92m8: Guess: anomalous Truth: anomalous Error: False Item: [{\"timestamp\": 1740560400, \"datetime\": \"...\u001b[0m\n",
      "\u001b[91m9: Guess: anomalous Truth: normal Error: True Item: [{\"timestamp\": 1741269600, \"datetime\": \"...\u001b[0m\n",
      "\u001b[91m10: Guess: normal Truth: anomalous Error: True Item: [{\"timestamp\": 1741262400, \"datetime\": \"...\u001b[0m\n",
      "\u001b[91m11: Guess: anomalous Truth: normal Error: True Item: [{\"timestamp\": 1709298000, \"room\": \"kitc...\u001b[0m\n",
      "\u001b[91m12: Guess: anomalous Truth: normal Error: True Item: [{\"timestamp\": 1709413200, \"room\": \"livi...\u001b[0m\n",
      "\u001b[91m13: Guess: anomalous Truth: normal Error: True Item: [{\"timestamp\": 1709391600, \"room\": \"kitc...\u001b[0m\n",
      "\u001b[91m14: Guess: anomalous Truth: normal Error: True Item: [{\"timestamp\": 1709308800, \"room\": \"livi...\u001b[0m\n",
      "\u001b[91m15: Guess: anomalous Truth: normal Error: True Item: [{\"timestamp\": 1740618000, \"datetime\": \"...\u001b[0m\n",
      "\u001b[91m16: Guess: anomalous Truth: normal Error: True Item: [{\"timestamp\": 1709391600, \"room\": \"kitc...\u001b[0m\n",
      "\u001b[91m17: Guess: anomalous Truth: normal Error: True Item: [{\"timestamp\": 1709320800, \"room\": \"livi...\u001b[0m\n",
      "\u001b[92m18: Guess: anomalous Truth: anomalous Error: False Item: [{\"timestamp\": 1741082100, \"room\": \"hall...\u001b[0m\n"
     ]
    },
    {
     "data": {
      "image/png": "[encoded data removed]",
      "text/plain": [
       "<Figure size 800x600 with 2 Axes>"
      ]
     },
     "metadata": {},
     "output_type": "display_data"
    }
   ],
   "source": [
    "Tester.test(gpt_4o_mini, test)"
   ]
  },
  {
   "cell_type": "code",
   "execution_count": 78,
   "id": "f49e90d6-6749-4eb8-9347-5922b189d379",
   "metadata": {},
   "outputs": [],
   "source": [
    "def gpt_4o_frontier(item):\n",
    "    response = openai.chat.completions.create(\n",
    "        model=\"gpt-4o-2024-08-06\", \n",
    "        messages=messages_for(item),\n",
    "        seed=42,\n",
    "        max_tokens=5\n",
    "    )\n",
    "    reply = response.choices[0].message.content\n",
    "    return get_result(reply)"
   ]
  },
  {
   "cell_type": "code",
   "execution_count": 79,
   "id": "766e697e-55bf-4521-b301-3b07d20045e0",
   "metadata": {},
   "outputs": [
    {
     "name": "stdout",
     "output_type": "stream",
     "text": [
      "\u001b[92m1: Guess: anomalous Truth: anomalous Error: False Item: [{\"timestamp\": 1709344800, \"room\": \"bedr...\u001b[0m\n",
      "\u001b[92m2: Guess: normal Truth: normal Error: False Item: [{\"timestamp\": 1738072800, \"room\": \"livi...\u001b[0m\n",
      "\u001b[92m3: Guess: normal Truth: normal Error: False Item: [{\"timestamp\": 1709413200, \"room\": \"livi...\u001b[0m\n",
      "\u001b[92m4: Guess: anomalous Truth: anomalous Error: False Item: [{\"timestamp\": 1740553200, \"datetime\": \"...\u001b[0m\n",
      "\u001b[92m5: Guess: anomalous Truth: anomalous Error: False Item: [{\"timestamp\": 1709247600, \"room\": \"livi...\u001b[0m\n",
      "\u001b[91m6: Guess: anomalous Truth: normal Error: True Item: [{\"timestamp\": 1709294400, \"room\": \"livi...\u001b[0m\n",
      "\u001b[92m7: Guess: anomalous Truth: anomalous Error: False Item: [{\"timestamp\": 1741086000, \"room\": \"bath...\u001b[0m\n",
      "\u001b[92m8: Guess: anomalous Truth: anomalous Error: False Item: [{\"timestamp\": 1740560400, \"datetime\": \"...\u001b[0m\n",
      "\u001b[92m9: Guess: normal Truth: normal Error: False Item: [{\"timestamp\": 1741269600, \"datetime\": \"...\u001b[0m\n",
      "\u001b[91m10: Guess: normal Truth: anomalous Error: True Item: [{\"timestamp\": 1741262400, \"datetime\": \"...\u001b[0m\n",
      "\u001b[92m11: Guess: normal Truth: normal Error: False Item: [{\"timestamp\": 1709298000, \"room\": \"kitc...\u001b[0m\n",
      "\u001b[92m12: Guess: normal Truth: normal Error: False Item: [{\"timestamp\": 1709413200, \"room\": \"livi...\u001b[0m\n",
      "\u001b[92m13: Guess: normal Truth: normal Error: False Item: [{\"timestamp\": 1709391600, \"room\": \"kitc...\u001b[0m\n",
      "\u001b[91m14: Guess: anomalous Truth: normal Error: True Item: [{\"timestamp\": 1709308800, \"room\": \"livi...\u001b[0m\n",
      "\u001b[92m15: Guess: normal Truth: normal Error: False Item: [{\"timestamp\": 1740618000, \"datetime\": \"...\u001b[0m\n",
      "\u001b[92m16: Guess: normal Truth: normal Error: False Item: [{\"timestamp\": 1709391600, \"room\": \"kitc...\u001b[0m\n",
      "\u001b[92m17: Guess: normal Truth: normal Error: False Item: [{\"timestamp\": 1709320800, \"room\": \"livi...\u001b[0m\n",
      "\u001b[92m18: Guess: anomalous Truth: anomalous Error: False Item: [{\"timestamp\": 1741082100, \"room\": \"hall...\u001b[0m\n"
     ]
    },
    {
     "data": {
      "image/png": "[encoded data removed]",
      "text/plain": [
       "<Figure size 800x600 with 2 Axes>"
      ]
     },
     "metadata": {},
     "output_type": "display_data"
    }
   ],
   "source": [
    "# The function for gpt-4o - the August model\n",
    "# Note that it cost me about 1-2 cents to run this (pricing may vary by region)\n",
    "# You can skip this and look at my results instead\n",
    "\n",
    "Tester.test(gpt_4o_frontier, test)"
   ]
  },
  {
   "cell_type": "code",
   "execution_count": 31,
   "id": "53d941cb-5b73-44ea-b893-3a0ce9997066",
   "metadata": {},
   "outputs": [],
   "source": [
    "def claude_3_point_5_sonnet(item):\n",
    "    messages = messages_for(item)\n",
    "    system_message = messages[0]['content']\n",
    "    messages = messages[1:]\n",
    "    response = claude.messages.create(\n",
    "        model=\"claude-3-5-sonnet-20240620\",\n",
    "        max_tokens=5,\n",
    "        system=system_message,\n",
    "        messages=messages\n",
    "    )\n",
    "    reply = response.content[0].text\n",
    "    return get_result(reply)"
   ]
  },
  {
   "cell_type": "code",
   "execution_count": 20,
   "id": "11dba25d-f562-40f9-9855-40b715b7fc86",
   "metadata": {},
   "outputs": [],
   "source": [
    "# The function for Claude 3.5 Sonnet\n",
    "# It also cost me about 1-2 cents to run this (pricing may vary by region)\n",
    "# You can skip this and look at my results instead\n",
    "\n",
    "#Tester.test(claude_3_point_5_sonnet, test)"
   ]
  },
  {
   "cell_type": "markdown",
   "id": "e916e3e2-b73f-4634-8976-a0214db3eea4",
   "metadata": {},
   "source": [
    "# We will try a Local Model"
   ]
  },
  {
   "cell_type": "code",
   "execution_count": 32,
   "id": "b2f5f8bf-50d8-4023-add3-af267e16dfc2",
   "metadata": {},
   "outputs": [
    {
     "name": "stdout",
     "output_type": "stream",
     "text": [
      "<think>\n",
      "I need to determine the value of 2 plus 2.\n",
      "\n",
      "Step 1: Start with the number 2.\n",
      "\n",
      "Step 2: Add another 2 to it.\n",
      "\n",
      "Adding these together, I get 4.\n",
      "\n",
      "Therefore, 2 plus 2 equals 4.\n",
      "</think>\n",
      "\n",
      "Certainly! Let's solve the problem step by step.\n",
      "\n",
      "**Problem:** What is \\(2 + 2\\)?\n",
      "\n",
      "**Solution:**\n",
      "\n",
      "1. **Identify the numbers involved:**\n",
      "   \n",
      "   \\[\n",
      "   2 \\quad \\text{and} \\quad 2\n",
      "   \\]\n",
      "\n",
      "2. **Add them together:**\n",
      "   \n",
      "   \\[\n",
      "   2 + 2 = 4\n",
      "   \\]\n",
      "\n",
      "Therefore, the final answer is:\n",
      "\n",
      "\\[\n",
      "\\boxed{4}\n",
      "\\]\n"
     ]
    }
   ],
   "source": [
    "# There's actually an alternative approach that some people might prefer\n",
    "# You can use the OpenAI client python library to call Ollama:\n",
    "\n",
    "from openai import OpenAI\n",
    "ollama_via_openai = OpenAI(base_url='http://localhost:11434/v1', api_key='ollama')\n",
    "\n",
    "# This may take a few minutes to run! You should then see a fascinating \"thinking\" trace inside <think> tags, followed by some decent definitions\n",
    "\n",
    "response = ollama_via_openai.chat.completions.create(\n",
    "    model=\"deepseek-r1:1.5b\",\n",
    "    messages=[{\"role\": \"user\", \"content\": \"What is 2+2?\"}]\n",
    ")\n",
    "\n",
    "print(response.choices[0].message.content)\n"
   ]
  },
  {
   "cell_type": "code",
   "execution_count": 33,
   "id": "77428dfb-d8f4-4477-8265-77b4b0badd39",
   "metadata": {},
   "outputs": [],
   "source": [
    "# Use Ollama API to query the local `deepseek` model\n",
    "def deepseek(item):\n",
    "    response = ollama_via_openai.chat.completions.create(\n",
    "        model=\"deepseek-r1:1.5b\",\n",
    "        messages=messages_for(item),\n",
    "        seed=42\n",
    "    )\n",
    "    reply = response.choices[0].message.content\n",
    "    #print(reply)\n",
    "    return get_result(reply)\n",
    "    \n",
    "\n",
    "\n"
   ]
  },
  {
   "cell_type": "code",
   "execution_count": 34,
   "id": "7add5156-bfba-4383-ad9d-00e30cb8b3d8",
   "metadata": {},
   "outputs": [
    {
     "name": "stdout",
     "output_type": "stream",
     "text": [
      "\u001b[91m1: Guess: normal Truth: anomalous Error: True Item: [{\"timestamp\": 1709344800, \"room\": \"bedr...\u001b[0m\n",
      "\u001b[92m2: Guess: normal Truth: normal Error: False Item: [{\"timestamp\": 1738072800, \"room\": \"livi...\u001b[0m\n",
      "\u001b[92m3: Guess: normal Truth: normal Error: False Item: [{\"timestamp\": 1709413200, \"room\": \"livi...\u001b[0m\n",
      "\u001b[91m4: Guess: normal Truth: anomalous Error: True Item: [{\"timestamp\": 1740553200, \"datetime\": \"...\u001b[0m\n",
      "\u001b[91m5: Guess: normal Truth: anomalous Error: True Item: [{\"timestamp\": 1709247600, \"room\": \"livi...\u001b[0m\n",
      "\u001b[92m6: Guess: normal Truth: normal Error: False Item: [{\"timestamp\": 1709294400, \"room\": \"livi...\u001b[0m\n",
      "\u001b[91m7: Guess: normal Truth: anomalous Error: True Item: [{\"timestamp\": 1741086000, \"room\": \"bath...\u001b[0m\n",
      "\u001b[91m8: Guess: normal Truth: anomalous Error: True Item: [{\"timestamp\": 1740560400, \"datetime\": \"...\u001b[0m\n",
      "\u001b[91m9: Guess: anomalous Truth: normal Error: True Item: [{\"timestamp\": 1741269600, \"datetime\": \"...\u001b[0m\n",
      "\u001b[92m10: Guess: anomalous Truth: anomalous Error: False Item: [{\"timestamp\": 1741262400, \"datetime\": \"...\u001b[0m\n",
      "\u001b[92m11: Guess: normal Truth: normal Error: False Item: [{\"timestamp\": 1709298000, \"room\": \"kitc...\u001b[0m\n",
      "\u001b[92m12: Guess: normal Truth: normal Error: False Item: [{\"timestamp\": 1709413200, \"room\": \"livi...\u001b[0m\n",
      "\u001b[92m13: Guess: normal Truth: normal Error: False Item: [{\"timestamp\": 1709391600, \"room\": \"kitc...\u001b[0m\n",
      "\u001b[92m14: Guess: normal Truth: normal Error: False Item: [{\"timestamp\": 1709308800, \"room\": \"livi...\u001b[0m\n",
      "\u001b[92m15: Guess: normal Truth: normal Error: False Item: [{\"timestamp\": 1740618000, \"datetime\": \"...\u001b[0m\n",
      "\u001b[92m16: Guess: normal Truth: normal Error: False Item: [{\"timestamp\": 1709391600, \"room\": \"kitc...\u001b[0m\n",
      "\u001b[92m17: Guess: normal Truth: normal Error: False Item: [{\"timestamp\": 1709320800, \"room\": \"livi...\u001b[0m\n",
      "\u001b[91m18: Guess: normal Truth: anomalous Error: True Item: [{\"timestamp\": 1741082100, \"room\": \"hall...\u001b[0m\n"
     ]
    },
    {
     "data": {
      "image/png": "[encoded data removed]",
      "text/plain": [
       "<Figure size 800x600 with 2 Axes>"
      ]
     },
     "metadata": {},
     "output_type": "display_data"
    }
   ],
   "source": [
    "# The function for local install of deepseek\n",
    "# This takes a long time and could hammer your machine\n",
    "# You can skip this and look at my results instead\n",
    "\n",
    "Tester.test(deepseek, test)"
   ]
  },
  {
   "cell_type": "markdown",
   "id": "01176720-3514-4ac0-a96d-9d76e6f92cd8",
   "metadata": {},
   "source": [
    "# We will try the Emerging models using Openrouter (API provider)\n",
    "\n"
   ]
  },
  {
   "cell_type": "markdown",
   "id": "5e9426cc-525e-4e2e-99af-3a18254cbc9d",
   "metadata": {},
   "source": [
    "## Lets try Deepskeep with Openrouter!\n",
    "\n",
    "And now - we put the Deepseek Models to the test."
   ]
  },
  {
   "cell_type": "code",
   "execution_count": 35,
   "id": "80f61519-9430-4034-8642-f6928488ac4d",
   "metadata": {},
   "outputs": [],
   "source": [
    "client = OpenAI(\n",
    "  base_url=\"https://openrouter.ai/api/v1\",\n",
    "  api_key=os.environ['OPENROUTER_API_KEY'],\n",
    ")\n"
   ]
  },
  {
   "cell_type": "code",
   "execution_count": 36,
   "id": "bfe0142d-92b7-4543-ae18-c22f67a719f2",
   "metadata": {},
   "outputs": [],
   "source": [
    "completion = client.chat.completions.create(\n",
    "  model=\"deepseek/deepseek-r1:free\",\n",
    "  messages=[\n",
    "    {\n",
    "      \"role\": \"user\",\n",
    "      \"content\": \"What is 2+2?\"\n",
    "    }\n",
    "  ]\n",
    ")\n",
    "#print(completion)"
   ]
  },
  {
   "cell_type": "code",
   "execution_count": 37,
   "id": "86ba02fe-8040-433b-ae05-6c9049a5b286",
   "metadata": {},
   "outputs": [
    {
     "name": "stdout",
     "output_type": "stream",
     "text": [
      "The result of 2 + 2 is **4**. This is a basic arithmetic operation where two quantities of 2 are combined, yielding a total of 4 when added together. In standard base-10 mathematics, this calculation holds universally true. \n",
      "\n",
      "**Answer:**  \n",
      "2 + 2 equals 4.\n"
     ]
    }
   ],
   "source": [
    "#If you get 'Too may requests' you may need to topup credit\n",
    "print(completion.choices[0].message.content)"
   ]
  },
  {
   "cell_type": "code",
   "execution_count": 38,
   "id": "e72eee20-651a-47bc-baa3-ce1c180e141c",
   "metadata": {},
   "outputs": [
    {
     "name": "stdout",
     "output_type": "stream",
     "text": [
      "{'id': 'gen-1740928601-L8ZhIZNh8YnqBfM4eBB7', 'provider': 'Together', 'model': 'qwen/qwen-2.5-72b-instruct', 'object': 'chat.completion', 'created': 1740928601, 'choices': [{'logprobs': None, 'finish_reason': 'stop', 'native_finish_reason': 'stop', 'index': 0, 'message': {'role': 'assistant', 'content': '2 + 2 equals 4.', 'refusal': None}}], 'usage': {'prompt_tokens': 15, 'completion_tokens': 9, 'total_tokens': 24}}\n"
     ]
    }
   ],
   "source": [
    "\n",
    "import requests\n",
    "import json\n",
    "\n",
    "openrouter_api_key = os.environ['OPENROUTER_API_KEY']\n",
    "\n",
    "\n",
    "response = requests.post(\n",
    "  url=\"https://openrouter.ai/api/v1/chat/completions\",\n",
    "  headers={\n",
    "    \"Authorization\": \"Bearer \" + os.environ['OPENROUTER_API_KEY'],\n",
    "  },\n",
    "  data=json.dumps({\n",
    "    \"model\": \"Qwen/Qwen2.5-72B-Instruct\", # Optional\n",
    "    \"messages\": [\n",
    "      {\n",
    "        \"role\": \"user\",\n",
    "        \"content\": \"What is 2+2?\"\n",
    "      }\n",
    "    ]\n",
    "  })\n",
    ")\n",
    "\n",
    "print(response.json())"
   ]
  },
  {
   "cell_type": "markdown",
   "id": "bfe258f6-07a9-4212-ad03-2c6cfbe997e6",
   "metadata": {},
   "source": [
    "# Lets try Hyperbolic (API provider)"
   ]
  },
  {
   "cell_type": "code",
   "execution_count": 39,
   "id": "6cf83ac1-a502-4b1b-9565-79d17fd06dd7",
   "metadata": {},
   "outputs": [
    {
     "name": "stdout",
     "output_type": "stream",
     "text": [
      "{'id': 'chatcmpl-jTURDTLnK2X3TfjreiXw4Y', 'object': 'chat.completion', 'created': 1740928603, 'model': 'Qwen/Qwen2.5-72B-Instruct', 'choices': [{'index': 0, 'message': {'role': 'assistant', 'content': '\\n2+2 is 4.', 'tool_calls': []}, 'finish_reason': 'stop', 'logprobs': None}], 'usage': {'prompt_tokens': 14, 'total_tokens': 23, 'completion_tokens': 9}}\n"
     ]
    }
   ],
   "source": [
    "import requests\n",
    "\n",
    "url = \"https://api.hyperbolic.xyz/v1/chat/completions\"\n",
    "headers = {\n",
    "    \"Content-Type\": \"application/json\",\n",
    "    \"Authorization\": \"Bearer \" + os.environ['HYPERBOLIC_API_KEY']\n",
    "}\n",
    "data = {\n",
    "    \"messages\": [\n",
    "        {\n",
    "            \"role\": \"user\",\n",
    "            \"content\": \"What is 2+2?\"\n",
    "        }\n",
    "    ],\n",
    "    \"model\": \"Qwen/Qwen2.5-72B-Instruct\",\n",
    "    \"max_tokens\": 512,\n",
    "    \"temperature\": 0.7,\n",
    "    \"top_p\": 0.9\n",
    "}\n",
    "  \n",
    "response = requests.post(url, headers=headers, json=data)\n",
    "print(response.json())"
   ]
  },
  {
   "cell_type": "code",
   "execution_count": 40,
   "id": "7df8b2c1-8598-4c54-935a-9d1f31a76315",
   "metadata": {},
   "outputs": [
    {
     "name": "stdout",
     "output_type": "stream",
     "text": [
      "{'id': 'chatcmpl-EFygdNkDXEjsW3K52HTS9d', 'object': 'chat.completion', 'created': 1740928633, 'model': 'deepseek-ai/DeepSeek-R1', 'choices': [{'index': 0, 'message': {'role': 'assistant', 'content': \"<think>Okay, so I need to figure out what 2 plus 2 is. Let me start by recalling basic addition. When you add two numbers, you're combining their values. So if I have 2 apples and someone gives me 2 more apples, how many apples do I have in total?\\n\\nLet me count on my fingers. Hold up two fingers on one hand: that's 2. Then hold up two more fingers on the other hand: that's another 2. Now, if I put them together, how many fingers am I holding up? Let's count: one, two, three, four. So that's 4 fingers. Therefore, 2 plus 2 should equal 4.\\n\\nWait, but maybe I should double-check to make sure I didn't make a mistake. Sometimes when you're counting, you might skip a number or count one twice. Let me try another method. If I start at the number 2 on a number line and then take two steps forward, where do I end up? Starting at 2, first step is 3, second step is 4. Yep, that's still 4.\\n\\nAnother way to think about it is using objects. If I have 2 pencils and I get 2 more, I can line them up and count. Let's see: pencil 1, pencil 2, pencil 3, pencil 4. So that's 4 pencils total. Hmm, same result.\\n\\nMaybe I can use mathematical properties. Addition is commutative, so 2 + 2 is the same as 2 + 2. There's no difference here. Also, associative property doesn't really apply since there are only two numbers. But the basic fact remains that adding 2 and 2 gives 4.\\n\\nI remember learning in school that 2 + 2 = 4. It's one of the first addition facts you memorize. But just to be thorough, let's consider if there's any context where this might not hold true. For example, in modular arithmetic, like modulo 3, 2 + 2 would be 1, because 4 divided by 3 leaves a remainder of 1. But unless specified, we're talking about standard base 10 arithmetic here, right? So in normal circumstances, 2 + 2 is definitely 4.\\n\\nWait, could there be a trick question element here? Sometimes people ask simple questions to see if you overcomplicate them. But the\", 'tool_calls': []}, 'finish_reason': 'stop', 'logprobs': None}], 'usage': {'prompt_tokens': 13, 'total_tokens': 521, 'completion_tokens': 508}}\n"
     ]
    }
   ],
   "source": [
    "import requests\n",
    "\n",
    "url = \"https://api.hyperbolic.xyz/v1/chat/completions\"\n",
    "headers = {\n",
    "    \"Content-Type\": \"application/json\",\n",
    "    \"Authorization\": \"Bearer \" + os.environ['HYPERBOLIC_API_KEY']\n",
    "}\n",
    "data = {\n",
    "    \"messages\": [\n",
    "        {\n",
    "            \"role\": \"user\",\n",
    "            \"content\": \"What is 2 + 2?\"\n",
    "        }\n",
    "    ],\n",
    "    \"model\": \"deepseek-ai/DeepSeek-R1\",\n",
    "    \"max_tokens\": 508,\n",
    "    \"temperature\": 0.1,\n",
    "    \"top_p\": 0.9\n",
    "}\n",
    "  \n",
    "response = requests.post(url, headers=headers, json=data)\n",
    "print(response.json())"
   ]
  },
  {
   "cell_type": "code",
   "execution_count": 41,
   "id": "8b546fd2-27c9-46ff-871e-48595bc55d7a",
   "metadata": {},
   "outputs": [],
   "source": [
    "# Lets try hyperbolic using the Open AI library\n",
    "hyperbolic_client = OpenAI(\n",
    "  base_url=\"https://api.hyperbolic.xyz/v1\",\n",
    "  api_key=os.environ['HYPERBOLIC_API_KEY'],\n",
    ")"
   ]
  },
  {
   "cell_type": "code",
   "execution_count": 42,
   "id": "fb45af64-8bbe-4665-a6a7-4a22e8d6161b",
   "metadata": {},
   "outputs": [
    {
     "name": "stdout",
     "output_type": "stream",
     "text": [
      "<think>Okay, so I need to figure out what 2 plus 2 is. Let me start by recalling basic addition. I know that addition is combining two numbers to get a total. So if I have 2 apples and someone gives me 2 more apples, how many do I have in total? Let me count on my fingers. Hold up two fingers on one hand, that's 2. Then add two more fingers on the other hand, that's another 2. Now if I count all the fingers up, it's 1, 2, 3, 4. So that makes 4. Wait, but maybe I should double-check. Sometimes when you're adding, especially with small numbers, it's easy to miscount. Let me try another way. If I start at 2 and then add 2 more, like taking steps: 2, then 3, 4. So two steps forward from 2 gets me to 4. Hmm, that still gives me 4. Maybe I can use objects. Let's say I have 2 pencils. I take 2 more pencils. Now I line them up: 1, 2, 3, 4. Yep, that's 4 pencils. Is there a mathematical way to verify this? Well, in the decimal system, 2 is represented as '2', and adding another 2 would mean 2 units plus 2 units, which equals 4 units. So in the ones place, 2 + 2 = 4, and there's no carry-over because it's less than 10. Therefore, the sum is 4. I think that's right. But wait, could there be any trick to this question? Sometimes people ask simple questions to test attention. But the straightforward answer should be 4. Let me think if there's any context where 2+2 might not be 4. In binary, 2 is represented as 10, so 10 + 10 would be 100, which is 4 in decimal. So even in binary, it still results in 4. In modular arithmetic, like modulo 3, 2 + 2 would be 1, but the question doesn't specify any modulus. So unless there's a specific context, the answer is 4. I can't think of any other number systems where 2+2 isn't 4 under normal circumstances. So yeah, the answer must be 4.\n",
      "</think>\n",
      "\n",
      "The result of 2 + 2 is **4**. \n",
      "\n",
      "**Explanation:**  \n",
      "- **Basic Addition:** Combining 2 units with another 2 units yields a total of 4 units.  \n",
      "- **Verification:**  \n",
      "  - Counting (fingers, objects): 2 + 2 = 4.  \n",
      "  - Number line: Starting at 2 and moving 2 steps forward lands at 4.  \n",
      "  - Decimal system: 2 (units place) + 2 (units place) = 4 (no carry-over).  \n",
      "- **Other Systems:**  \n",
      "  - Binary: 10 (2) + 10 (2) = 100 (4 in decimal).  \n",
      "  - Modular arithmetic (e.g., mod 3): 2 + 2 ≡ 1, but this is irrelevant unless specified.  \n",
      "\n",
      "**Answer:**  \n",
      "\\boxed{4}\n"
     ]
    }
   ],
   "source": [
    "completion = hyperbolic_client.chat.completions.create(\n",
    "  model=\"deepseek-ai/DeepSeek-R1\",\n",
    "  messages=[\n",
    "    {\n",
    "      \"role\": \"user\",\n",
    "      \"content\": \"What is 2+2?\"\n",
    "    }\n",
    "  ]\n",
    ")\n",
    "print(completion.choices[0].message.content)"
   ]
  },
  {
   "cell_type": "code",
   "execution_count": 101,
   "id": "25f12f90-c293-46e4-b912-410ffdd97282",
   "metadata": {},
   "outputs": [],
   "source": [
    "import json\n",
    "\n",
    "# Use Hyperbolic API to query the deepseek model\n",
    "def deepseek_via_hyperbolic(item):\n",
    "    response = hyperbolic_client.chat.completions.create(\n",
    "        model=\"deepseek-ai/DeepSeek-R1\",\n",
    "        messages=messages_for(item),\n",
    "        seed=42\n",
    "    )\n",
    "    print(json.dumps(response.__dict__, indent=4, default=str))\n",
    "    reply = response.choices[0].message.content\n",
    "    #print(reply)\n",
    "    return get_result(reply)"
   ]
  },
  {
   "cell_type": "code",
   "execution_count": 102,
   "id": "d672fe37-7c6a-4a71-8e91-43fac7481df2",
   "metadata": {},
   "outputs": [
    {
     "data": {
      "text/plain": [
       "'How would you classify this sensor data - normal or anomalous?\\n\\n[{\"timestamp\": 1709344800, \"room\": \"bedroom\", \"nodeId\": 2, \"endpointId\": 1, \"attribute\": {\"OccupancySensing\": {\"Occupancy\": 1}}, \"datetime\": \"Sat Mar 02 2024 02:00:00\"}, {\"timestamp\": 1709345700, \"room\": \"bedroom\", \"nodeId\": 2, \"endpointId\": 2, \"attribute\": {\"TemperatureMeasurement\": {\"MeasuredValue\": 1900}}, \"datetime\": \"Sat Mar 02 2024 02:15:00\"}, {\"timestamp\": 1709349300, \"room\": \"bedroom\", \"nodeId\": 2, \"endpointId\": 2, \"attribute\": {\"TemperatureMeasurement\": {\"MeasuredValue\": 1900}}, \"datetime\": \"Sat Mar 02 2024 03:15:00\"}, {\"timestamp\": 1709352900, \"room\": \"bedroom\", \"nodeId\": 2, \"endpointId\": 2, \"attribute\": {\"TemperatureMeasurement\": {\"MeasuredValue\": 1900}}, \"datetime\": \"Sat Mar 02 2024 04:15:00\"}]\\n\\n\\nResult is anomalous'"
      ]
     },
     "execution_count": 102,
     "metadata": {},
     "output_type": "execute_result"
    }
   ],
   "source": [
    "test[0].prompt"
   ]
  },
  {
   "cell_type": "code",
   "execution_count": 103,
   "id": "18365a14-c482-4776-99de-0eb7d227ee4a",
   "metadata": {},
   "outputs": [
    {
     "name": "stdout",
     "output_type": "stream",
     "text": [
      "{\n",
      "    \"id\": \"chatcmpl-csa598jkCvw2dFKEHGsrHA\",\n",
      "    \"choices\": [\n",
      "        \"Choice(finish_reason=None, index=0, logprobs=None, message=ChatCompletionMessage(content='', refusal=None, role='assistant', audio=None, function_call=None, tool_calls=[]))\"\n",
      "    ],\n",
      "    \"created\": 1740929508,\n",
      "    \"model\": \"deepseek-ai/DeepSeek-R1\",\n",
      "    \"object\": \"chat.completion\",\n",
      "    \"service_tier\": null,\n",
      "    \"system_fingerprint\": null,\n",
      "    \"usage\": \"CompletionUsage(completion_tokens=0, prompt_tokens=361, total_tokens=361, completion_tokens_details=None, prompt_tokens_details=None)\",\n",
      "    \"_request_id\": null\n",
      "}\n",
      "None\n"
     ]
    }
   ],
   "source": [
    "print(deepseek_via_hyperbolic(test[0]))"
   ]
  },
  {
   "cell_type": "code",
   "execution_count": 49,
   "id": "7cc1c082-bda9-4d99-9e73-09b41c6e3201",
   "metadata": {},
   "outputs": [
    {
     "name": "stdout",
     "output_type": "stream",
     "text": [
      "\u001b[91m1: Guess: normal Truth: anomalous Error: True Item: [{\"timestamp\": 1738152000, \"room\": \"pill...\u001b[0m\n",
      "\u001b[91m2: Guess: normal Truth: anomalous Error: True Item: [{\"timestamp\": 1738695600, \"room\": \"bath...\u001b[0m\n",
      "\u001b[91m3: Guess: normal Truth: anomalous Error: True Item: [{\"timestamp\": 1738411200, \"room\": \"pill...\u001b[0m\n",
      "\u001b[91m4: Guess: normal Truth: anomalous Error: True Item: [{\"timestamp\": 1738843200, \"room\": \"pill...\u001b[0m\n",
      "\u001b[92m5: Guess: normal Truth: normal Error: False Item: [{\"timestamp\": 1738238400, \"room\": \"pill...\u001b[0m\n",
      "\u001b[92m6: Guess: normal Truth: normal Error: False Item: [{\"timestamp\": 1739078400, \"room\": \"bath...\u001b[0m\n",
      "\u001b[91m7: Guess: normal Truth: anomalous Error: True Item: [{\"timestamp\": 1738843200, \"room\": \"pill...\u001b[0m\n",
      "\u001b[91m8: Guess: normal Truth: anomalous Error: True Item: [{\"timestamp\": 1738627200, \"room\": \"livi...\u001b[0m\n",
      "\u001b[92m9: Guess: normal Truth: normal Error: False Item: [{\"timestamp\": 1738756800, \"room\": \"pill...\u001b[0m\n",
      "\u001b[92m10: Guess: normal Truth: normal Error: False Item: [{\"timestamp\": 1739203200, \"room\": \"bath...\u001b[0m\n",
      "\u001b[91m11: Guess: normal Truth: anomalous Error: True Item: [{\"timestamp\": 1739299200, \"room\": \"bedr...\u001b[0m\n",
      "\u001b[91m12: Guess: anomalous Truth: normal Error: True Item: [{\"timestamp\": 1738623600, \"room\": \"kitc...\u001b[0m\n",
      "\u001b[91m13: Guess: normal Truth: anomalous Error: True Item: [{\"timestamp\": 1738623600, \"room\": \"hall...\u001b[0m\n",
      "\u001b[92m14: Guess: anomalous Truth: anomalous Error: False Item: [{\"timestamp\": 1738634400, \"room\": \"bedr...\u001b[0m\n",
      "\u001b[91m15: Guess: normal Truth: anomalous Error: True Item: [{\"timestamp\": 1739299200, \"room\": \"bedr...\u001b[0m\n",
      "\u001b[92m16: Guess: normal Truth: normal Error: False Item: [{\"timestamp\": 1738722000, \"room\": \"kitc...\u001b[0m\n",
      "\u001b[91m17: Guess: normal Truth: anomalous Error: True Item: [{\"timestamp\": 1739385600, \"room\": \"bedr...\u001b[0m\n",
      "\u001b[92m18: Guess: normal Truth: normal Error: False Item: [{\"timestamp\": 1739107200, \"room\": \"kitc...\u001b[0m\n",
      "\u001b[92m19: Guess: normal Truth: normal Error: False Item: [{\"timestamp\": 1739203200, \"room\": \"bath...\u001b[0m\n",
      "\u001b[92m20: Guess: normal Truth: normal Error: False Item: [{\"timestamp\": 1738608000, \"room\": \"bedr...\u001b[0m\n",
      "\u001b[92m21: Guess: normal Truth: normal Error: False Item: [{\"timestamp\": 1738623600, \"room\": \"pill...\u001b[0m\n",
      "\u001b[91m22: Guess: normal Truth: anomalous Error: True Item: [{\"timestamp\": 1739336400, \"room\": \"bedr...\u001b[0m\n",
      "\u001b[92m23: Guess: normal Truth: normal Error: False Item: [{\"timestamp\": 1739203200, \"room\": \"bath...\u001b[0m\n",
      "\u001b[92m24: Guess: normal Truth: normal Error: False Item: [{\"timestamp\": 1738660800, \"room\": \"pill...\u001b[0m\n",
      "\u001b[91m25: Guess: normal Truth: anomalous Error: True Item: [{\"timestamp\": 1739128800, \"room\": \"bedr...\u001b[0m\n"
     ]
    },
    {
     "data": {
      "image/png": "[encoded data removed]",
      "text/plain": [
       "<Figure size 800x600 with 2 Axes>"
      ]
     },
     "metadata": {},
     "output_type": "display_data"
    }
   ],
   "source": [
    "# The function for testing deepseek via hyperbolic\n",
    "\n",
    "Tester.test(deepseek_via_hyperbolic, test)"
   ]
  },
  {
   "cell_type": "markdown",
   "id": "483d7da1-b1d2-4937-a06d-039ab88185f1",
   "metadata": {},
   "source": [
    "## We will know try to improve the Frontier Models chances\n",
    "\n",
    "### First the problem with timestamps and time reasoning"
   ]
  },
  {
   "cell_type": "code",
   "execution_count": 80,
   "id": "921f96ef-8ee9-4960-8d86-f15eab3b93a2",
   "metadata": {},
   "outputs": [
    {
     "name": "stdout",
     "output_type": "stream",
     "text": [
      "[{'role': 'system', 'content': 'You can control smart home sensor data in a smart home. The timezone here is GMT.'}, {'role': 'user', 'content': 'The unix timestamp is 1740833306. Should I turn on the lights?'}, {'role': 'assistant', 'content': 'The answer is: '}]\n"
     ]
    }
   ],
   "source": [
    "timestamp = 1740833306 # this is Sat Mar 01 2025 20:05:27 GMT+0000\n",
    "\n",
    "def make_prompt():\n",
    "    return [\n",
    "        {\"role\": \"system\", \"content\": \"You can control smart home sensor data in a smart home. The timezone here is GMT.\"},\n",
    "        {\"role\": \"user\", \"content\": f\"The unix timestamp is {timestamp}. Should I turn on the lights?\"},\n",
    "        {\"role\": \"assistant\", \"content\": \"The answer is: \"}\n",
    "    ]\n",
    "\n",
    "print(make_prompt())\n"
   ]
  },
  {
   "cell_type": "code",
   "execution_count": 81,
   "id": "ce6f668d-b7f6-4eeb-824d-204c30d0ff33",
   "metadata": {},
   "outputs": [],
   "source": [
    "response = openai.chat.completions.create(\n",
    "    model=\"gpt-4o-2024-08-06\", \n",
    "    messages=make_prompt(),\n",
    "    seed=42,\n",
    ")\n",
    "reply = response.choices[0].message.content"
   ]
  },
  {
   "cell_type": "code",
   "execution_count": 82,
   "id": "13810a19-8448-4a18-8797-3fa3bcb35629",
   "metadata": {},
   "outputs": [
    {
     "data": {
      "text/plain": [
       "\"To determine whether you should turn on the lights, first convert the given Unix timestamp to a human-readable date and time.\\n\\nThe Unix timestamp 1740833306 corresponds to:\\n- Date: Tuesday, June 30, 2025\\n- Time: 16:28:26 GMT\\n\\nNow, consider the current policies or conditions set for turning on the lights. Typically, lights are turned on when it's dark outside, which often means during nighttime or in dimly lit conditions. \\n\\nAt 16:28 GMT in late June, it is likely still daylight in many locations. Therefore, unless you have specific conditions or preferences for turning on the lights at this time, it might not be necessary. However, if it's been a cloudy day or there are specific needs for light, you can choose to turn them on based on personal or automated settings.\""
      ]
     },
     "execution_count": 82,
     "metadata": {},
     "output_type": "execute_result"
    }
   ],
   "source": [
    "reply"
   ]
  },
  {
   "cell_type": "code",
   "execution_count": 83,
   "id": "d2f2359a-d791-4440-815e-0d42d13ee35d",
   "metadata": {},
   "outputs": [
    {
     "name": "stdout",
     "output_type": "stream",
     "text": [
      "[{'role': 'system', 'content': 'You can control smart home sensor data in a smart home. The timezone here is GMT.'}, {'role': 'user', 'content': 'The time is Sat Mar 01 2025 20:05:27. Should I turn on the lights?'}, {'role': 'assistant', 'content': 'The answer is: '}]\n"
     ]
    }
   ],
   "source": [
    "#Lets look at the timestamp and use a readable time\n",
    "\n",
    "readabletime = \"Sat Mar 01 2025 20:05:27\"\n",
    " \n",
    "def make_prompt_with_time():\n",
    "    return [\n",
    "        {\"role\": \"system\", \"content\": \"You can control smart home sensor data in a smart home. The timezone here is GMT.\"},\n",
    "        {\"role\": \"user\", \"content\": f\"The time is {readabletime}. Should I turn on the lights?\"},\n",
    "        {\"role\": \"assistant\", \"content\": \"The answer is: \"}\n",
    "    ]\n",
    "\n",
    "print(make_prompt_with_time())"
   ]
  },
  {
   "cell_type": "code",
   "execution_count": 84,
   "id": "a5fe2d5c-15ef-43df-80fc-e33e12af923e",
   "metadata": {},
   "outputs": [],
   "source": [
    "response = openai.chat.completions.create(\n",
    "    model=\"gpt-4o-2024-08-06\", \n",
    "    messages=make_prompt_with_time(),\n",
    "    seed=42,\n",
    ")\n",
    "reply = response.choices[0].message.content"
   ]
  },
  {
   "cell_type": "code",
   "execution_count": 85,
   "id": "5971f6b8-e44e-453b-9b19-68bff50dcd85",
   "metadata": {},
   "outputs": [
    {
     "data": {
      "text/plain": [
       "\"It depends on your preferences and the natural lighting in your area at that time. At 8:05 PM in early March, it's likely to be dark outside, so you may want to turn on the lights for visibility and comfort. If you have any automated settings or preferences for when the lights come on, you might also consider those.\""
      ]
     },
     "execution_count": 85,
     "metadata": {},
     "output_type": "execute_result"
    }
   ],
   "source": [
    "reply"
   ]
  },
  {
   "cell_type": "markdown",
   "id": "3a595839-1530-42dd-a4f1-6975ba1eb526",
   "metadata": {},
   "source": [
    "## Assess the Situation not the logs"
   ]
  },
  {
   "cell_type": "code",
   "execution_count": 86,
   "id": "7b8e8ca6-59de-46e2-865a-c0ddf2df5c1a",
   "metadata": {},
   "outputs": [],
   "source": [
    "from datetime import datetime\n",
    "TIMEZONE = datetime.now().astimezone().tzinfo\n",
    "\n",
    "SYSTEM_PROMPT = f\"The timezone here is {str(TIMEZONE)}. \"\n",
    "SYSTEM_PROMPT += \"\"\"Your task is to analyze log entries from home sensors from a home occupied by an elderly person by providing a human-readable scenario. Generate a neutral narrative that describes what occurred during that period. Important: The narrative must describe the events in relation to the person without any judgment about whether they are normal or anomalous. \n",
    "\n",
    "Ensure the output includes a description which is A concise, neutral summary (4-5 sentences) of the events that took place during the hour. This description should detail the observed movement patterns and sensor events without implying any evaluation.\n",
    "\n",
    "Important rules:\n",
    "\n",
    "Do not include any evaluative or judgmental language in the situation description. The narrative should allow a human or another LLM to independently assess whether the events are typical for an elderly person in the house.\n",
    "When describing movements and events, you should mention human readable times of these movements and events but ensure that times used are consistent with the provided start and end timestamps.\n",
    "The events that are described should be related to the person not the smart device\n",
    "\n",
    "The output format must be a string\n",
    "\n",
    "\"\"\"\n",
    "\n",
    "USER_PROMPT_PREFIX = \"\"\"Analyze the following block of log entries and create a neutral, human-readable scenario description of the events observed. \n",
    "Your description should summarize the recorded movement patterns in 4-5 clear sentences without including any evaluative language regarding whether the movement is \n",
    "typical or atypical. \n",
    "Here are the log entries:\n",
    "\n",
    "\"\"\"\n"
   ]
  },
  {
   "cell_type": "code",
   "execution_count": 87,
   "id": "dfc3f49e-8fae-48f0-91a9-b041eee71dd7",
   "metadata": {},
   "outputs": [
    {
     "data": {
      "text/plain": [
       "'The timezone here is GMT. Your task is to analyze log entries from home sensors from a home occupied by an elderly person by providing a human-readable scenario. Generate a neutral narrative that describes what occurred during that period. Important: The narrative must describe the events in relation to the person without any judgment about whether they are normal or anomalous. \\n\\nEnsure the output includes a description which is A concise, neutral summary (4-5 sentences) of the events that took place during the hour. This description should detail the observed movement patterns and sensor events without implying any evaluation.\\n\\nImportant rules:\\n\\nDo not include any evaluative or judgmental language in the situation description. The narrative should allow a human or another LLM to independently assess whether the events are typical for an elderly person in the house.\\nWhen describing movements and events, you should mention human readable times of these movements and events but ensure that times used are consistent with the provided start and end timestamps.\\nThe events that are described should be related to the person not the smart device\\n\\nThe output format must be a string\\n\\n'"
      ]
     },
     "execution_count": 87,
     "metadata": {},
     "output_type": "execute_result"
    }
   ],
   "source": [
    "SYSTEM_PROMPT"
   ]
  },
  {
   "cell_type": "code",
   "execution_count": 88,
   "id": "1e3d86ae-6313-4f6e-b747-f414810528cd",
   "metadata": {},
   "outputs": [],
   "source": [
    "def make_user_prompt(item) -> str:\n",
    "    \"\"\"\n",
    "    Create a user prompt for OpenAI based on the scraped deals provided\n",
    "    \"\"\"\n",
    "    user_prompt = USER_PROMPT_PREFIX\n",
    "    user_prompt += item.details\n",
    "    return user_prompt"
   ]
  },
  {
   "cell_type": "code",
   "execution_count": 89,
   "id": "d0290c16-f7cd-48b6-abf6-ab17bcfd89ce",
   "metadata": {},
   "outputs": [
    {
     "data": {
      "text/plain": [
       "'Analyze the following block of log entries and create a neutral, human-readable scenario description of the events observed. \\nYour description should summarize the recorded movement patterns in 4-5 clear sentences without including any evaluative language regarding whether the movement is \\ntypical or atypical. \\nHere are the log entries:\\n\\n[{\"timestamp\": 1709344800, \"room\": \"bedroom\", \"nodeId\": 2, \"endpointId\": 1, \"attribute\": {\"OccupancySensing\": {\"Occupancy\": 1}}, \"datetime\": \"Sat Mar 02 2024 02:00:00\"}, {\"timestamp\": 1709345700, \"room\": \"bedroom\", \"nodeId\": 2, \"endpointId\": 2, \"attribute\": {\"TemperatureMeasurement\": {\"MeasuredValue\": 1900}}, \"datetime\": \"Sat Mar 02 2024 02:15:00\"}, {\"timestamp\": 1709349300, \"room\": \"bedroom\", \"nodeId\": 2, \"endpointId\": 2, \"attribute\": {\"TemperatureMeasurement\": {\"MeasuredValue\": 1900}}, \"datetime\": \"Sat Mar 02 2024 03:15:00\"}, {\"timestamp\": 1709352900, \"room\": \"bedroom\", \"nodeId\": 2, \"endpointId\": 2, \"attribute\": {\"TemperatureMeasurement\": {\"MeasuredValue\": 1900}}, \"datetime\": \"Sat Mar 02 2024 04:15:00\"}]\\n'"
      ]
     },
     "execution_count": 89,
     "metadata": {},
     "output_type": "execute_result"
    }
   ],
   "source": [
    "make_user_prompt(test[0])"
   ]
  },
  {
   "cell_type": "code",
   "execution_count": 92,
   "id": "25edf466-04d1-431b-a7cb-ebd9b32ae5a6",
   "metadata": {},
   "outputs": [],
   "source": [
    "def messages_for_description(item):\n",
    "    system_message = \"You look for normal and anomalous situations in smart home sensor data in an elderly persons home. Reply only with the word normal or anomalous, no explanation. You should consider the timing of the events and whether this is typical for an elderly person. You must also consider the time between the events and the sequencing of the events to check if they are normal for an elderly person\"\n",
    "    user_prompt = make_user_prompt(item) \n",
    "    return [\n",
    "        {\"role\": \"system\", \"content\": system_message},\n",
    "        {\"role\": \"user\", \"content\": user_prompt},\n",
    "        {\"role\": \"assistant\", \"content\": \"Result is \"}\n",
    "    ]"
   ]
  },
  {
   "cell_type": "code",
   "execution_count": 93,
   "id": "182389be-3b19-4d94-a93f-6aceac32afc5",
   "metadata": {},
   "outputs": [
    {
     "data": {
      "text/plain": [
       "[{'role': 'system',\n",
       "  'content': 'You look for normal and anomalous situations in smart home sensor data in an elderly persons home. Reply only with the word normal or anomalous, no explanation. You should consider the timing of the events and whether this is typical for an elderly person. You must also consider the time between the events and the sequencing of the events to check if they are normal for an elderly person'},\n",
       " {'role': 'user',\n",
       "  'content': 'Analyze the following block of log entries and create a neutral, human-readable scenario description of the events observed. \\nYour description should summarize the recorded movement patterns in 4-5 clear sentences without including any evaluative language regarding whether the movement is \\ntypical or atypical. \\nHere are the log entries:\\n\\n[{\"timestamp\": 1709344800, \"room\": \"bedroom\", \"nodeId\": 2, \"endpointId\": 1, \"attribute\": {\"OccupancySensing\": {\"Occupancy\": 1}}, \"datetime\": \"Sat Mar 02 2024 02:00:00\"}, {\"timestamp\": 1709345700, \"room\": \"bedroom\", \"nodeId\": 2, \"endpointId\": 2, \"attribute\": {\"TemperatureMeasurement\": {\"MeasuredValue\": 1900}}, \"datetime\": \"Sat Mar 02 2024 02:15:00\"}, {\"timestamp\": 1709349300, \"room\": \"bedroom\", \"nodeId\": 2, \"endpointId\": 2, \"attribute\": {\"TemperatureMeasurement\": {\"MeasuredValue\": 1900}}, \"datetime\": \"Sat Mar 02 2024 03:15:00\"}, {\"timestamp\": 1709352900, \"room\": \"bedroom\", \"nodeId\": 2, \"endpointId\": 2, \"attribute\": {\"TemperatureMeasurement\": {\"MeasuredValue\": 1900}}, \"datetime\": \"Sat Mar 02 2024 04:15:00\"}]\\n'},\n",
       " {'role': 'assistant', 'content': 'Result is '}]"
      ]
     },
     "execution_count": 93,
     "metadata": {},
     "output_type": "execute_result"
    }
   ],
   "source": [
    "messages_for_description(test[0])"
   ]
  },
  {
   "cell_type": "code",
   "execution_count": 94,
   "id": "df12fcf8-e116-4f2b-ad44-8f4a34cf0d1f",
   "metadata": {},
   "outputs": [],
   "source": [
    "def gpt_4o_frontier_get_situation(item):\n",
    " \n",
    "    response = openai.chat.completions.create(\n",
    "        model=\"gpt-4o-2024-08-06\", \n",
    "        messages=messages_for_description(item),\n",
    "        seed=42,\n",
    "        max_tokens=500\n",
    "    )\n",
    "    reply = response.choices[0].message.content\n",
    "    return reply"
   ]
  },
  {
   "cell_type": "code",
   "execution_count": 95,
   "id": "225d4f1f-4268-4810-8790-a70a236e5f90",
   "metadata": {},
   "outputs": [],
   "source": [
    "situation = gpt_4o_frontier_get_situation(test[0])"
   ]
  },
  {
   "cell_type": "code",
   "execution_count": 96,
   "id": "e6f50784-c7b5-4f83-9b26-4e2504773c79",
   "metadata": {},
   "outputs": [],
   "source": [
    "def messages_with_description_and_time(item):    \n",
    "    system_message = \"You look for normal and anomalous situations in smart home sensor data in an elderly persons home. Reply only with the word normal or anomalous, no explanation. You should consider the timing of the events and whether this is typical for an elderly person. You must also consider the time between the events and the sequencing of the events to check if they are normal for an elderly person\"\n",
    "    user_prompt = item.test_prompt().replace(\"\\n\\nResult is \",\"\")\n",
    "    user_prompt += \"A human readable description of this situation is as follows:\\n\\n\" + situation\n",
    "    return [\n",
    "        {\"role\": \"system\", \"content\": system_message},\n",
    "        {\"role\": \"user\", \"content\": user_prompt},\n",
    "        {\"role\": \"assistant\", \"content\": \"Result is \"}\n",
    "    ]"
   ]
  },
  {
   "cell_type": "code",
   "execution_count": 97,
   "id": "514c052a-73be-4218-a771-a163588a68c2",
   "metadata": {},
   "outputs": [
    {
     "data": {
      "text/plain": [
       "[{'role': 'system',\n",
       "  'content': 'You look for normal and anomalous situations in smart home sensor data in an elderly persons home. Reply only with the word normal or anomalous, no explanation. You should consider the timing of the events and whether this is typical for an elderly person. You must also consider the time between the events and the sequencing of the events to check if they are normal for an elderly person'},\n",
       " {'role': 'user',\n",
       "  'content': 'How would you classify this sensor data - normal or anomalous?\\n\\n[{\"timestamp\": 1709344800, \"room\": \"bedroom\", \"nodeId\": 2, \"endpointId\": 1, \"attribute\": {\"OccupancySensing\": {\"Occupancy\": 1}}, \"datetime\": \"Sat Mar 02 2024 02:00:00\"}, {\"timestamp\": 1709345700, \"room\": \"bedroom\", \"nodeId\": 2, \"endpointId\": 2, \"attribute\": {\"TemperatureMeasurement\": {\"MeasuredValue\": 1900}}, \"datetime\": \"Sat Mar 02 2024 02:15:00\"}, {\"timestamp\": 1709349300, \"room\": \"bedroom\", \"nodeId\": 2, \"endpointId\": 2, \"attribute\": {\"TemperatureMeasurement\": {\"MeasuredValue\": 1900}}, \"datetime\": \"Sat Mar 02 2024 03:15:00\"}, {\"timestamp\": 1709352900, \"room\": \"bedroom\", \"nodeId\": 2, \"endpointId\": 2, \"attribute\": {\"TemperatureMeasurement\": {\"MeasuredValue\": 1900}}, \"datetime\": \"Sat Mar 02 2024 04:15:00\"}]\\nA human readable description of this situation is as follows:\\n\\nnormal'},\n",
       " {'role': 'assistant', 'content': 'Result is '}]"
      ]
     },
     "execution_count": 97,
     "metadata": {},
     "output_type": "execute_result"
    }
   ],
   "source": [
    "messages_with_description_and_time(test[0])"
   ]
  },
  {
   "cell_type": "code",
   "execution_count": 98,
   "id": "e8be0d2b-70d4-42ed-97dc-0e69f11bbceb",
   "metadata": {},
   "outputs": [],
   "source": [
    "def gpt_4o_frontier_with_description_and_time(item):\n",
    "    response = openai.chat.completions.create(\n",
    "        model=\"gpt-4o-2024-08-06\", \n",
    "        messages=messages_with_description_and_time(item),\n",
    "        seed=42,\n",
    "        max_tokens=5\n",
    "    )\n",
    "    reply = response.choices[0].message.content\n",
    "    return get_result(reply)"
   ]
  },
  {
   "cell_type": "code",
   "execution_count": 99,
   "id": "e518847e-6a91-43cc-a28f-35f9e4c4af53",
   "metadata": {},
   "outputs": [
    {
     "data": {
      "text/plain": [
       "'normal'"
      ]
     },
     "execution_count": 99,
     "metadata": {},
     "output_type": "execute_result"
    }
   ],
   "source": [
    "gpt_4o_frontier_with_description_and_time(test[0])"
   ]
  },
  {
   "cell_type": "code",
   "execution_count": 100,
   "id": "9097907e-6468-41dc-8312-9ae901c29b13",
   "metadata": {},
   "outputs": [
    {
     "name": "stdout",
     "output_type": "stream",
     "text": [
      "\u001b[91m1: Guess: normal Truth: anomalous Error: True Item: [{\"timestamp\": 1709344800, \"room\": \"bedr...\u001b[0m\n",
      "\u001b[92m2: Guess: normal Truth: normal Error: False Item: [{\"timestamp\": 1738072800, \"room\": \"livi...\u001b[0m\n",
      "\u001b[92m3: Guess: normal Truth: normal Error: False Item: [{\"timestamp\": 1709413200, \"room\": \"livi...\u001b[0m\n",
      "\u001b[92m4: Guess: anomalous Truth: anomalous Error: False Item: [{\"timestamp\": 1740553200, \"datetime\": \"...\u001b[0m\n",
      "\u001b[92m5: Guess: anomalous Truth: anomalous Error: False Item: [{\"timestamp\": 1709247600, \"room\": \"livi...\u001b[0m\n",
      "\u001b[92m6: Guess: normal Truth: normal Error: False Item: [{\"timestamp\": 1709294400, \"room\": \"livi...\u001b[0m\n",
      "\u001b[91m7: Guess: normal Truth: anomalous Error: True Item: [{\"timestamp\": 1741086000, \"room\": \"bath...\u001b[0m\n",
      "\u001b[91m8: Guess: normal Truth: anomalous Error: True Item: [{\"timestamp\": 1740560400, \"datetime\": \"...\u001b[0m\n",
      "\u001b[92m9: Guess: normal Truth: normal Error: False Item: [{\"timestamp\": 1741269600, \"datetime\": \"...\u001b[0m\n",
      "\u001b[91m10: Guess: normal Truth: anomalous Error: True Item: [{\"timestamp\": 1741262400, \"datetime\": \"...\u001b[0m\n",
      "\u001b[92m11: Guess: normal Truth: normal Error: False Item: [{\"timestamp\": 1709298000, \"room\": \"kitc...\u001b[0m\n",
      "\u001b[92m12: Guess: normal Truth: normal Error: False Item: [{\"timestamp\": 1709413200, \"room\": \"livi...\u001b[0m\n",
      "\u001b[92m13: Guess: normal Truth: normal Error: False Item: [{\"timestamp\": 1709391600, \"room\": \"kitc...\u001b[0m\n",
      "\u001b[92m14: Guess: normal Truth: normal Error: False Item: [{\"timestamp\": 1709308800, \"room\": \"livi...\u001b[0m\n",
      "\u001b[92m15: Guess: normal Truth: normal Error: False Item: [{\"timestamp\": 1740618000, \"datetime\": \"...\u001b[0m\n",
      "\u001b[92m16: Guess: normal Truth: normal Error: False Item: [{\"timestamp\": 1709391600, \"room\": \"kitc...\u001b[0m\n",
      "\u001b[92m17: Guess: normal Truth: normal Error: False Item: [{\"timestamp\": 1709320800, \"room\": \"livi...\u001b[0m\n",
      "\u001b[92m18: Guess: anomalous Truth: anomalous Error: False Item: [{\"timestamp\": 1741082100, \"room\": \"hall...\u001b[0m\n"
     ]
    },
    {
     "data": {
      "image/png": "[encoded data removed]",
      "text/plain": [
       "<Figure size 800x600 with 2 Axes>"
      ]
     },
     "metadata": {},
     "output_type": "display_data"
    }
   ],
   "source": [
    "Tester.test(gpt_4o_frontier_with_description_and_time, test)"
   ]
  },
  {
   "cell_type": "code",
   "execution_count": null,
   "id": "7e7afc92-5c35-4b21-9a98-b9e0dbfc12c8",
   "metadata": {},
   "outputs": [],
   "source": []
  }
 ],
 "metadata": {
  "kernelspec": {
   "display_name": "Python 3 (ipykernel)",
   "language": "python",
   "name": "python3"
  },
  "language_info": {
   "codemirror_mode": {
    "name": "ipython",
    "version": 3
   },
   "file_extension": ".py",
   "mimetype": "text/x-python",
   "name": "python",
   "nbconvert_exporter": "python",
   "pygments_lexer": "ipython3",
   "version": "3.12.3"
  }
 },
 "nbformat": 4,
 "nbformat_minor": 5
}
