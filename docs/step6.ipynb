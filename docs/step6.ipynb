{
 "cells": [
  {
   "cell_type": "markdown",
   "id": "db8736a7-ed94-441c-9556-831fa57b5a10",
   "metadata": {},
   "source": [
    "# The Caring Home / Helpful Home Continued\n",
    "\n",
    "A model that can look for non normal situations in a elderly person home, from smart home IoT sensors.\n",
    "\n",
    "## Use AI to scan log file\n",
    "\n",
    "We will introduce a concept of Structured Responses!!"
   ]
  },
  {
   "cell_type": "code",
   "execution_count": 1,
   "id": "681c717b-4c24-4ac3-a5f3-3c5881d6e70a",
   "metadata": {},
   "outputs": [],
   "source": [
    "# imports\n",
    "\n",
    "import os\n",
    "import sys\n",
    "import json\n",
    "import re\n",
    "from typing import Optional, List\n",
    "from openai import OpenAI\n",
    "from datetime import datetime, timedelta\n",
    "from dotenv import load_dotenv\n"
   ]
  },
  {
   "cell_type": "code",
   "execution_count": 2,
   "id": "36d05bdc-0155-4c72-a7ee-aa4e614ffd3c",
   "metadata": {},
   "outputs": [],
   "source": [
    "# environment\n",
    "\n",
    "load_dotenv()\n",
    "os.environ['OPENAI_API_KEY'] = os.getenv('OPENAI_API_KEY', 'your-key-if-not-using-env')\n",
    "os.environ['ANTHROPIC_API_KEY'] = os.getenv('ANTHROPIC_API_KEY', 'your-key-if-not-using-env')\n",
    "os.environ['OPENROUTER_API_KEY'] = os.getenv('OPENROUTER_API_KEY', 'your-key-if-not-using-env')\n",
    "os.environ['HYPERBOLIC_API_KEY'] = os.getenv('HYPERBOLIC_API_KEY', 'your-key-if-not-using-env')\n",
    "os.environ['HF_TOKEN'] = os.getenv('HF_TOKEN', 'your-key-if-not-using-env')"
   ]
  },
  {
   "cell_type": "code",
   "execution_count": 3,
   "id": "b0a6fb86-74a4-403c-ab25-6db2d74e9d2b",
   "metadata": {},
   "outputs": [],
   "source": [
    "openai = OpenAI()\n"
   ]
  },
  {
   "cell_type": "code",
   "execution_count": 4,
   "id": "94a23fa1-798c-423a-94fc-5d885bc915fc",
   "metadata": {},
   "outputs": [],
   "source": [
    "# Get the root project directory (one level up from the docs folder)\n",
    "root_project_path = os.path.abspath(os.path.join(os.getcwd(), \"..\"))\n",
    "\n",
    "# Add the src folder to the path\n",
    "sys.path.insert(0, os.path.join(root_project_path, \"src\"))"
   ]
  },
  {
   "cell_type": "code",
   "execution_count": 5,
   "id": "969cf719-9d7e-4e56-a688-3ea499fcc770",
   "metadata": {},
   "outputs": [],
   "source": [
    "from agents.situations import LoadedSituation, SituationSelection\n",
    "from agents.agent import Agent\n"
   ]
  },
  {
   "cell_type": "code",
   "execution_count": 6,
   "id": "9d772f5c-4454-44eb-99ee-6cd8774bc4e2",
   "metadata": {},
   "outputs": [],
   "source": [
    "TIMEZONE = datetime.now().astimezone().tzinfo\n",
    "\n",
    "SYSTEM_PROMPT = f\"The timezone here is {str(TIMEZONE)}. \"\n",
    "SYSTEM_PROMPT += \"\"\"Your task is to analyze log entries from home sensors and identify the most important situation involving an elderly person's movements that may require monitoring. You should:  \n",
    "\n",
    "1. Select the situations with the most unusual, non-typical, or potentially concerning movement patterns.  \n",
    "2. Return either a \"normal\" or \"anomalous\" result, strictly when confident.  \n",
    "3. Ensure the structured output includes:  \n",
    "- \"situation_description\": A concise and clear summary of the situation in 4-5 sentences. Focus solely on describing events and their significance.  \n",
    "- \"result\": Either \"normal\" or \"anomalous\".  \n",
    "- \"start_timestamp\" and \"end_timestamp\": Exact timestamps from the logs marking the situation’s beginning and end.  \n",
    "- \"details\": a list of log entries that describe the situation that occured between the identified start and end timestamps. Each log entry should include the original details such as {\"timestamp\": 1737900000, \"room\": \"pillbox\", \"nodeId\": 1, \"onOff\": true}\n",
    "\n",
    "**Important rules:**  \n",
    "\n",
    "- Do not mention specific times or dates in the situation description unless they are fully aligned with the given start and end timestamps.  \n",
    "- If times are included, ensure they match the provided start and end timestamps after conversion to human-readable format.  \n",
    "- Respond only when highly confident about the situation's result and timestamp accuracy.  \n",
    "- When returning the details of the situation, ensure that the log entries are escaped appropriately to allow these events to be easily parsed into json.\n",
    "- Only include 1 situation in the response.\n",
    "\n",
    "The output format should strictly be:  \n",
    "\n",
    "{\n",
    "\"situations\": [\n",
    "{\n",
    "  \"situation_description\": \"Summary of the most concerning situation based only on log events.\",\n",
    "  \"result\": \"normal | anomalous\",\n",
    "  \"start_timestamp\": \"exact log entry timestamp marking the start\",\n",
    "  \"end_timestamp\": \"exact log entry timestamp marking the end\",\n",
    "  \"details\": \"list of log entries that relate to this situation\"\n",
    "}\n",
    "]\n",
    "}\n",
    "\"\"\"\n",
    "\n",
    "USER_PROMPT_PREFIX = \"\"\"Analyze the following 6-hour block of log entries. Identify the most unusual or concerning movement of the elderly person. Summarize the situation concisely and ensure all timestamps in the response are correct and consistent.\n",
    "Do not mention timestamps in the situation description unless they align precisely with the provided start and end timestamps.\n",
    "Here are the log entries:\n",
    "\n",
    "\"\"\"\n",
    "\n",
    "USER_PROMPT_SUFFIX = \"\\n\\nStrictly respond in valid JSON format, and only JSON and include exactly 1 situation, no more.\"\n",
    "\n"
   ]
  },
  {
   "cell_type": "code",
   "execution_count": 7,
   "id": "d5d74092-2800-49b3-bcc5-253dcb46a4cd",
   "metadata": {},
   "outputs": [],
   "source": [
    "filename = \"data/daily_routine_data.json\"\n",
    "\n",
    "INVESTIGATON_PERIOD_IN_HOURS = 6\n",
    "\n",
    "def parse():\n",
    "    \"\"\"\n",
    "    Parse the input file and group events by a 6-hour window.\n",
    "    \"\"\"\n",
    "    if not os.path.exists(filename):\n",
    "        return []\n",
    "\n",
    "    with open(filename, 'r') as file:\n",
    "        # Load and sort events by timestamp\n",
    "        try:\n",
    "            events = [json.loads(line) for line in file]\n",
    "        except json.JSONDecodeError:\n",
    "            print(\"error\")\n",
    "            return []\n",
    "\n",
    "        events.sort(key=lambda x: datetime.fromtimestamp(x[\"timestamp\"]))\n",
    "    \n",
    "        grouped = []\n",
    "        window_start = None\n",
    "        buffer = []\n",
    "    \n",
    "        # Group events in 6-hour windows\n",
    "        for event in events:\n",
    "            event_time = datetime.fromtimestamp(event[\"timestamp\"])\n",
    "            \n",
    "            # Start or reset grouping window\n",
    "            if window_start is None or event_time > window_start + timedelta(hours=INVESTIGATON_PERIOD_IN_HOURS):\n",
    "                if buffer:\n",
    "                    grouped.append({\"details\": buffer.copy()})\n",
    "                buffer.clear()\n",
    "                window_start = event_time\n",
    "    \n",
    "            buffer.append(event)\n",
    "    \n",
    "        # Append any remaining events in the buffer\n",
    "        if buffer:\n",
    "            grouped.append({\"details\": buffer})\n",
    "\n",
    "        return grouped\n",
    "\n",
    "    return []\n"
   ]
  },
  {
   "cell_type": "code",
   "execution_count": 8,
   "id": "e40ce05f-66c4-4c46-8e88-60d990f4aa82",
   "metadata": {},
   "outputs": [
    {
     "name": "stdout",
     "output_type": "stream",
     "text": [
      "\n"
     ]
    }
   ],
   "source": [
    "loaded = parse()\n",
    "print('\\n\\n'.join([json.dumps(situation) for situation in loaded]))"
   ]
  },
  {
   "cell_type": "code",
   "execution_count": 9,
   "id": "a16202ab-037f-4eb7-b07e-df0dd6aab858",
   "metadata": {},
   "outputs": [],
   "source": [
    "def make_user_prompt(loaded) -> str:\n",
    "    \"\"\"\n",
    "    Create a user prompt for OpenAI based on the scraped deals provided\n",
    "    \"\"\"\n",
    "    user_prompt = USER_PROMPT_PREFIX\n",
    "    user_prompt += '\\n\\n'.join([json.dumps(situation) for situation in loaded])\n",
    "    user_prompt += USER_PROMPT_SUFFIX\n",
    "    return user_prompt"
   ]
  },
  {
   "cell_type": "code",
   "execution_count": 10,
   "id": "31edf67b-7a7f-4b87-a97a-c096e0e3c678",
   "metadata": {},
   "outputs": [
    {
     "data": {
      "text/plain": [
       "'Analyze the following 6-hour block of log entries. Identify the most unusual or concerning movement of the elderly person. Summarize the situation concisely and ensure all timestamps in the response are correct and consistent.\\nDo not mention timestamps in the situation description unless they align precisely with the provided start and end timestamps.\\nHere are the log entries:\\n\\n\\n\\nStrictly respond in valid JSON format, and only JSON and include exactly 1 situation, no more.'"
      ]
     },
     "execution_count": 10,
     "metadata": {},
     "output_type": "execute_result"
    }
   ],
   "source": [
    "make_user_prompt(loaded)"
   ]
  },
  {
   "cell_type": "markdown",
   "id": "e53211f3-4c43-4583-9798-fe853b86e98a",
   "metadata": {},
   "source": [
    "\n",
    "## Structure Response using Pydantic Classes\n",
    "We need this to tell how the LLM should respond with Structured Responses!!"
   ]
  },
  {
   "cell_type": "code",
   "execution_count": 11,
   "id": "fed2222b-4a3b-4b6d-bcab-c0dad070dc93",
   "metadata": {},
   "outputs": [],
   "source": [
    "from pydantic import BaseModel\n",
    "\n",
    "\n",
    "class Situation(BaseModel):\n",
    "    \"\"\"\n",
    "    A class to Represent a Situation with a summary description\n",
    "    \"\"\"\n",
    "    situation_description: str\n",
    "    result: str\n",
    "    start_timestamp: int\n",
    "    end_timestamp: int\n",
    "    details: List[str]\n",
    "\n",
    "class SituationSelection(BaseModel):\n",
    "    \"\"\"\n",
    "    A class to Represent a list of Situations\n",
    "    \"\"\"\n",
    "    situations: List[Situation]\n",
    "\n",
    "class Investigation(BaseModel):\n",
    "    \"\"\"\n",
    "    A class to represent a possible situation: a Situation where we estimate\n",
    "    it could be anomalous\n",
    "    \"\"\"\n",
    "    situation: Situation\n",
    "    estimate: str\n"
   ]
  },
  {
   "cell_type": "code",
   "execution_count": 12,
   "id": "9ec53b8d-add0-4c77-9073-870444e125c1",
   "metadata": {},
   "outputs": [],
   "source": [
    "result = openai.beta.chat.completions.parse(\n",
    "    model=\"gpt-4o-mini\",\n",
    "    messages=[\n",
    "        {\"role\": \"system\", \"content\": SYSTEM_PROMPT},\n",
    "        {\"role\": \"user\", \"content\": make_user_prompt(loaded)}\n",
    "    ],\n",
    "    seed=42,\n",
    "    response_format=SituationSelection\n",
    ")\n",
    "\n",
    "result = result.choices[0].message.parsed\n",
    "result.situations = [situation for situation in result.situations if situation.result is not None]"
   ]
  },
  {
   "cell_type": "code",
   "execution_count": 13,
   "id": "3c385191-080e-4041-a82f-b2b71e256e2f",
   "metadata": {},
   "outputs": [
    {
     "name": "stdout",
     "output_type": "stream",
     "text": [
      "situations=[Situation(situation_description=\"The elderly person exhibited unusual movement patterns by frequently moving between their bedroom and the bathroom with minimal intervals between departures. There were instances of prolonged inactivity in the bedroom followed by rapid movements that could indicate disorientation or other concerning health issues. This pattern raises concerns about the person's safety and may require further monitoring to ensure their well-being.\", result='anomalous', start_timestamp=1737900000, end_timestamp=1737903600, details=['{\"timestamp\": 1737900000, \"room\": \"bedroom\", \"nodeId\": 1, \"onOff\": true}', '{\"timestamp\": 1737900300, \"room\": \"bathroom\", \"nodeId\": 2, \"onOff\": true}', '{\"timestamp\": 1737900600, \"room\": \"bedroom\", \"nodeId\": 1, \"onOff\": true}', '{\"timestamp\": 1737900900, \"room\": \"bathroom\", \"nodeId\": 2, \"onOff\": true}', '{\"timestamp\": 1737901200, \"room\": \"bedroom\", \"nodeId\": 1, \"onOff\": true}', '{\"timestamp\": 1737901500, \"room\": \"bathroom\", \"nodeId\": 2, \"onOff\": true}', '{\"timestamp\": 1737901800, \"room\": \"bedroom\", \"nodeId\": 1, \"onOff\": true}', '{\"timestamp\": 1737902100, \"room\": \"bathroom\", \"nodeId\": 2, \"onOff\": true}', '{\"timestamp\": 1737902400, \"room\": \"bedroom\", \"nodeId\": 1, \"onOff\": true}', '{\"timestamp\": 1737902700, \"room\": \"bathroom\", \"nodeId\": 2, \"onOff\": true}', '{\"timestamp\": 1737903000, \"room\": \"bedroom\", \"nodeId\": 1, \"onOff\": true}', '{\"timestamp\": 1737903300, \"room\": \"bathroom\", \"nodeId\": 2, \"onOff\": true}'])]\n"
     ]
    }
   ],
   "source": [
    "print(result)"
   ]
  },
  {
   "cell_type": "code",
   "execution_count": null,
   "id": "3829b078-29e7-411f-9ef1-3c8d8ba6b5c5",
   "metadata": {},
   "outputs": [],
   "source": []
  }
 ],
 "metadata": {
  "kernelspec": {
   "display_name": "Python 3 (ipykernel)",
   "language": "python",
   "name": "python3"
  },
  "language_info": {
   "codemirror_mode": {
    "name": "ipython",
    "version": 3
   },
   "file_extension": ".py",
   "mimetype": "text/x-python",
   "name": "python",
   "nbconvert_exporter": "python",
   "pygments_lexer": "ipython3",
   "version": "3.12.3"
  }
 },
 "nbformat": 4,
 "nbformat_minor": 5
}
